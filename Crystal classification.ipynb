{
 "cells": [
  {
   "cell_type": "markdown",
   "id": "db6d1e9f",
   "metadata": {},
   "source": [
    "**DATA PROCESSING**"
   ]
  },
  {
   "cell_type": "code",
   "execution_count": 1,
   "id": "88c44f52",
   "metadata": {},
   "outputs": [],
   "source": [
    "#all libraries\n",
    "import pandas as pd\n",
    "from sklearn.datasets import make_blobs\n",
    "from sklearn import model_selection\n",
    "from sklearn import svm\n",
    "import numpy as np\n",
    "import matplotlib.pyplot as plt\n",
    "from scipy import stats\n",
    "from imblearn.over_sampling import SMOTE\n",
    "from collections import Counter\n",
    "from sklearn.metrics import confusion_matrix\n",
    "import sklearn.datasets as datasets\n",
    "from sklearn.metrics import classification_report as report\n",
    "from sklearn.datasets import make_classification\n",
    "from numpy import argmax\n",
    "from sklearn import metrics\n",
    "from imblearn.over_sampling import SVMSMOTE"
   ]
  },
  {
   "cell_type": "code",
   "execution_count": 2,
   "id": "50cd4bbd",
   "metadata": {},
   "outputs": [],
   "source": [
    "#readings data and labelling colums\n",
    "df = pd.read_csv(\"data.csv\",names=[\"Chemical_formula\",\"A\",\"B\",\"In_literature\",\"Valence_A\",\"Valence_B\",\"Radius_A\",\"Radius_B\",\"Lowest_distortion\",\"Formation_energy\",\"Stability\",\"Magnetic_moment\",\"Volume_per_atom\",\"Band_gap\",\"a\",\"b\",\"c\",\"alpha\",\"beta\",\"gamma\",\"Vacancy_energy\"])"
   ]
  },
  {
   "cell_type": "code",
   "execution_count": 3,
   "id": "ca598ce7",
   "metadata": {},
   "outputs": [],
   "source": [
    "#removing faulty data and replacing strings with a esier convetion\n",
    "df.drop(df.index[(df[\"Valence_B\"] == \"5\")],axis=0,inplace=True)\n",
    "df.drop(df.index[(df[\"Valence_A\"] == \"5\")],axis=0,inplace=True)\n",
    "df.drop(df.index[(df[\"Valence_B\"] == \"4\")],axis=0,inplace=True)\n",
    "df.drop(df.index[(df[\"Valence_A\"] == \"4\")],axis=0,inplace=True)\n",
    "df.drop(df.index[(df[\"Valence_A\"] == \"element not in BV\")],axis=0,inplace=True)\n",
    "df.drop(df.index[(df[\"Valence_B\"] == \"element not in BV\")],axis=0,inplace=True)\n",
    "df.drop(df.index[(df[\"Vacancy_energy\"] ==\"-\")],axis=0,inplace=True)\n",
    "df['Valence_A'] = df['Valence_A'].replace(['not balanced'], '0') \n",
    "df['Valence_A'] = df['Valence_A'].replace(['3'], '1') \n",
    "df['Valence_B'] = df['Valence_B'].replace(['not balanced'], '0') \n",
    "df['Valence_B'] = df['Valence_B'].replace(['3'], '1') \n",
    "df['Lowest_distortion'] = df['Lowest_distortion'].replace(['cubic'], '0') \n",
    "df['Lowest_distortion'] = df['Lowest_distortion'].replace(['orthorhombic'], '1')\n",
    "df['Lowest_distortion'] = df['Lowest_distortion'].replace(['rhombohedral'], '2')\n",
    "df['Lowest_distortion'] = df['Lowest_distortion'].replace(['tetragonal'], '3')\n",
    "df['Magnetic_moment'] = df['Magnetic_moment'].replace(['-'], '0.00')\n",
    "df['Vacancy_energy'] = df['Vacancy_energy'].replace(['-'], '0.00')\n",
    "df['In_literature'] = df['In_literature'].replace([\"FALSE\"], '0') \n",
    "df['In_literature'] = df['In_literature'].replace([\"TRUE\"], '1')"
   ]
  },
  {
   "cell_type": "code",
   "execution_count": 4,
   "id": "9d263824",
   "metadata": {},
   "outputs": [
    {
     "data": {
      "text/html": [
       "<div>\n",
       "<style scoped>\n",
       "    .dataframe tbody tr th:only-of-type {\n",
       "        vertical-align: middle;\n",
       "    }\n",
       "\n",
       "    .dataframe tbody tr th {\n",
       "        vertical-align: top;\n",
       "    }\n",
       "\n",
       "    .dataframe thead th {\n",
       "        text-align: right;\n",
       "    }\n",
       "</style>\n",
       "<table border=\"1\" class=\"dataframe\">\n",
       "  <thead>\n",
       "    <tr style=\"text-align: right;\">\n",
       "      <th></th>\n",
       "      <th>Chemical_formula</th>\n",
       "      <th>A</th>\n",
       "      <th>B</th>\n",
       "      <th>In_literature</th>\n",
       "      <th>Valence_A</th>\n",
       "      <th>Valence_B</th>\n",
       "      <th>Radius_A</th>\n",
       "      <th>Radius_B</th>\n",
       "      <th>Lowest_distortion</th>\n",
       "      <th>Formation_energy</th>\n",
       "      <th>...</th>\n",
       "      <th>Magnetic_moment</th>\n",
       "      <th>Volume_per_atom</th>\n",
       "      <th>Band_gap</th>\n",
       "      <th>a</th>\n",
       "      <th>b</th>\n",
       "      <th>c</th>\n",
       "      <th>alpha</th>\n",
       "      <th>beta</th>\n",
       "      <th>gamma</th>\n",
       "      <th>Vacancy_energy</th>\n",
       "    </tr>\n",
       "  </thead>\n",
       "  <tbody>\n",
       "    <tr>\n",
       "      <th>75</th>\n",
       "      <td>Ag2O3</td>\n",
       "      <td>Ag</td>\n",
       "      <td>Ag</td>\n",
       "      <td>0</td>\n",
       "      <td>0</td>\n",
       "      <td>0</td>\n",
       "      <td>1.28</td>\n",
       "      <td>0.95</td>\n",
       "      <td>0</td>\n",
       "      <td>0.351</td>\n",
       "      <td>...</td>\n",
       "      <td>0.00</td>\n",
       "      <td>12.997</td>\n",
       "      <td>0</td>\n",
       "      <td>4.02</td>\n",
       "      <td>4.02</td>\n",
       "      <td>4.02</td>\n",
       "      <td>90</td>\n",
       "      <td>90</td>\n",
       "      <td>90</td>\n",
       "      <td>-2.694</td>\n",
       "    </tr>\n",
       "    <tr>\n",
       "      <th>76</th>\n",
       "      <td>AgAlO3</td>\n",
       "      <td>Ag</td>\n",
       "      <td>Al</td>\n",
       "      <td>0</td>\n",
       "      <td>0</td>\n",
       "      <td>0</td>\n",
       "      <td>1.28</td>\n",
       "      <td>0.54</td>\n",
       "      <td>1</td>\n",
       "      <td>-1.51</td>\n",
       "      <td>...</td>\n",
       "      <td>0.00</td>\n",
       "      <td>9.898</td>\n",
       "      <td>0</td>\n",
       "      <td>5.094</td>\n",
       "      <td>5.323</td>\n",
       "      <td>7.3</td>\n",
       "      <td>90</td>\n",
       "      <td>90</td>\n",
       "      <td>90</td>\n",
       "      <td>-1.341</td>\n",
       "    </tr>\n",
       "    <tr>\n",
       "      <th>79</th>\n",
       "      <td>AgBO3</td>\n",
       "      <td>Ag</td>\n",
       "      <td>B</td>\n",
       "      <td>0</td>\n",
       "      <td>1</td>\n",
       "      <td>1</td>\n",
       "      <td>0.75</td>\n",
       "      <td>0.27</td>\n",
       "      <td>0</td>\n",
       "      <td>-0.35</td>\n",
       "      <td>...</td>\n",
       "      <td>0.00</td>\n",
       "      <td>8.138</td>\n",
       "      <td>0</td>\n",
       "      <td>3.439</td>\n",
       "      <td>3.439</td>\n",
       "      <td>3.439</td>\n",
       "      <td>90</td>\n",
       "      <td>90</td>\n",
       "      <td>90</td>\n",
       "      <td>-2.641</td>\n",
       "    </tr>\n",
       "    <tr>\n",
       "      <th>80</th>\n",
       "      <td>AgBaO3</td>\n",
       "      <td>Ag</td>\n",
       "      <td>Ba</td>\n",
       "      <td>0</td>\n",
       "      <td>0</td>\n",
       "      <td>0</td>\n",
       "      <td>1.28</td>\n",
       "      <td>1.35</td>\n",
       "      <td>1</td>\n",
       "      <td>-0.989</td>\n",
       "      <td>...</td>\n",
       "      <td>0.00</td>\n",
       "      <td>15.631</td>\n",
       "      <td>0.247</td>\n",
       "      <td>6.636</td>\n",
       "      <td>6.739</td>\n",
       "      <td>6.99</td>\n",
       "      <td>90</td>\n",
       "      <td>90</td>\n",
       "      <td>90</td>\n",
       "      <td>-6.975</td>\n",
       "    </tr>\n",
       "    <tr>\n",
       "      <th>81</th>\n",
       "      <td>AgBeO3</td>\n",
       "      <td>Ag</td>\n",
       "      <td>Be</td>\n",
       "      <td>0</td>\n",
       "      <td>0</td>\n",
       "      <td>0</td>\n",
       "      <td>1.28</td>\n",
       "      <td>0.45</td>\n",
       "      <td>0</td>\n",
       "      <td>-0.616</td>\n",
       "      <td>...</td>\n",
       "      <td>0.00</td>\n",
       "      <td>8.781</td>\n",
       "      <td>0</td>\n",
       "      <td>3.528</td>\n",
       "      <td>3.528</td>\n",
       "      <td>3.528</td>\n",
       "      <td>90</td>\n",
       "      <td>90</td>\n",
       "      <td>90</td>\n",
       "      <td>-3.058</td>\n",
       "    </tr>\n",
       "    <tr>\n",
       "      <th>...</th>\n",
       "      <td>...</td>\n",
       "      <td>...</td>\n",
       "      <td>...</td>\n",
       "      <td>...</td>\n",
       "      <td>...</td>\n",
       "      <td>...</td>\n",
       "      <td>...</td>\n",
       "      <td>...</td>\n",
       "      <td>...</td>\n",
       "      <td>...</td>\n",
       "      <td>...</td>\n",
       "      <td>...</td>\n",
       "      <td>...</td>\n",
       "      <td>...</td>\n",
       "      <td>...</td>\n",
       "      <td>...</td>\n",
       "      <td>...</td>\n",
       "      <td>...</td>\n",
       "      <td>...</td>\n",
       "      <td>...</td>\n",
       "      <td>...</td>\n",
       "    </tr>\n",
       "    <tr>\n",
       "      <th>5322</th>\n",
       "      <td>ZrTmO3</td>\n",
       "      <td>Zr</td>\n",
       "      <td>Tm</td>\n",
       "      <td>0</td>\n",
       "      <td>0</td>\n",
       "      <td>0</td>\n",
       "      <td>0.89</td>\n",
       "      <td>0.96</td>\n",
       "      <td>0</td>\n",
       "      <td>-2.315</td>\n",
       "      <td>...</td>\n",
       "      <td>0.2</td>\n",
       "      <td>14.496</td>\n",
       "      <td>0</td>\n",
       "      <td>4.169</td>\n",
       "      <td>4.169</td>\n",
       "      <td>4.169</td>\n",
       "      <td>90</td>\n",
       "      <td>90</td>\n",
       "      <td>90</td>\n",
       "      <td>-3.645</td>\n",
       "    </tr>\n",
       "    <tr>\n",
       "      <th>5326</th>\n",
       "      <td>ZrYO3</td>\n",
       "      <td>Zr</td>\n",
       "      <td>Y</td>\n",
       "      <td>0</td>\n",
       "      <td>0</td>\n",
       "      <td>0</td>\n",
       "      <td>0.89</td>\n",
       "      <td>0.9</td>\n",
       "      <td>0</td>\n",
       "      <td>-2.126</td>\n",
       "      <td>...</td>\n",
       "      <td>0.2</td>\n",
       "      <td>15.277</td>\n",
       "      <td>0</td>\n",
       "      <td>4.243</td>\n",
       "      <td>4.243</td>\n",
       "      <td>4.243</td>\n",
       "      <td>90</td>\n",
       "      <td>90</td>\n",
       "      <td>90</td>\n",
       "      <td>-4.92</td>\n",
       "    </tr>\n",
       "    <tr>\n",
       "      <th>5327</th>\n",
       "      <td>ZrYbO3</td>\n",
       "      <td>Zr</td>\n",
       "      <td>Yb</td>\n",
       "      <td>0</td>\n",
       "      <td>0</td>\n",
       "      <td>0</td>\n",
       "      <td>0.89</td>\n",
       "      <td>0.95</td>\n",
       "      <td>1</td>\n",
       "      <td>-3.455</td>\n",
       "      <td>...</td>\n",
       "      <td>0</td>\n",
       "      <td>13.136</td>\n",
       "      <td>4.007</td>\n",
       "      <td>5.558</td>\n",
       "      <td>5.726</td>\n",
       "      <td>8.254</td>\n",
       "      <td>90</td>\n",
       "      <td>90</td>\n",
       "      <td>90</td>\n",
       "      <td>-6.177</td>\n",
       "    </tr>\n",
       "    <tr>\n",
       "      <th>5328</th>\n",
       "      <td>ZrZnO3</td>\n",
       "      <td>Zr</td>\n",
       "      <td>Zn</td>\n",
       "      <td>0</td>\n",
       "      <td>0</td>\n",
       "      <td>0</td>\n",
       "      <td>0.89</td>\n",
       "      <td>0.74</td>\n",
       "      <td>0</td>\n",
       "      <td>-1.63</td>\n",
       "      <td>...</td>\n",
       "      <td>0.001</td>\n",
       "      <td>10.804</td>\n",
       "      <td>0</td>\n",
       "      <td>3.78</td>\n",
       "      <td>3.78</td>\n",
       "      <td>3.78</td>\n",
       "      <td>90</td>\n",
       "      <td>90</td>\n",
       "      <td>90</td>\n",
       "      <td>-0.762</td>\n",
       "    </tr>\n",
       "    <tr>\n",
       "      <th>5329</th>\n",
       "      <td>Zr2O3</td>\n",
       "      <td>Zr</td>\n",
       "      <td>Zr</td>\n",
       "      <td>0</td>\n",
       "      <td>0</td>\n",
       "      <td>0</td>\n",
       "      <td>0.89</td>\n",
       "      <td>0.72</td>\n",
       "      <td>0</td>\n",
       "      <td>-2.382</td>\n",
       "      <td>...</td>\n",
       "      <td>0.382</td>\n",
       "      <td>13.915</td>\n",
       "      <td>0</td>\n",
       "      <td>4.113</td>\n",
       "      <td>4.113</td>\n",
       "      <td>4.113</td>\n",
       "      <td>90</td>\n",
       "      <td>90</td>\n",
       "      <td>90</td>\n",
       "      <td>3.218</td>\n",
       "    </tr>\n",
       "  </tbody>\n",
       "</table>\n",
       "<p>2639 rows × 21 columns</p>\n",
       "</div>"
      ],
      "text/plain": [
       "     Chemical_formula   A   B In_literature Valence_A Valence_B Radius_A  \\\n",
       "75              Ag2O3  Ag  Ag             0         0         0     1.28   \n",
       "76             AgAlO3  Ag  Al             0         0         0     1.28   \n",
       "79              AgBO3  Ag   B             0         1         1     0.75   \n",
       "80             AgBaO3  Ag  Ba             0         0         0     1.28   \n",
       "81             AgBeO3  Ag  Be             0         0         0     1.28   \n",
       "...               ...  ..  ..           ...       ...       ...      ...   \n",
       "5322           ZrTmO3  Zr  Tm             0         0         0     0.89   \n",
       "5326            ZrYO3  Zr   Y             0         0         0     0.89   \n",
       "5327           ZrYbO3  Zr  Yb             0         0         0     0.89   \n",
       "5328           ZrZnO3  Zr  Zn             0         0         0     0.89   \n",
       "5329            Zr2O3  Zr  Zr             0         0         0     0.89   \n",
       "\n",
       "     Radius_B Lowest_distortion Formation_energy  ... Magnetic_moment  \\\n",
       "75       0.95                 0            0.351  ...            0.00   \n",
       "76       0.54                 1            -1.51  ...            0.00   \n",
       "79       0.27                 0            -0.35  ...            0.00   \n",
       "80       1.35                 1           -0.989  ...            0.00   \n",
       "81       0.45                 0           -0.616  ...            0.00   \n",
       "...       ...               ...              ...  ...             ...   \n",
       "5322     0.96                 0           -2.315  ...             0.2   \n",
       "5326      0.9                 0           -2.126  ...             0.2   \n",
       "5327     0.95                 1           -3.455  ...               0   \n",
       "5328     0.74                 0            -1.63  ...           0.001   \n",
       "5329     0.72                 0           -2.382  ...           0.382   \n",
       "\n",
       "     Volume_per_atom Band_gap      a      b      c alpha beta gamma  \\\n",
       "75            12.997        0   4.02   4.02   4.02    90   90    90   \n",
       "76             9.898        0  5.094  5.323    7.3    90   90    90   \n",
       "79             8.138        0  3.439  3.439  3.439    90   90    90   \n",
       "80            15.631    0.247  6.636  6.739   6.99    90   90    90   \n",
       "81             8.781        0  3.528  3.528  3.528    90   90    90   \n",
       "...              ...      ...    ...    ...    ...   ...  ...   ...   \n",
       "5322          14.496        0  4.169  4.169  4.169    90   90    90   \n",
       "5326          15.277        0  4.243  4.243  4.243    90   90    90   \n",
       "5327          13.136    4.007  5.558  5.726  8.254    90   90    90   \n",
       "5328          10.804        0   3.78   3.78   3.78    90   90    90   \n",
       "5329          13.915        0  4.113  4.113  4.113    90   90    90   \n",
       "\n",
       "     Vacancy_energy  \n",
       "75           -2.694  \n",
       "76           -1.341  \n",
       "79           -2.641  \n",
       "80           -6.975  \n",
       "81           -3.058  \n",
       "...             ...  \n",
       "5322         -3.645  \n",
       "5326          -4.92  \n",
       "5327         -6.177  \n",
       "5328         -0.762  \n",
       "5329          3.218  \n",
       "\n",
       "[2639 rows x 21 columns]"
      ]
     },
     "execution_count": 4,
     "metadata": {},
     "output_type": "execute_result"
    }
   ],
   "source": [
    "df[1:]#printing data"
   ]
  },
  {
   "cell_type": "code",
   "execution_count": 5,
   "id": "a935d0fd",
   "metadata": {},
   "outputs": [],
   "source": [
    "#all columns that will be included as a feature\n",
    "features=[\"Formation_energy\",\"Stability\",\"Magnetic_moment\",\"Volume_per_atom\",\"Band_gap\",\"Vacancy_energy\",\"Radius_A\",\"Radius_B\",\"Valence_A\",\"Valence_B\"]\n",
    "X = df.loc[1:, features].values\n",
    "Y = df.loc[1:, \"Lowest_distortion\"].values"
   ]
  },
  {
   "cell_type": "code",
   "execution_count": 6,
   "id": "de5fc1d8",
   "metadata": {},
   "outputs": [
    {
     "data": {
      "text/plain": [
       "array([['0.351', '0.576', '0.00', ..., '0.95', '0', '0'],\n",
       "       ['-1.51', '0.235', '0.00', ..., '0.54', '0', '0'],\n",
       "       ['-0.35', '1.074', '0.00', ..., '0.27', '1', '1'],\n",
       "       ...,\n",
       "       ['-3.455', '0.205', '0', ..., '0.95', '0', '0'],\n",
       "       ['-1.63', '1.21', '0.001', ..., '0.74', '0', '0'],\n",
       "       ['-2.382', '0.906', '0.382', ..., '0.72', '0', '0']], dtype=object)"
      ]
     },
     "execution_count": 6,
     "metadata": {},
     "output_type": "execute_result"
    }
   ],
   "source": [
    "X"
   ]
  },
  {
   "cell_type": "code",
   "execution_count": 7,
   "id": "9a867cc1",
   "metadata": {},
   "outputs": [],
   "source": [
    "#spliting data into a test and train set with ratio 0.2\n",
    "X_train, X_test, Y_train, Y_test = model_selection.train_test_split (X, Y, test_size=0.2, random_state=42)"
   ]
  },
  {
   "cell_type": "markdown",
   "id": "f83a82ba",
   "metadata": {},
   "source": [
    "**OVERSAMPLING**"
   ]
  },
  {
   "cell_type": "code",
   "execution_count": 8,
   "id": "7776669e",
   "metadata": {},
   "outputs": [
    {
     "name": "stdout",
     "output_type": "stream",
     "text": [
      "Class=0, n=1283 (60.777%)\n",
      "Class=2, n=99 (4.690%)\n",
      "Class=1, n=686 (32.496%)\n",
      "Class=3, n=43 (2.037%)\n"
     ]
    }
   ],
   "source": [
    "counter = Counter(Y_train)\n",
    "for k,v in counter.items():\n",
    "    per = v / len(Y_train) * 100\n",
    "    print('Class=%s, n=%s (%.3f%%)' % (k, v, per))"
   ]
  },
  {
   "cell_type": "code",
   "execution_count": 9,
   "id": "a51a9445",
   "metadata": {},
   "outputs": [],
   "source": [
    "oversample = SVMSMOTE()\n",
    "X_train, Y_train = oversample.fit_resample(X_train, Y_train)"
   ]
  },
  {
   "cell_type": "code",
   "execution_count": 10,
   "id": "d41cd7a6",
   "metadata": {
    "scrolled": true
   },
   "outputs": [
    {
     "name": "stdout",
     "output_type": "stream",
     "text": [
      "Class=0, n=1283 (25.000%)\n",
      "Class=2, n=1283 (25.000%)\n",
      "Class=1, n=1283 (25.000%)\n",
      "Class=3, n=1283 (25.000%)\n"
     ]
    }
   ],
   "source": [
    "counter = Counter(Y_train)\n",
    "for k,v in counter.items():\n",
    "    per = v / len(Y_train) * 100\n",
    "    print('Class=%s, n=%s (%.3f%%)' % (k, v, per))"
   ]
  },
  {
   "cell_type": "markdown",
   "id": "926bd96f",
   "metadata": {},
   "source": [
    "**FUNCTIONS GLOBAL VARIABLES**"
   ]
  },
  {
   "cell_type": "code",
   "execution_count": 11,
   "id": "c895c916",
   "metadata": {},
   "outputs": [],
   "source": [
    "def CRandCM(method,X_test,Y_test):\n",
    "    Y_pred=method.predict(X_test)\n",
    "    cr = report(Y_test,  Y_pred)\n",
    "    cm = confusion_matrix(Y_test, Y_pred)\n",
    "    print(cr)\n",
    "    print(cm)"
   ]
  },
  {
   "cell_type": "code",
   "execution_count": 12,
   "id": "42c23d04",
   "metadata": {},
   "outputs": [
    {
     "data": {
      "text/plain": [
       "(5132,)"
      ]
     },
     "execution_count": 12,
     "metadata": {},
     "output_type": "execute_result"
    }
   ],
   "source": [
    "#setting weights so that points which exist in literature has more weight(5), does not exsist in literature has lower weight(1)\n",
    "#and points produced by SMOTE has least weight(0.5),these weights are hyper parameter,which i have not yet tuned\n",
    "weights=[]\n",
    "for i in df[\"In_literature\"]:\n",
    "    if i=='0':\n",
    "        weights=np.append(weights,np.array([1]))\n",
    "    if i=='1':\n",
    "        weights=np.append(weights,np.array([5]))\n",
    "    else:\n",
    "        pass\n",
    "diff=len(Y_train)-len(weights)\n",
    "for i in range(diff):\n",
    "    weights=np.append(weights,np.array([0.5]))\n",
    "weights.shape"
   ]
  },
  {
   "cell_type": "markdown",
   "id": "48c42524",
   "metadata": {},
   "source": [
    "**SUPPORT VECTOR MACHINE-LINEAR KERNEL**"
   ]
  },
  {
   "cell_type": "code",
   "execution_count": 13,
   "id": "3430c9ec",
   "metadata": {
    "scrolled": true
   },
   "outputs": [
    {
     "name": "stdout",
     "output_type": "stream",
     "text": [
      "Accuracy: 0.9034090909090909\n"
     ]
    }
   ],
   "source": [
    "#without weights\n",
    "SVM_linear = svm.SVC(kernel='linear', C=250,gamma=0.01,random_state=31).fit(X_train, Y_train)\n",
    "print(\"Accuracy:\",SVM_linear.score(X_test, Y_test))"
   ]
  },
  {
   "cell_type": "code",
   "execution_count": 14,
   "id": "994c54d3",
   "metadata": {},
   "outputs": [
    {
     "name": "stdout",
     "output_type": "stream",
     "text": [
      "              precision    recall  f1-score   support\n",
      "\n",
      "           0       0.99      0.97      0.98       331\n",
      "           1       0.92      0.84      0.88       160\n",
      "           2       0.41      0.59      0.48        27\n",
      "           3       0.35      0.70      0.47        10\n",
      "\n",
      "    accuracy                           0.90       528\n",
      "   macro avg       0.67      0.77      0.70       528\n",
      "weighted avg       0.93      0.90      0.91       528\n",
      "\n",
      "[[320   2   2   7]\n",
      " [  2 134  19   5]\n",
      " [  1   9  16   1]\n",
      " [  0   1   2   7]]\n"
     ]
    }
   ],
   "source": [
    "CRandCM(SVM_linear,X_test,Y_test)"
   ]
  },
  {
   "cell_type": "code",
   "execution_count": 15,
   "id": "95849e3b",
   "metadata": {},
   "outputs": [
    {
     "name": "stdout",
     "output_type": "stream",
     "text": [
      "Accuracy: 0.9090909090909091\n"
     ]
    }
   ],
   "source": [
    "#weighted\n",
    "SVM_linear2 = svm.SVC(kernel='linear',C=250,gamma=0.01)\n",
    "SVM_linear2.fit(X_train, Y_train, sample_weight=weights)\n",
    "print(\"Accuracy:\",SVM_linear2.score(X_test,Y_test))"
   ]
  },
  {
   "cell_type": "code",
   "execution_count": 16,
   "id": "dc55353e",
   "metadata": {},
   "outputs": [
    {
     "name": "stdout",
     "output_type": "stream",
     "text": [
      "              precision    recall  f1-score   support\n",
      "\n",
      "           0       0.99      0.97      0.98       331\n",
      "           1       0.88      0.88      0.88       160\n",
      "           2       0.45      0.48      0.46        27\n",
      "           3       0.40      0.60      0.48        10\n",
      "\n",
      "    accuracy                           0.91       528\n",
      "   macro avg       0.68      0.73      0.70       528\n",
      "weighted avg       0.92      0.91      0.91       528\n",
      "\n",
      "[[321   4   1   5]\n",
      " [  2 140  15   3]\n",
      " [  1  12  13   1]\n",
      " [  0   4   0   6]]\n"
     ]
    }
   ],
   "source": [
    "CRandCM(SVM_linear2,X_test,Y_test)"
   ]
  },
  {
   "cell_type": "markdown",
   "id": "a31893ff",
   "metadata": {},
   "source": [
    "**SUPPORT VECTOR MACHINE-GAUSSIAN RBF KERNEL**"
   ]
  },
  {
   "cell_type": "code",
   "execution_count": 17,
   "id": "39e3ce9a",
   "metadata": {},
   "outputs": [
    {
     "name": "stdout",
     "output_type": "stream",
     "text": [
      "Accuracy: 0.9166666666666666\n"
     ]
    }
   ],
   "source": [
    "#without weights\n",
    "SVM_rbf = svm.SVC(kernel='rbf', C=250,gamma=0.05).fit(X_train, Y_train)\n",
    "print(\"Accuracy:\",SVM_rbf.score(X_test, Y_test))"
   ]
  },
  {
   "cell_type": "code",
   "execution_count": 18,
   "id": "6db9991f",
   "metadata": {},
   "outputs": [
    {
     "name": "stdout",
     "output_type": "stream",
     "text": [
      "              precision    recall  f1-score   support\n",
      "\n",
      "           0       0.99      0.96      0.97       331\n",
      "           1       0.87      0.93      0.89       160\n",
      "           2       0.52      0.52      0.52        27\n",
      "           3       0.56      0.50      0.53        10\n",
      "\n",
      "    accuracy                           0.92       528\n",
      "   macro avg       0.73      0.73      0.73       528\n",
      "weighted avg       0.92      0.92      0.92       528\n",
      "\n",
      "[[317   8   4   2]\n",
      " [  3 148   8   1]\n",
      " [  1  11  14   1]\n",
      " [  0   4   1   5]]\n"
     ]
    }
   ],
   "source": [
    "CRandCM(SVM_rbf,X_test,Y_test)"
   ]
  },
  {
   "cell_type": "code",
   "execution_count": 19,
   "id": "ce830d05",
   "metadata": {},
   "outputs": [
    {
     "name": "stdout",
     "output_type": "stream",
     "text": [
      "Accuracy: 0.9299242424242424\n"
     ]
    }
   ],
   "source": [
    "#weighted\n",
    "SVM_rbf2= svm.SVC(kernel='rbf',C=250,gamma=0.01)\n",
    "SVM_rbf2.fit(X_train, Y_train, sample_weight=weights)\n",
    "print(\"Accuracy:\",SVM_rbf2.score(X_test,Y_test))"
   ]
  },
  {
   "cell_type": "code",
   "execution_count": 20,
   "id": "9ca1f642",
   "metadata": {},
   "outputs": [
    {
     "name": "stdout",
     "output_type": "stream",
     "text": [
      "              precision    recall  f1-score   support\n",
      "\n",
      "           0       0.99      0.97      0.98       331\n",
      "           1       0.87      0.95      0.91       160\n",
      "           2       0.63      0.44      0.52        27\n",
      "           3       0.50      0.60      0.55        10\n",
      "\n",
      "    accuracy                           0.93       528\n",
      "   macro avg       0.75      0.74      0.74       528\n",
      "weighted avg       0.93      0.93      0.93       528\n",
      "\n",
      "[[321   5   2   3]\n",
      " [  1 152   5   2]\n",
      " [  1  13  12   1]\n",
      " [  0   4   0   6]]\n"
     ]
    }
   ],
   "source": [
    "CRandCM(SVM_rbf2,X_test,Y_test)"
   ]
  },
  {
   "cell_type": "markdown",
   "id": "1ad7e1e9",
   "metadata": {},
   "source": [
    "**SUPPORT VECTOR MACHINE-SIGMOID KERNEL**"
   ]
  },
  {
   "cell_type": "code",
   "execution_count": 21,
   "id": "cfaebd6d",
   "metadata": {},
   "outputs": [
    {
     "name": "stdout",
     "output_type": "stream",
     "text": [
      "Accuracy: 0.11174242424242424\n"
     ]
    }
   ],
   "source": [
    "#without weights\n",
    "SVM_sigmoid = svm.SVC(kernel='sigmoid', C=250,random_state=31).fit(X_train, Y_train)\n",
    "print(\"Accuracy:\",SVM_sigmoid.score(X_test, Y_test))"
   ]
  },
  {
   "cell_type": "code",
   "execution_count": 22,
   "id": "d2a443ec",
   "metadata": {},
   "outputs": [
    {
     "name": "stdout",
     "output_type": "stream",
     "text": [
      "              precision    recall  f1-score   support\n",
      "\n",
      "           0       0.70      0.10      0.17       331\n",
      "           1       0.21      0.03      0.05       160\n",
      "           2       0.07      0.52      0.13        27\n",
      "           3       0.03      0.70      0.05        10\n",
      "\n",
      "    accuracy                           0.11       528\n",
      "   macro avg       0.25      0.34      0.10       528\n",
      "weighted avg       0.51      0.11      0.13       528\n",
      "\n",
      "[[ 33  17 117 164]\n",
      " [ 10   5  57  88]\n",
      " [  3   2  14   8]\n",
      " [  1   0   2   7]]\n"
     ]
    }
   ],
   "source": [
    "CRandCM(SVM_sigmoid,X_test,Y_test)"
   ]
  },
  {
   "cell_type": "code",
   "execution_count": 23,
   "id": "06a3bc46",
   "metadata": {},
   "outputs": [
    {
     "name": "stdout",
     "output_type": "stream",
     "text": [
      "Accuracy: 0.21022727272727273\n"
     ]
    }
   ],
   "source": [
    "#weighted\n",
    "SVM_sigmoid2= svm.SVC(kernel='sigmoid',C=250,gamma=0.01)\n",
    "SVM_sigmoid2.fit(X_train, Y_train, sample_weight=weights)\n",
    "print(\"Accuracy:\",SVM_sigmoid2.score(X_test,Y_test))"
   ]
  },
  {
   "cell_type": "code",
   "execution_count": 24,
   "id": "340da210",
   "metadata": {},
   "outputs": [
    {
     "name": "stdout",
     "output_type": "stream",
     "text": [
      "              precision    recall  f1-score   support\n",
      "\n",
      "           0       0.70      0.10      0.17       331\n",
      "           1       0.21      0.03      0.05       160\n",
      "           2       0.07      0.52      0.13        27\n",
      "           3       0.03      0.70      0.05        10\n",
      "\n",
      "    accuracy                           0.11       528\n",
      "   macro avg       0.25      0.34      0.10       528\n",
      "weighted avg       0.51      0.11      0.13       528\n",
      "\n",
      "[[ 33  17 117 164]\n",
      " [ 10   5  57  88]\n",
      " [  3   2  14   8]\n",
      " [  1   0   2   7]]\n"
     ]
    }
   ],
   "source": [
    "CRandCM(SVM_sigmoid,X_test,Y_test)"
   ]
  },
  {
   "cell_type": "markdown",
   "id": "2c6439ac",
   "metadata": {},
   "source": [
    "**SUPPORT VECTOR MACHINE-POLYNOMIAL KERNEL**"
   ]
  },
  {
   "cell_type": "code",
   "execution_count": 25,
   "id": "cdce5087",
   "metadata": {},
   "outputs": [
    {
     "name": "stdout",
     "output_type": "stream",
     "text": [
      "Accuracy: 0.9223484848484849\n"
     ]
    }
   ],
   "source": [
    "#without weights\n",
    "SVM_poly = svm.SVC(kernel ='poly', degree = 5, C=250).fit(X_train, Y_train)\n",
    "print(\"Accuracy:\",SVM_poly.score(X_test, Y_test))"
   ]
  },
  {
   "cell_type": "code",
   "execution_count": 26,
   "id": "a107f286",
   "metadata": {},
   "outputs": [
    {
     "name": "stdout",
     "output_type": "stream",
     "text": [
      "              precision    recall  f1-score   support\n",
      "\n",
      "           0       0.99      0.96      0.98       331\n",
      "           1       0.92      0.91      0.91       160\n",
      "           2       0.63      0.63      0.63        27\n",
      "           3       0.29      0.60      0.39        10\n",
      "\n",
      "    accuracy                           0.92       528\n",
      "   macro avg       0.71      0.77      0.73       528\n",
      "weighted avg       0.94      0.92      0.93       528\n",
      "\n",
      "[[319   3   2   7]\n",
      " [  2 145   7   6]\n",
      " [  1   7  17   2]\n",
      " [  1   2   1   6]]\n"
     ]
    }
   ],
   "source": [
    "CRandCM(SVM_poly,X_test,Y_test)"
   ]
  },
  {
   "cell_type": "code",
   "execution_count": 27,
   "id": "59721b57",
   "metadata": {},
   "outputs": [
    {
     "name": "stdout",
     "output_type": "stream",
     "text": [
      "Accuracy: 0.9242424242424242\n"
     ]
    }
   ],
   "source": [
    "#weighted\n",
    "SVM_poly2= svm.SVC(kernel ='poly', degree = 5,C=250)\n",
    "SVM_poly2.fit(X_train, Y_train, sample_weight=weights)\n",
    "print(\"Accuracy:\",SVM_poly2.score(X_test,Y_test))"
   ]
  },
  {
   "cell_type": "code",
   "execution_count": 28,
   "id": "2108d97b",
   "metadata": {},
   "outputs": [
    {
     "name": "stdout",
     "output_type": "stream",
     "text": [
      "              precision    recall  f1-score   support\n",
      "\n",
      "           0       0.99      0.97      0.98       331\n",
      "           1       0.89      0.93      0.91       160\n",
      "           2       0.56      0.52      0.54        27\n",
      "           3       0.46      0.60      0.52        10\n",
      "\n",
      "    accuracy                           0.92       528\n",
      "   macro avg       0.73      0.75      0.74       528\n",
      "weighted avg       0.93      0.92      0.93       528\n",
      "\n",
      "[[320   5   2   4]\n",
      " [  2 148   8   2]\n",
      " [  1  11  14   1]\n",
      " [  1   2   1   6]]\n"
     ]
    }
   ],
   "source": [
    "CRandCM(SVM_poly2,X_test,Y_test)"
   ]
  },
  {
   "cell_type": "markdown",
   "id": "6da0abac",
   "metadata": {},
   "source": [
    "RBF kernel and polynomial kernel are to better kernels"
   ]
  },
  {
   "cell_type": "code",
   "execution_count": null,
   "id": "5f63248c",
   "metadata": {},
   "outputs": [],
   "source": []
  }
 ],
 "metadata": {
  "kernelspec": {
   "display_name": "Python 3 (ipykernel)",
   "language": "python",
   "name": "python3"
  },
  "language_info": {
   "codemirror_mode": {
    "name": "ipython",
    "version": 3
   },
   "file_extension": ".py",
   "mimetype": "text/x-python",
   "name": "python",
   "nbconvert_exporter": "python",
   "pygments_lexer": "ipython3",
   "version": "3.9.13"
  }
 },
 "nbformat": 4,
 "nbformat_minor": 5
}
