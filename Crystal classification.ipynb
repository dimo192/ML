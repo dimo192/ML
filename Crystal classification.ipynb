{
 "cells": [
  {
   "cell_type": "code",
   "execution_count": 1,
   "id": "88c44f52",
   "metadata": {},
   "outputs": [],
   "source": [
    "import pandas as pd\n",
    "from sklearn.datasets import make_blobs\n",
    "from sklearn import model_selection\n",
    "from sklearn import svm\n",
    "import numpy as np\n",
    "import matplotlib.pyplot as plt\n",
    "from scipy import stats\n",
    "from imblearn.over_sampling import SMOTE\n",
    "from collections import Counter\n",
    "from sklearn.metrics import confusion_matrix\n",
    "import sklearn.datasets as datasets\n",
    "from sklearn.metrics import classification_report as report\n",
    "from sklearn.datasets import make_classification\n",
    "from sklearn.metrics import accuracy_score as accuarcy\n",
    "from numpy import argmax"
   ]
  },
  {
   "cell_type": "code",
   "execution_count": 2,
   "id": "50cd4bbd",
   "metadata": {},
   "outputs": [],
   "source": [
    "df = pd.read_csv(\"data.csv\",names=[\"Chemical_formula\",\"A\",\"B\",\"In_literature\",\"Valence_A\",\"Valence_B\",\"Radius_A\",\"Radius_B\",\"Lowest_distortion\",\"Formation_energy\",\"Stability\",\"Magnetic_moment\",\"Volume_per_atom\",\"Band_gap\",\"a\",\"b\",\"c\",\"alpha\",\"beta\",\"gamma\",\"Vacancy_energy\"])"
   ]
  },
  {
   "cell_type": "code",
   "execution_count": 3,
   "id": "ca598ce7",
   "metadata": {},
   "outputs": [],
   "source": [
    "df.drop(df.index[(df[\"Valence_B\"] == \"5\")],axis=0,inplace=True)\n",
    "df.drop(df.index[(df[\"Valence_A\"] == \"5\")],axis=0,inplace=True)\n",
    "df.drop(df.index[(df[\"Valence_B\"] == \"4\")],axis=0,inplace=True)\n",
    "df.drop(df.index[(df[\"Valence_A\"] == \"4\")],axis=0,inplace=True)\n",
    "df.drop(df.index[(df[\"Valence_A\"] == \"element not in BV\")],axis=0,inplace=True)\n",
    "df.drop(df.index[(df[\"Valence_B\"] == \"element not in BV\")],axis=0,inplace=True)\n",
    "df.drop(df.index[(df[\"Vacancy_energy\"] ==\"-\")],axis=0,inplace=True)\n",
    "df['Valence_A'] = df['Valence_A'].replace(['not balanced'], '0') \n",
    "df['Valence_A'] = df['Valence_A'].replace(['3'], '1') \n",
    "df['Valence_B'] = df['Valence_B'].replace(['not balanced'], '0') \n",
    "df['Valence_B'] = df['Valence_B'].replace(['3'], '1') \n",
    "df['Lowest_distortion'] = df['Lowest_distortion'].replace(['cubic'], '0') \n",
    "df['Lowest_distortion'] = df['Lowest_distortion'].replace(['orthorhombic'], '1')\n",
    "df['Lowest_distortion'] = df['Lowest_distortion'].replace(['rhombohedral'], '2')\n",
    "df['Lowest_distortion'] = df['Lowest_distortion'].replace(['tetragonal'], '3')\n",
    "df['Magnetic_moment'] = df['Magnetic_moment'].replace(['-'], '0.00')\n",
    "df['Vacancy_energy'] = df['Vacancy_energy'].replace(['-'], '0.00')\n",
    "df['In_literature'] = df['In_literature'].replace([\"FALSE\"], '0') \n",
    "df['In_literature'] = df['In_literature'].replace([\"TRUE\"], '1')"
   ]
  },
  {
   "cell_type": "code",
   "execution_count": 4,
   "id": "9d263824",
   "metadata": {},
   "outputs": [
    {
     "data": {
      "text/html": [
       "<div>\n",
       "<style scoped>\n",
       "    .dataframe tbody tr th:only-of-type {\n",
       "        vertical-align: middle;\n",
       "    }\n",
       "\n",
       "    .dataframe tbody tr th {\n",
       "        vertical-align: top;\n",
       "    }\n",
       "\n",
       "    .dataframe thead th {\n",
       "        text-align: right;\n",
       "    }\n",
       "</style>\n",
       "<table border=\"1\" class=\"dataframe\">\n",
       "  <thead>\n",
       "    <tr style=\"text-align: right;\">\n",
       "      <th></th>\n",
       "      <th>Chemical_formula</th>\n",
       "      <th>A</th>\n",
       "      <th>B</th>\n",
       "      <th>In_literature</th>\n",
       "      <th>Valence_A</th>\n",
       "      <th>Valence_B</th>\n",
       "      <th>Radius_A</th>\n",
       "      <th>Radius_B</th>\n",
       "      <th>Lowest_distortion</th>\n",
       "      <th>Formation_energy</th>\n",
       "      <th>...</th>\n",
       "      <th>Magnetic_moment</th>\n",
       "      <th>Volume_per_atom</th>\n",
       "      <th>Band_gap</th>\n",
       "      <th>a</th>\n",
       "      <th>b</th>\n",
       "      <th>c</th>\n",
       "      <th>alpha</th>\n",
       "      <th>beta</th>\n",
       "      <th>gamma</th>\n",
       "      <th>Vacancy_energy</th>\n",
       "    </tr>\n",
       "  </thead>\n",
       "  <tbody>\n",
       "    <tr>\n",
       "      <th>75</th>\n",
       "      <td>Ag2O3</td>\n",
       "      <td>Ag</td>\n",
       "      <td>Ag</td>\n",
       "      <td>0</td>\n",
       "      <td>0</td>\n",
       "      <td>0</td>\n",
       "      <td>1.28</td>\n",
       "      <td>0.95</td>\n",
       "      <td>0</td>\n",
       "      <td>0.351</td>\n",
       "      <td>...</td>\n",
       "      <td>0.00</td>\n",
       "      <td>12.997</td>\n",
       "      <td>0</td>\n",
       "      <td>4.02</td>\n",
       "      <td>4.02</td>\n",
       "      <td>4.02</td>\n",
       "      <td>90</td>\n",
       "      <td>90</td>\n",
       "      <td>90</td>\n",
       "      <td>-2.694</td>\n",
       "    </tr>\n",
       "    <tr>\n",
       "      <th>76</th>\n",
       "      <td>AgAlO3</td>\n",
       "      <td>Ag</td>\n",
       "      <td>Al</td>\n",
       "      <td>0</td>\n",
       "      <td>0</td>\n",
       "      <td>0</td>\n",
       "      <td>1.28</td>\n",
       "      <td>0.54</td>\n",
       "      <td>1</td>\n",
       "      <td>-1.51</td>\n",
       "      <td>...</td>\n",
       "      <td>0.00</td>\n",
       "      <td>9.898</td>\n",
       "      <td>0</td>\n",
       "      <td>5.094</td>\n",
       "      <td>5.323</td>\n",
       "      <td>7.3</td>\n",
       "      <td>90</td>\n",
       "      <td>90</td>\n",
       "      <td>90</td>\n",
       "      <td>-1.341</td>\n",
       "    </tr>\n",
       "    <tr>\n",
       "      <th>79</th>\n",
       "      <td>AgBO3</td>\n",
       "      <td>Ag</td>\n",
       "      <td>B</td>\n",
       "      <td>0</td>\n",
       "      <td>1</td>\n",
       "      <td>1</td>\n",
       "      <td>0.75</td>\n",
       "      <td>0.27</td>\n",
       "      <td>0</td>\n",
       "      <td>-0.35</td>\n",
       "      <td>...</td>\n",
       "      <td>0.00</td>\n",
       "      <td>8.138</td>\n",
       "      <td>0</td>\n",
       "      <td>3.439</td>\n",
       "      <td>3.439</td>\n",
       "      <td>3.439</td>\n",
       "      <td>90</td>\n",
       "      <td>90</td>\n",
       "      <td>90</td>\n",
       "      <td>-2.641</td>\n",
       "    </tr>\n",
       "    <tr>\n",
       "      <th>80</th>\n",
       "      <td>AgBaO3</td>\n",
       "      <td>Ag</td>\n",
       "      <td>Ba</td>\n",
       "      <td>0</td>\n",
       "      <td>0</td>\n",
       "      <td>0</td>\n",
       "      <td>1.28</td>\n",
       "      <td>1.35</td>\n",
       "      <td>1</td>\n",
       "      <td>-0.989</td>\n",
       "      <td>...</td>\n",
       "      <td>0.00</td>\n",
       "      <td>15.631</td>\n",
       "      <td>0.247</td>\n",
       "      <td>6.636</td>\n",
       "      <td>6.739</td>\n",
       "      <td>6.99</td>\n",
       "      <td>90</td>\n",
       "      <td>90</td>\n",
       "      <td>90</td>\n",
       "      <td>-6.975</td>\n",
       "    </tr>\n",
       "    <tr>\n",
       "      <th>81</th>\n",
       "      <td>AgBeO3</td>\n",
       "      <td>Ag</td>\n",
       "      <td>Be</td>\n",
       "      <td>0</td>\n",
       "      <td>0</td>\n",
       "      <td>0</td>\n",
       "      <td>1.28</td>\n",
       "      <td>0.45</td>\n",
       "      <td>0</td>\n",
       "      <td>-0.616</td>\n",
       "      <td>...</td>\n",
       "      <td>0.00</td>\n",
       "      <td>8.781</td>\n",
       "      <td>0</td>\n",
       "      <td>3.528</td>\n",
       "      <td>3.528</td>\n",
       "      <td>3.528</td>\n",
       "      <td>90</td>\n",
       "      <td>90</td>\n",
       "      <td>90</td>\n",
       "      <td>-3.058</td>\n",
       "    </tr>\n",
       "    <tr>\n",
       "      <th>...</th>\n",
       "      <td>...</td>\n",
       "      <td>...</td>\n",
       "      <td>...</td>\n",
       "      <td>...</td>\n",
       "      <td>...</td>\n",
       "      <td>...</td>\n",
       "      <td>...</td>\n",
       "      <td>...</td>\n",
       "      <td>...</td>\n",
       "      <td>...</td>\n",
       "      <td>...</td>\n",
       "      <td>...</td>\n",
       "      <td>...</td>\n",
       "      <td>...</td>\n",
       "      <td>...</td>\n",
       "      <td>...</td>\n",
       "      <td>...</td>\n",
       "      <td>...</td>\n",
       "      <td>...</td>\n",
       "      <td>...</td>\n",
       "      <td>...</td>\n",
       "    </tr>\n",
       "    <tr>\n",
       "      <th>5322</th>\n",
       "      <td>ZrTmO3</td>\n",
       "      <td>Zr</td>\n",
       "      <td>Tm</td>\n",
       "      <td>0</td>\n",
       "      <td>0</td>\n",
       "      <td>0</td>\n",
       "      <td>0.89</td>\n",
       "      <td>0.96</td>\n",
       "      <td>0</td>\n",
       "      <td>-2.315</td>\n",
       "      <td>...</td>\n",
       "      <td>0.2</td>\n",
       "      <td>14.496</td>\n",
       "      <td>0</td>\n",
       "      <td>4.169</td>\n",
       "      <td>4.169</td>\n",
       "      <td>4.169</td>\n",
       "      <td>90</td>\n",
       "      <td>90</td>\n",
       "      <td>90</td>\n",
       "      <td>-3.645</td>\n",
       "    </tr>\n",
       "    <tr>\n",
       "      <th>5326</th>\n",
       "      <td>ZrYO3</td>\n",
       "      <td>Zr</td>\n",
       "      <td>Y</td>\n",
       "      <td>0</td>\n",
       "      <td>0</td>\n",
       "      <td>0</td>\n",
       "      <td>0.89</td>\n",
       "      <td>0.9</td>\n",
       "      <td>0</td>\n",
       "      <td>-2.126</td>\n",
       "      <td>...</td>\n",
       "      <td>0.2</td>\n",
       "      <td>15.277</td>\n",
       "      <td>0</td>\n",
       "      <td>4.243</td>\n",
       "      <td>4.243</td>\n",
       "      <td>4.243</td>\n",
       "      <td>90</td>\n",
       "      <td>90</td>\n",
       "      <td>90</td>\n",
       "      <td>-4.92</td>\n",
       "    </tr>\n",
       "    <tr>\n",
       "      <th>5327</th>\n",
       "      <td>ZrYbO3</td>\n",
       "      <td>Zr</td>\n",
       "      <td>Yb</td>\n",
       "      <td>0</td>\n",
       "      <td>0</td>\n",
       "      <td>0</td>\n",
       "      <td>0.89</td>\n",
       "      <td>0.95</td>\n",
       "      <td>1</td>\n",
       "      <td>-3.455</td>\n",
       "      <td>...</td>\n",
       "      <td>0</td>\n",
       "      <td>13.136</td>\n",
       "      <td>4.007</td>\n",
       "      <td>5.558</td>\n",
       "      <td>5.726</td>\n",
       "      <td>8.254</td>\n",
       "      <td>90</td>\n",
       "      <td>90</td>\n",
       "      <td>90</td>\n",
       "      <td>-6.177</td>\n",
       "    </tr>\n",
       "    <tr>\n",
       "      <th>5328</th>\n",
       "      <td>ZrZnO3</td>\n",
       "      <td>Zr</td>\n",
       "      <td>Zn</td>\n",
       "      <td>0</td>\n",
       "      <td>0</td>\n",
       "      <td>0</td>\n",
       "      <td>0.89</td>\n",
       "      <td>0.74</td>\n",
       "      <td>0</td>\n",
       "      <td>-1.63</td>\n",
       "      <td>...</td>\n",
       "      <td>0.001</td>\n",
       "      <td>10.804</td>\n",
       "      <td>0</td>\n",
       "      <td>3.78</td>\n",
       "      <td>3.78</td>\n",
       "      <td>3.78</td>\n",
       "      <td>90</td>\n",
       "      <td>90</td>\n",
       "      <td>90</td>\n",
       "      <td>-0.762</td>\n",
       "    </tr>\n",
       "    <tr>\n",
       "      <th>5329</th>\n",
       "      <td>Zr2O3</td>\n",
       "      <td>Zr</td>\n",
       "      <td>Zr</td>\n",
       "      <td>0</td>\n",
       "      <td>0</td>\n",
       "      <td>0</td>\n",
       "      <td>0.89</td>\n",
       "      <td>0.72</td>\n",
       "      <td>0</td>\n",
       "      <td>-2.382</td>\n",
       "      <td>...</td>\n",
       "      <td>0.382</td>\n",
       "      <td>13.915</td>\n",
       "      <td>0</td>\n",
       "      <td>4.113</td>\n",
       "      <td>4.113</td>\n",
       "      <td>4.113</td>\n",
       "      <td>90</td>\n",
       "      <td>90</td>\n",
       "      <td>90</td>\n",
       "      <td>3.218</td>\n",
       "    </tr>\n",
       "  </tbody>\n",
       "</table>\n",
       "<p>2639 rows × 21 columns</p>\n",
       "</div>"
      ],
      "text/plain": [
       "     Chemical_formula   A   B In_literature Valence_A Valence_B Radius_A  \\\n",
       "75              Ag2O3  Ag  Ag             0         0         0     1.28   \n",
       "76             AgAlO3  Ag  Al             0         0         0     1.28   \n",
       "79              AgBO3  Ag   B             0         1         1     0.75   \n",
       "80             AgBaO3  Ag  Ba             0         0         0     1.28   \n",
       "81             AgBeO3  Ag  Be             0         0         0     1.28   \n",
       "...               ...  ..  ..           ...       ...       ...      ...   \n",
       "5322           ZrTmO3  Zr  Tm             0         0         0     0.89   \n",
       "5326            ZrYO3  Zr   Y             0         0         0     0.89   \n",
       "5327           ZrYbO3  Zr  Yb             0         0         0     0.89   \n",
       "5328           ZrZnO3  Zr  Zn             0         0         0     0.89   \n",
       "5329            Zr2O3  Zr  Zr             0         0         0     0.89   \n",
       "\n",
       "     Radius_B Lowest_distortion Formation_energy  ... Magnetic_moment  \\\n",
       "75       0.95                 0            0.351  ...            0.00   \n",
       "76       0.54                 1            -1.51  ...            0.00   \n",
       "79       0.27                 0            -0.35  ...            0.00   \n",
       "80       1.35                 1           -0.989  ...            0.00   \n",
       "81       0.45                 0           -0.616  ...            0.00   \n",
       "...       ...               ...              ...  ...             ...   \n",
       "5322     0.96                 0           -2.315  ...             0.2   \n",
       "5326      0.9                 0           -2.126  ...             0.2   \n",
       "5327     0.95                 1           -3.455  ...               0   \n",
       "5328     0.74                 0            -1.63  ...           0.001   \n",
       "5329     0.72                 0           -2.382  ...           0.382   \n",
       "\n",
       "     Volume_per_atom Band_gap      a      b      c alpha beta gamma  \\\n",
       "75            12.997        0   4.02   4.02   4.02    90   90    90   \n",
       "76             9.898        0  5.094  5.323    7.3    90   90    90   \n",
       "79             8.138        0  3.439  3.439  3.439    90   90    90   \n",
       "80            15.631    0.247  6.636  6.739   6.99    90   90    90   \n",
       "81             8.781        0  3.528  3.528  3.528    90   90    90   \n",
       "...              ...      ...    ...    ...    ...   ...  ...   ...   \n",
       "5322          14.496        0  4.169  4.169  4.169    90   90    90   \n",
       "5326          15.277        0  4.243  4.243  4.243    90   90    90   \n",
       "5327          13.136    4.007  5.558  5.726  8.254    90   90    90   \n",
       "5328          10.804        0   3.78   3.78   3.78    90   90    90   \n",
       "5329          13.915        0  4.113  4.113  4.113    90   90    90   \n",
       "\n",
       "     Vacancy_energy  \n",
       "75           -2.694  \n",
       "76           -1.341  \n",
       "79           -2.641  \n",
       "80           -6.975  \n",
       "81           -3.058  \n",
       "...             ...  \n",
       "5322         -3.645  \n",
       "5326          -4.92  \n",
       "5327         -6.177  \n",
       "5328         -0.762  \n",
       "5329          3.218  \n",
       "\n",
       "[2639 rows x 21 columns]"
      ]
     },
     "execution_count": 4,
     "metadata": {},
     "output_type": "execute_result"
    }
   ],
   "source": [
    "df[1:]"
   ]
  },
  {
   "cell_type": "code",
   "execution_count": 5,
   "id": "a935d0fd",
   "metadata": {},
   "outputs": [],
   "source": [
    "features=[\"Formation_energy\",\"Stability\",\"Magnetic_moment\",\"Volume_per_atom\",\"Band_gap\",\"Vacancy_energy\"]\n",
    "#,\"Radius_A\",\"Radius_B\",\"Valence_A\",\"Valence_B\"\n",
    "#Best possible combination if we want to remove radius A and radius B\n",
    "X = df.loc[1:, features].values\n",
    "Y = df.loc[1:, \"Lowest_distortion\"].values"
   ]
  },
  {
   "cell_type": "code",
   "execution_count": 6,
   "id": "de5fc1d8",
   "metadata": {},
   "outputs": [
    {
     "data": {
      "text/plain": [
       "array([['0.351', '0.576', '0.00', '12.997', '0', '-2.694'],\n",
       "       ['-1.51', '0.235', '0.00', '9.898', '0', '-1.341'],\n",
       "       ['-0.35', '1.074', '0.00', '8.138', '0', '-2.641'],\n",
       "       ...,\n",
       "       ['-3.455', '0.205', '0', '13.136', '4.007', '-6.177'],\n",
       "       ['-1.63', '1.21', '0.001', '10.804', '0', '-0.762'],\n",
       "       ['-2.382', '0.906', '0.382', '13.915', '0', '3.218']], dtype=object)"
      ]
     },
     "execution_count": 6,
     "metadata": {},
     "output_type": "execute_result"
    }
   ],
   "source": [
    "X"
   ]
  },
  {
   "cell_type": "code",
   "execution_count": 7,
   "id": "9a867cc1",
   "metadata": {},
   "outputs": [],
   "source": [
    "X_train, X_test, Y_train, Y_test = model_selection.train_test_split (X, Y, test_size=0.2, random_state=25)"
   ]
  },
  {
   "cell_type": "code",
   "execution_count": 8,
   "id": "7776669e",
   "metadata": {},
   "outputs": [
    {
     "name": "stdout",
     "output_type": "stream",
     "text": [
      "Class=1, n=678 (32.117%)\n",
      "Class=2, n=101 (4.784%)\n",
      "Class=0, n=1293 (61.251%)\n",
      "Class=3, n=39 (1.847%)\n"
     ]
    }
   ],
   "source": [
    "counter = Counter(Y_train)\n",
    "for k,v in counter.items():\n",
    "    per = v / len(Y_train) * 100\n",
    "    print('Class=%s, n=%s (%.3f%%)' % (k, v, per))"
   ]
  },
  {
   "cell_type": "code",
   "execution_count": 9,
   "id": "a51a9445",
   "metadata": {},
   "outputs": [],
   "source": [
    "oversample = SMOTE()\n",
    "X_train, Y_train = oversample.fit_resample(X_train, Y_train)"
   ]
  },
  {
   "cell_type": "code",
   "execution_count": 10,
   "id": "d41cd7a6",
   "metadata": {},
   "outputs": [
    {
     "name": "stdout",
     "output_type": "stream",
     "text": [
      "Class=1, n=1293 (25.000%)\n",
      "Class=2, n=1293 (25.000%)\n",
      "Class=0, n=1293 (25.000%)\n",
      "Class=3, n=1293 (25.000%)\n"
     ]
    }
   ],
   "source": [
    "counter = Counter(Y_train)\n",
    "for k,v in counter.items():\n",
    "    per = v / len(Y_train) * 100\n",
    "    print('Class=%s, n=%s (%.3f%%)' % (k, v, per))"
   ]
  },
  {
   "cell_type": "markdown",
   "id": "a8878242",
   "metadata": {},
   "source": [
    "**SUPPORT VECTOR MACHINE-LINEAR KERNEL**"
   ]
  },
  {
   "cell_type": "code",
   "execution_count": 11,
   "id": "7fa1038c",
   "metadata": {},
   "outputs": [
    {
     "name": "stdout",
     "output_type": "stream",
     "text": [
      "0.8068181818181818\n"
     ]
    }
   ],
   "source": [
    "#without weights\n",
    "SVM_linear = svm.SVC(kernel='linear', C=100,gamma=0.01,random_state=31).fit(X_train, Y_train)\n",
    "print(SVM_linear.score(X_test, Y_test))"
   ]
  },
  {
   "cell_type": "code",
   "execution_count": 12,
   "id": "c771817f",
   "metadata": {},
   "outputs": [],
   "source": [
    "prediction_Y=SVM_linear.predict(X_test)"
   ]
  },
  {
   "cell_type": "code",
   "execution_count": 13,
   "id": "f2873f56",
   "metadata": {},
   "outputs": [
    {
     "name": "stdout",
     "output_type": "stream",
     "text": [
      "              precision    recall  f1-score   support\n",
      "\n",
      "           0       0.99      0.97      0.98       321\n",
      "           1       0.87      0.56      0.68       168\n",
      "           2       0.19      0.44      0.27        25\n",
      "           3       0.19      0.64      0.30        14\n",
      "\n",
      "    accuracy                           0.81       528\n",
      "   macro avg       0.56      0.65      0.56       528\n",
      "weighted avg       0.89      0.81      0.83       528\n",
      "\n",
      "[[312   3   2   4]\n",
      " [  2  94  44  28]\n",
      " [  1   7  11   6]\n",
      " [  0   4   1   9]]\n"
     ]
    }
   ],
   "source": [
    "cr = report(Y_test, prediction_Y)\n",
    "cm = confusion_matrix(Y_test, prediction_Y)\n",
    "print(cr)\n",
    "print(cm)"
   ]
  },
  {
   "cell_type": "code",
   "execution_count": null,
   "id": "d507e161",
   "metadata": {},
   "outputs": [],
   "source": []
  },
  {
   "cell_type": "code",
   "execution_count": 14,
   "id": "3e5e38ee",
   "metadata": {},
   "outputs": [
    {
     "data": {
      "text/plain": [
       "(2639,)"
      ]
     },
     "execution_count": 14,
     "metadata": {},
     "output_type": "execute_result"
    }
   ],
   "source": [
    "#setting weights so that points which exist in literature has more weight\n",
    "weights=[]\n",
    "for i in df[\"In_literature\"]:\n",
    "    if i=='0':\n",
    "        weights=np.append(weights,np.array([1]))\n",
    "    if i=='1':\n",
    "        weights=np.append(weights,np.array([5]))\n",
    "    else:\n",
    "        pass\n",
    "weights.shape"
   ]
  },
  {
   "cell_type": "code",
   "execution_count": null,
   "id": "290dcfb7",
   "metadata": {},
   "outputs": [],
   "source": [
    "#NOT WORKING\n",
    "#with weights\n",
    "\n",
    "SVM_linear2 = svm.SVC(kernel='linear',C=100,gamma=0.01)\n",
    "SVM_linear2.fit(X_train, Y_train, sample_weight=np.ones(len(X_train)))\n",
    "    #want to make it so that its not np.ones but rater weights, which consideres literature value\n",
    "    #, which is not over sampled giving different shapes for feqtures\n",
    "print(SVM_linear2.score(X_test,Y_test))"
   ]
  },
  {
   "cell_type": "code",
   "execution_count": null,
   "id": "d41fe8a2",
   "metadata": {},
   "outputs": [],
   "source": [
    "prediction_Y=SVM_linear2.predict(X_test)\n",
    "cr = report(Y_test, prediction_Y)\n",
    "cm = confusion_matrix(Y_test, prediction_Y)\n",
    "print(cr)\n",
    "print(cm)"
   ]
  },
  {
   "cell_type": "markdown",
   "id": "f6970e47",
   "metadata": {},
   "source": [
    "**SUPPORT VECTOR MACHINE-GAUSSIAN RBF KERNEL**"
   ]
  },
  {
   "cell_type": "code",
   "execution_count": 17,
   "id": "56edcd60",
   "metadata": {},
   "outputs": [
    {
     "name": "stdout",
     "output_type": "stream",
     "text": [
      "0.8768939393939394\n"
     ]
    }
   ],
   "source": [
    "#without weights\n",
    "SVM_rbf = svm.SVC(kernel='rbf', C=100,random_state=31).fit(X_train, Y_train)\n",
    "print(SVM_rbf.score(X_test, Y_test))"
   ]
  },
  {
   "cell_type": "code",
   "execution_count": 18,
   "id": "592747d0",
   "metadata": {},
   "outputs": [
    {
     "name": "stdout",
     "output_type": "stream",
     "text": [
      "              precision    recall  f1-score   support\n",
      "\n",
      "           0       0.98      0.97      0.98       321\n",
      "           1       0.90      0.77      0.83       168\n",
      "           2       0.32      0.48      0.39        25\n",
      "           3       0.31      0.64      0.42        14\n",
      "\n",
      "    accuracy                           0.88       528\n",
      "   macro avg       0.63      0.72      0.65       528\n",
      "weighted avg       0.91      0.88      0.89       528\n",
      "\n",
      "[[312   3   3   3]\n",
      " [  3 130  21  14]\n",
      " [  1   9  12   3]\n",
      " [  1   3   1   9]]\n"
     ]
    }
   ],
   "source": [
    "prediction_Y=SVM_rbf.predict(X_test)\n",
    "cr = report(Y_test, prediction_Y)\n",
    "cm = confusion_matrix(Y_test, prediction_Y)\n",
    "print(cr)\n",
    "print(cm)"
   ]
  },
  {
   "cell_type": "markdown",
   "id": "bdf952f8",
   "metadata": {},
   "source": [
    "**SUPPORT VECTOR MACHINE-SIGMOID KERNEL**"
   ]
  },
  {
   "cell_type": "code",
   "execution_count": 19,
   "id": "d0f59d1d",
   "metadata": {},
   "outputs": [
    {
     "name": "stdout",
     "output_type": "stream",
     "text": [
      "0.42992424242424243\n"
     ]
    }
   ],
   "source": [
    "#without weights\n",
    "SVM_sigmoid = svm.SVC(kernel='sigmoid', C=100,random_state=31).fit(X_train, Y_train)\n",
    "print(SVM_sigmoid.score(X_test, Y_test))"
   ]
  },
  {
   "cell_type": "code",
   "execution_count": 20,
   "id": "f50dd48b",
   "metadata": {},
   "outputs": [
    {
     "name": "stdout",
     "output_type": "stream",
     "text": [
      "              precision    recall  f1-score   support\n",
      "\n",
      "           0       0.65      0.53      0.58       321\n",
      "           1       0.31      0.33      0.32       168\n",
      "           2       0.03      0.04      0.03        25\n",
      "           3       0.02      0.07      0.03        14\n",
      "\n",
      "    accuracy                           0.43       528\n",
      "   macro avg       0.25      0.24      0.24       528\n",
      "weighted avg       0.50      0.43      0.46       528\n",
      "\n",
      "[[169 113  24  15]\n",
      " [ 68  56  15  29]\n",
      " [ 12  10   1   2]\n",
      " [ 11   2   0   1]]\n"
     ]
    }
   ],
   "source": [
    "prediction_Y=SVM_sigmoid.predict(X_test)\n",
    "cr = report(Y_test, prediction_Y)\n",
    "cm = confusion_matrix(Y_test, prediction_Y)\n",
    "print(cr)\n",
    "print(cm)"
   ]
  },
  {
   "cell_type": "markdown",
   "id": "5c1e0c2b",
   "metadata": {},
   "source": [
    "**SUPPORT VECTOR MACHINE-POLYNOMIAL KERNEL**"
   ]
  },
  {
   "cell_type": "code",
   "execution_count": 21,
   "id": "d22f48e9",
   "metadata": {},
   "outputs": [
    {
     "name": "stdout",
     "output_type": "stream",
     "text": [
      "0.42992424242424243\n"
     ]
    }
   ],
   "source": [
    "#without weights\n",
    "SVM_poly = svm.SVC(kernel ='poly', degree = 3, C=100,random_state=31).fit(X_train, Y_train)\n",
    "print(SVM_sigmoid.score(X_test, Y_test))"
   ]
  },
  {
   "cell_type": "code",
   "execution_count": 22,
   "id": "942b3e6a",
   "metadata": {},
   "outputs": [
    {
     "name": "stdout",
     "output_type": "stream",
     "text": [
      "              precision    recall  f1-score   support\n",
      "\n",
      "           0       0.99      0.96      0.98       321\n",
      "           1       0.86      0.66      0.75       168\n",
      "           2       0.22      0.32      0.26        25\n",
      "           3       0.20      0.71      0.31        14\n",
      "\n",
      "    accuracy                           0.83       528\n",
      "   macro avg       0.57      0.66      0.57       528\n",
      "weighted avg       0.89      0.83      0.85       528\n",
      "\n",
      "[[309   3   2   7]\n",
      " [  2 111  26  29]\n",
      " [  1  12   8   4]\n",
      " [  0   3   1  10]]\n"
     ]
    }
   ],
   "source": [
    "prediction_Y=SVM_poly.predict(X_test)\n",
    "cr = report(Y_test, prediction_Y)\n",
    "cm = confusion_matrix(Y_test, prediction_Y)\n",
    "print(cr)\n",
    "print(cm)"
   ]
  },
  {
   "cell_type": "code",
   "execution_count": null,
   "id": "08c9709c",
   "metadata": {},
   "outputs": [],
   "source": []
  }
 ],
 "metadata": {
  "kernelspec": {
   "display_name": "Python 3 (ipykernel)",
   "language": "python",
   "name": "python3"
  },
  "language_info": {
   "codemirror_mode": {
    "name": "ipython",
    "version": 3
   },
   "file_extension": ".py",
   "mimetype": "text/x-python",
   "name": "python",
   "nbconvert_exporter": "python",
   "pygments_lexer": "ipython3",
   "version": "3.9.13"
  }
 },
 "nbformat": 4,
 "nbformat_minor": 5
}
