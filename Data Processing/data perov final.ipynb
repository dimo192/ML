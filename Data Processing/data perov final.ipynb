{
 "cells": [
  {
   "cell_type": "code",
   "execution_count": 26,
   "metadata": {},
   "outputs": [
    {
     "name": "stdout",
     "output_type": "stream",
     "text": [
      "['builder_meta', 'nsites', 'elements', 'nelements']\n",
      "['composition', 'composition_reduced', 'formula_pretty', 'formula_anonymous']\n",
      "['chemsys', 'volume', 'density', 'density_atomic']\n",
      "['symmetry', 'property_name', 'material_id', 'deprecated']\n",
      "['deprecation_reasons', 'last_updated', 'origins', 'warnings']\n",
      "['structure', 'task_ids', 'uncorrected_energy_per_atom', 'energy_per_atom']\n",
      "['formation_energy_per_atom', 'energy_above_hull', 'is_stable', 'equilibrium_reaction_energy_per_atom']\n",
      "['decomposes_to', 'xas', 'grain_boundaries', 'band_gap']\n",
      "['cbm', 'vbm', 'efermi', 'is_gap_direct']\n",
      "['is_metal', 'es_source_calc_id', 'bandstructure', 'dos']\n",
      "['dos_energy_up', 'dos_energy_down', 'is_magnetic', 'ordering']\n",
      "['total_magnetization', 'total_magnetization_normalized_vol', 'total_magnetization_normalized_formula_units', 'num_magnetic_sites']\n",
      "['num_unique_magnetic_sites', 'types_of_magnetic_species', 'k_voigt', 'k_reuss']\n",
      "['k_vrh', 'g_voigt', 'g_reuss', 'g_vrh']\n",
      "['universal_anisotropy', 'homogeneous_poisson', 'e_total', 'e_ionic']\n",
      "['e_electronic', 'n', 'e_ij_max', 'weighted_surface_energy_EV_PER_ANG2']\n",
      "['weighted_surface_energy', 'weighted_work_function', 'surface_anisotropy', 'shape_factor']\n",
      "['has_reconstructed', 'possible_species', 'has_props', 'theoretical']\n",
      "['database_IDs']\n",
      "['builder_meta', 'nsites', 'elements', 'nelements', 'composition', 'composition_reduced', 'formula_pretty', 'formula_anonymous', 'chemsys', 'volume', 'density', 'density_atomic', 'symmetry', 'property_name', 'material_id', 'deprecated', 'deprecation_reasons', 'last_updated', 'origins', 'warnings', 'structure', 'task_ids', 'uncorrected_energy_per_atom', 'energy_per_atom', 'formation_energy_per_atom', 'energy_above_hull', 'is_stable', 'equilibrium_reaction_energy_per_atom', 'decomposes_to', 'xas', 'grain_boundaries', 'band_gap', 'cbm', 'vbm', 'efermi', 'is_gap_direct', 'is_metal', 'es_source_calc_id', 'bandstructure', 'dos', 'dos_energy_up', 'dos_energy_down', 'is_magnetic', 'ordering', 'total_magnetization', 'total_magnetization_normalized_vol', 'total_magnetization_normalized_formula_units', 'num_magnetic_sites', 'num_unique_magnetic_sites', 'types_of_magnetic_species', 'k_voigt', 'k_reuss', 'k_vrh', 'g_voigt', 'g_reuss', 'g_vrh', 'universal_anisotropy', 'homogeneous_poisson', 'e_total', 'e_ionic', 'e_electronic', 'n', 'e_ij_max', 'weighted_surface_energy_EV_PER_ANG2', 'weighted_surface_energy', 'weighted_work_function', 'surface_anisotropy', 'shape_factor', 'has_reconstructed', 'possible_species', 'has_props', 'theoretical', 'database_IDs']\n",
      "\n"
     ]
    }
   ],
   "source": [
    "from mp_api.client import MPRester\n",
    "API_KEY = \"nsoaeMLdE0cEg9JwKCf8YqOtijLwq0KD\"\n",
    "mpr=MPRester(API_KEY)\n",
    "a_fields = mpr.summary.available_fields\n",
    "for i in range(0,len(a_fields),4):\n",
    "    print(a_fields[i:i+4])\n",
    "print(a_fields)\n",
    "print(\"\")"
   ]
  },
  {
   "cell_type": "code",
   "execution_count": 27,
   "metadata": {},
   "outputs": [],
   "source": [
    "field=[ 'nsites', 'elements', 'nelements', 'composition', 'composition_reduced', 'formula_pretty', 'formula_anonymous', 'chemsys', 'volume', 'density', 'density_atomic', 'symmetry',  'material_id',  'uncorrected_energy_per_atom', 'energy_per_atom', 'formation_energy_per_atom', 'energy_above_hull', 'is_stable', 'grain_boundaries', 'band_gap', 'cbm', 'vbm', 'efermi', 'is_gap_direct', 'is_metal',  'is_magnetic', 'ordering', 'total_magnetization', 'total_magnetization_normalized_vol', 'total_magnetization_normalized_formula_units', 'num_magnetic_sites', 'num_unique_magnetic_sites', 'types_of_magnetic_species', 'k_vrh', 'g_vrh','e_total', 'e_ionic', 'e_electronic', 'n', 'e_ij_max', 'weighted_surface_energy_EV_PER_ANG2', 'weighted_surface_energy', 'weighted_work_function', 'surface_anisotropy', 'shape_factor', 'has_reconstructed', 'possible_species',  'theoretical']\n"
   ]
  },
  {
   "cell_type": "code",
   "execution_count": 28,
   "metadata": {},
   "outputs": [
    {
     "data": {
      "application/vnd.jupyter.widget-view+json": {
       "model_id": "40b863b825b549de9bc8edd69c6ecf56",
       "version_major": 2,
       "version_minor": 0
      },
      "text/plain": [
       "Retrieving RobocrystallogapherDoc documents:   0%|          | 0/9284 [00:00<?, ?it/s]"
      ]
     },
     "metadata": {},
     "output_type": "display_data"
    }
   ],
   "source": [
    "with MPRester(API_KEY) as mpr:\n",
    "    Perovskite = mpr.robocrys.search(keywords=[\"perovskite\"])"
   ]
  },
  {
   "cell_type": "code",
   "execution_count": 29,
   "metadata": {},
   "outputs": [
    {
     "name": "stdout",
     "output_type": "stream",
     "text": [
      "\u001b[4m\u001b[1mMPDataDoc<RobocrystallogapherDoc>\u001b[0;0m\u001b[0;0m\n",
      "\u001b[1mmaterial_id\u001b[0;0m=MPID(mp-1228411),\n",
      "\u001b[1mdescription\u001b[0;0m='Li₂Ba₅U₃O₁₅ is (Cubic) Perovskite-derived structured and crystallizes in the tetragonal I4/m space group. Li¹⁺ is bonded to six O²⁻ atoms to form LiO₆ octahedra that share corners with six UO₆ octahedra and faces with eight BaO₁₂ cuboctahedra. The corner-sharing octahedral tilt angles range from 1–3°. There are a spread of Li–O bond distances ranging from 2.15–2.32 Å. There are two inequivalent Ba²⁺ sites. In the first Ba²⁺ site, Ba²⁺ is bonded to twelve O²⁻ atoms to form BaO₁₂ cuboctahedra that share corners with twelve equivalent BaO₁₂ cuboctahedra, faces with six BaO₁₂ cuboctahedra, faces with four equivalent LiO₆ octahedra, and faces with four equivalent UO₆ octahedra. There are eight shorter (3.07 Å) and four longer (3.08 Å) Ba–O bond lengths. In the second Ba²⁺ site, Ba²⁺ is bonded to twelve O²⁻ atoms to form BaO₁₂ cuboctahedra that share corners with twelve BaO₁₂ cuboctahedra, faces with six BaO₁₂ cuboctahedra, faces with three equivalent LiO₆ octahedra, and faces with five UO₆ octahedra. There are a spread of Ba–O bond distances ranging from 2.85–3.24 Å. There are three inequivalent U⁶⁺ sites. In the first U⁶⁺ site, U⁶⁺ is bonded to six O²⁻ atoms to form UO₆ octahedra that share corners with six UO₆ octahedra and faces with eight equivalent BaO₁₂ cuboctahedra. The corner-sharing octahedra are not tilted. There are two shorter (2.06 Å) and four longer (2.07 Å) U–O bond lengths. In the second U⁶⁺ site, U⁶⁺ is bonded to six O²⁻ atoms to form UO₆ octahedra that share  a cornercorner with one UO₆ octahedra, corners with five equivalent LiO₆ octahedra, and faces with eight BaO₁₂ cuboctahedra. The corner-sharing octahedral tilt angles range from 0–3°. There are a spread of U–O bond distances ranging from 2.05–2.25 Å. In the third U⁶⁺ site, U⁶⁺ is bonded to six O²⁻ atoms to form UO₆ octahedra that share corners with two equivalent UO₆ octahedra, corners with four equivalent LiO₆ octahedra, and faces with eight equivalent BaO₁₂ cuboctahedra. The corner-sharing octahedral tilt angles range from 0–2°. There are four shorter (2.01 Å) and two longer (2.26 Å) U–O bond lengths. There are seven inequivalent O²⁻ sites. In the first O²⁻ site, O²⁻ is bonded in a 2-coordinate geometry to one Li¹⁺, four Ba²⁺, and one U⁶⁺ atom. In the second O²⁻ site, O²⁻ is bonded in a distorted linear geometry to four equivalent Ba²⁺ and two U⁶⁺ atoms. In the third O²⁻ site, O²⁻ is bonded in a distorted linear geometry to one Li¹⁺, four equivalent Ba²⁺, and one U⁶⁺ atom. In the fourth O²⁻ site, O²⁻ is bonded in a distorted linear geometry to four equivalent Ba²⁺ and two U⁶⁺ atoms. In the fifth O²⁻ site, O²⁻ is bonded in a distorted linear geometry to one Li¹⁺, four equivalent Ba²⁺, and one U⁶⁺ atom. In the sixth O²⁻ site, O²⁻ is bonded in a distorted linear geometry to one Li¹⁺, four Ba²⁺, and one U⁶⁺ atom. In the seventh O²⁻ site, O²⁻ is bonded in a distorted linear geometry to one Li¹⁺, four Ba²⁺, and one U⁶⁺ atom.',\n",
      "\u001b[1mcondensed_structure\u001b[0;0m=CondensedStructureData(mineral=MineralData(type='(Cubic) Perovskite', name=None), dimensionality=3, formula='Li2Ba5U3O15', spg_symbol='I4/m', crystal_system='tetragonal')\n",
      "\n",
      "\u001b[1mFields not requested:\u001b[0;0m\n",
      "['builder_meta', 'nsites', 'elements', 'nelements', 'composition', 'composition_reduced', 'formula_pretty', 'formula_anonymous', 'chemsys', 'volume', 'density', 'density_atomic', 'symmetry', 'property_name', 'deprecated', 'deprecation_reasons', 'last_updated', 'origins', 'warnings', 'robocrys_version']\n"
     ]
    }
   ],
   "source": [
    "print(Perovskite[0])"
   ]
  },
  {
   "cell_type": "code",
   "execution_count": 30,
   "metadata": {},
   "outputs": [
    {
     "name": "stdout",
     "output_type": "stream",
     "text": [
      "mp-1228411\n"
     ]
    }
   ],
   "source": [
    "from collections import Counter\n",
    "p0=(Perovskite[0].material_id)\n",
    "print(p0)"
   ]
  },
  {
   "cell_type": "code",
   "execution_count": 31,
   "metadata": {},
   "outputs": [
    {
     "name": "stdout",
     "output_type": "stream",
     "text": [
      "tetragonal: 452\n",
      "cubic: 5863\n",
      "triclinic: 744\n",
      "monoclinic: 863\n",
      "orthorhombic: 1091\n",
      "trigonal: 166\n",
      "hexagonal: 105\n"
     ]
    }
   ],
   "source": [
    "mineral4types=[]\n",
    "for p in Perovskite:\n",
    "    mineral4types.append(p.condensed_structure.crystal_system)\n",
    "my_list=mineral4types\n",
    "counted = Counter(my_list)\n",
    "elementsp = []\n",
    "counts = []\n",
    "for element, count in counted.items():\n",
    "    print(f\"{element}: {count}\")\n",
    "    elementsp.append(element)\n",
    "    counts.append(count)\n"
   ]
  },
  {
   "cell_type": "code",
   "execution_count": 32,
   "metadata": {},
   "outputs": [],
   "source": [
    "def get_formula(s):        \n",
    "    formula = s.split()[0]\n",
    "    subscripts = {\"₀\": \"0\",\"₁\": \"1\", \"₂\": \"2\", \"₃\": \"3\", \"₄\": \"4\", \"₅\": \"5\", \"₆\": \"6\", \"₇\": \"7\",\"₈\": \"8\", \"₉\": \"9\"}\n",
    "    for char in subscripts:\n",
    "        formula = formula.replace(char, subscripts[char])\n",
    "    return formula\n"
   ]
  },
  {
   "cell_type": "code",
   "execution_count": 33,
   "metadata": {},
   "outputs": [
    {
     "data": {
      "text/plain": [
       "9284"
      ]
     },
     "execution_count": 33,
     "metadata": {},
     "output_type": "execute_result"
    }
   ],
   "source": [
    "ids1=[]\n",
    "for instance in Perovskite:\n",
    "    ids1.append(instance.material_id)\n",
    "len(ids1)"
   ]
  },
  {
   "cell_type": "code",
   "execution_count": 34,
   "metadata": {},
   "outputs": [
    {
     "data": {
      "application/vnd.jupyter.widget-view+json": {
       "model_id": "126f49c1c004432ca0dc1617e7979056",
       "version_major": 2,
       "version_minor": 0
      },
      "text/plain": [
       "Retrieving SummaryDoc documents:   0%|          | 0/7857 [00:00<?, ?it/s]"
      ]
     },
     "metadata": {},
     "output_type": "display_data"
    },
    {
     "name": "stdout",
     "output_type": "stream",
     "text": [
      "7857\n"
     ]
    }
   ],
   "source": [
    "docs_pure_perovskites = mpr.summary.search(material_ids=ids1,fields=field)  \n",
    "print(len(docs_pure_perovskites))"
   ]
  },
  {
   "cell_type": "code",
   "execution_count": 35,
   "metadata": {},
   "outputs": [
    {
     "name": "stdout",
     "output_type": "stream",
     "text": [
      "None\n"
     ]
    }
   ],
   "source": [
    "print(docs_pure_perovskites[0].shape_factor)"
   ]
  },
  {
   "cell_type": "code",
   "execution_count": 36,
   "metadata": {},
   "outputs": [],
   "source": [
    "possible_space_groups=['Pm-3m', 'P4/mmm', 'I4/mcm', 'Fm-3m', 'Pnma', 'R-3c', 'R-3m', 'R3', 'Pm-3n', 'P-6m2', 'P6_3/m', 'P6_3/mcm', 'P4/m', 'I4/m', 'Pm-3', 'P4/nmm', 'P4_2/mnm', 'P6_3cm', 'P2_1/c', 'Pca2_1', 'Pn-3', 'Pn-3n', 'Pbcm', 'Pmc2_1']\n"
   ]
  },
  {
   "cell_type": "code",
   "execution_count": 37,
   "metadata": {},
   "outputs": [
    {
     "name": "stdout",
     "output_type": "stream",
     "text": [
      "Done\n",
      "5042\n"
     ]
    }
   ],
   "source": [
    "import csv\n",
    "data=docs_pure_perovskites\n",
    "c=0\n",
    "with open('materials_data.csv', mode='w', newline='') as file:\n",
    "    fieldnames = [\"Shape\"]+field\n",
    "    writer = csv.DictWriter(file, fieldnames=fieldnames)\n",
    "    writer.writeheader()\n",
    "    for doc in data:\n",
    "        x3=doc.symmetry.crystal_system\n",
    "        space_group=doc.symmetry.symbol\n",
    "        if space_group in possible_space_groups:    \n",
    "                c=c+1            \n",
    "                writer.writerow({'Shape':x3,'nsites': doc.nsites,'elements': doc.elements,'nelements': doc.nelements,'composition': doc.composition,\n",
    "        'composition_reduced': doc.composition_reduced,'formula_pretty': doc.formula_pretty,'formula_anonymous': doc.formula_anonymous,\n",
    "        'chemsys': doc.chemsys,'volume': doc.volume,'density': doc.density,'density_atomic': doc.density_atomic,'symmetry': doc.symmetry,\n",
    "        'material_id': doc.material_id,'uncorrected_energy_per_atom': doc.uncorrected_energy_per_atom,'energy_per_atom': doc.energy_per_atom,\n",
    "        'formation_energy_per_atom': doc.formation_energy_per_atom,'energy_above_hull': doc.energy_above_hull,'is_stable': doc.is_stable,\n",
    "        'grain_boundaries': doc.grain_boundaries,'band_gap': doc.band_gap,'cbm': doc.cbm,'vbm': doc.vbm,'efermi': doc.efermi,\n",
    "        'is_gap_direct': doc.is_gap_direct,'is_metal': doc.is_metal,'is_magnetic': doc.is_magnetic,'ordering': doc.ordering,\n",
    "        'total_magnetization': doc.total_magnetization,'total_magnetization_normalized_vol': doc.total_magnetization_normalized_vol,\n",
    "        'total_magnetization_normalized_formula_units': doc.total_magnetization_normalized_formula_units,\n",
    "        'num_magnetic_sites': doc.num_magnetic_sites,'num_unique_magnetic_sites': doc.num_unique_magnetic_sites,\n",
    "        'types_of_magnetic_species': doc.types_of_magnetic_species,'k_vrh': doc.k_vrh,'g_vrh': doc.g_vrh,'e_total': doc.e_total,'e_ionic': doc.e_ionic,\n",
    "        'e_electronic': doc.e_electronic,'n': doc.n,'e_ij_max': doc.e_ij_max,'weighted_surface_energy_EV_PER_ANG2': doc.weighted_surface_energy_EV_PER_ANG2,\n",
    "        'weighted_surface_energy': doc.weighted_surface_energy,'weighted_work_function': doc.weighted_work_function,'surface_anisotropy': doc.surface_anisotropy,\n",
    "        'shape_factor': doc.shape_factor,'has_reconstructed': doc.has_reconstructed,'possible_species': doc.possible_species,'theoretical': doc.theoretical,\n",
    "                })\n",
    "print(\"Done\")\n",
    "print(c)"
   ]
  }
 ],
 "metadata": {
  "kernelspec": {
   "display_name": "Python 3",
   "language": "python",
   "name": "python3"
  },
  "language_info": {
   "codemirror_mode": {
    "name": "ipython",
    "version": 3
   },
   "file_extension": ".py",
   "mimetype": "text/x-python",
   "name": "python",
   "nbconvert_exporter": "python",
   "pygments_lexer": "ipython3",
   "version": "3.11.3"
  },
  "orig_nbformat": 4
 },
 "nbformat": 4,
 "nbformat_minor": 2
}
