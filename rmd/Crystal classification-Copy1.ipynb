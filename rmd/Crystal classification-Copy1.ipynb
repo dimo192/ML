{
 "cells": [
  {
   "cell_type": "code",
   "execution_count": 1,
   "id": "88c44f52",
   "metadata": {},
   "outputs": [],
   "source": [
    "import pandas as pd\n",
    "from sklearn.datasets import make_blobs\n",
    "from sklearn import model_selection\n",
    "from sklearn import svm\n",
    "import numpy as np\n",
    "import matplotlib.pyplot as plt\n",
    "from scipy import stats\n",
    "from imblearn.over_sampling import SMOTE\n",
    "from collections import Counter\n",
    "from sklearn.metrics import confusion_matrix\n",
    "import sklearn.datasets as datasets\n",
    "from sklearn.metrics import classification_report as report\n",
    "from sklearn.datasets import make_classification\n",
    "from numpy import argmax\n",
    "from sklearn import metrics\n",
    "from imblearn.over_sampling import SVMSMOTE\n",
    "import warnings\n",
    "warnings.filterwarnings('ignore')\n",
    "from sklearn.model_selection import GridSearchCV\n",
    "from xgboost.sklearn import XGBClassifier\n",
    "import xgboost as xgb\n",
    "from sklearn.model_selection import RandomizedSearchCV\n",
    "from sklearn.metrics import log_loss\n",
    "import lightgbm as lgb\n",
    "from sklearn.ensemble import AdaBoostClassifier"
   ]
  },
  {
   "cell_type": "code",
   "execution_count": 2,
   "id": "50cd4bbd",
   "metadata": {},
   "outputs": [],
   "source": [
    "data=pd.read_csv(\"data2.csv\")"
   ]
  },
  {
   "cell_type": "code",
   "execution_count": 3,
   "id": "ca598ce7",
   "metadata": {},
   "outputs": [],
   "source": [
    "data.drop(data.index[(data[\"Valence_B\"] == \"5\")],axis=0,inplace=True)\n",
    "data.drop(data.index[(data[\"Valence_A\"] == \"5\")],axis=0,inplace=True)\n",
    "data.drop(data.index[(data[\"Valence_B\"] == \"4\")],axis=0,inplace=True)\n",
    "data.drop(data.index[(data[\"Valence_A\"] == \"4\")],axis=0,inplace=True)\n",
    "data.drop(data.index[(data[\"Valence_A\"] == \"element not in BV\")],axis=0,inplace=True)\n",
    "data.drop(data.index[(data[\"Valence_B\"] == \"element not in BV\")],axis=0,inplace=True)\n",
    "data.drop(data.index[(data[\"Vacancy_energy\"] ==\"-\")],axis=0,inplace=True)\n",
    "data['Valence_A'] = data['Valence_A'].replace(['not balanced'], '0') \n",
    "data['Valence_A'] = data['Valence_A'].replace(['3'], '1') \n",
    "data['Valence_B'] = data['Valence_B'].replace(['not balanced'], '0') \n",
    "data['Valence_B'] = data['Valence_B'].replace(['3'], '1') \n",
    "data['Lowest_distortion'] = data['Lowest_distortion'].replace(['cubic'], 0) \n",
    "data['Lowest_distortion'] = data['Lowest_distortion'].replace(['orthorhombic'], 1)\n",
    "data['Lowest_distortion'] = data['Lowest_distortion'].replace(['rhombohedral'], 2)\n",
    "data['Lowest_distortion'] = data['Lowest_distortion'].replace(['tetragonal'], 3)\n",
    "data['Magnetic_moment'] = data['Magnetic_moment'].replace(['-'], '0.00')\n",
    "data['Vacancy_energy'] = data['Vacancy_energy'].replace(['-'], '0.00')\n",
    "data['In_literature'] = data['In_literature'].replace([False], '0') \n",
    "data['In_literature'] = data['In_literature'].replace([True], '1')"
   ]
  },
  {
   "cell_type": "code",
   "execution_count": 4,
   "id": "74956bf1",
   "metadata": {},
   "outputs": [
    {
     "data": {
      "text/html": [
       "<div>\n",
       "<style scoped>\n",
       "    .dataframe tbody tr th:only-of-type {\n",
       "        vertical-align: middle;\n",
       "    }\n",
       "\n",
       "    .dataframe tbody tr th {\n",
       "        vertical-align: top;\n",
       "    }\n",
       "\n",
       "    .dataframe thead th {\n",
       "        text-align: right;\n",
       "    }\n",
       "</style>\n",
       "<table border=\"1\" class=\"dataframe\">\n",
       "  <thead>\n",
       "    <tr style=\"text-align: right;\">\n",
       "      <th></th>\n",
       "      <th>Chemical_formula</th>\n",
       "      <th>A</th>\n",
       "      <th>B</th>\n",
       "      <th>In_literature</th>\n",
       "      <th>Valence_A</th>\n",
       "      <th>Valence_B</th>\n",
       "      <th>Radius_A</th>\n",
       "      <th>Radius_B</th>\n",
       "      <th>Lowest_distortion</th>\n",
       "      <th>Formation_energy</th>\n",
       "      <th>...</th>\n",
       "      <th>Magnetic_moment</th>\n",
       "      <th>Volume_per_atom</th>\n",
       "      <th>Band_gap</th>\n",
       "      <th>a</th>\n",
       "      <th>b</th>\n",
       "      <th>c</th>\n",
       "      <th>alpha</th>\n",
       "      <th>beta</th>\n",
       "      <th>gamma</th>\n",
       "      <th>Vacancy_energy</th>\n",
       "    </tr>\n",
       "  </thead>\n",
       "  <tbody>\n",
       "    <tr>\n",
       "      <th>74</th>\n",
       "      <td>Ag2O3</td>\n",
       "      <td>Ag</td>\n",
       "      <td>Ag</td>\n",
       "      <td>0</td>\n",
       "      <td>0</td>\n",
       "      <td>0</td>\n",
       "      <td>1.28</td>\n",
       "      <td>0.95</td>\n",
       "      <td>0</td>\n",
       "      <td>0.351</td>\n",
       "      <td>...</td>\n",
       "      <td>0.00</td>\n",
       "      <td>12.997</td>\n",
       "      <td>0</td>\n",
       "      <td>4.02</td>\n",
       "      <td>4.02</td>\n",
       "      <td>4.02</td>\n",
       "      <td>90</td>\n",
       "      <td>90</td>\n",
       "      <td>90</td>\n",
       "      <td>-2.694</td>\n",
       "    </tr>\n",
       "    <tr>\n",
       "      <th>75</th>\n",
       "      <td>AgAlO3</td>\n",
       "      <td>Ag</td>\n",
       "      <td>Al</td>\n",
       "      <td>0</td>\n",
       "      <td>0</td>\n",
       "      <td>0</td>\n",
       "      <td>1.28</td>\n",
       "      <td>0.54</td>\n",
       "      <td>1</td>\n",
       "      <td>-1.51</td>\n",
       "      <td>...</td>\n",
       "      <td>0.00</td>\n",
       "      <td>9.898</td>\n",
       "      <td>0</td>\n",
       "      <td>5.094</td>\n",
       "      <td>5.323</td>\n",
       "      <td>7.3</td>\n",
       "      <td>90</td>\n",
       "      <td>90</td>\n",
       "      <td>90</td>\n",
       "      <td>-1.341</td>\n",
       "    </tr>\n",
       "    <tr>\n",
       "      <th>78</th>\n",
       "      <td>AgBO3</td>\n",
       "      <td>Ag</td>\n",
       "      <td>B</td>\n",
       "      <td>0</td>\n",
       "      <td>1</td>\n",
       "      <td>1</td>\n",
       "      <td>0.75</td>\n",
       "      <td>0.27</td>\n",
       "      <td>0</td>\n",
       "      <td>-0.35</td>\n",
       "      <td>...</td>\n",
       "      <td>0.00</td>\n",
       "      <td>8.138</td>\n",
       "      <td>0</td>\n",
       "      <td>3.439</td>\n",
       "      <td>3.439</td>\n",
       "      <td>3.439</td>\n",
       "      <td>90</td>\n",
       "      <td>90</td>\n",
       "      <td>90</td>\n",
       "      <td>-2.641</td>\n",
       "    </tr>\n",
       "    <tr>\n",
       "      <th>79</th>\n",
       "      <td>AgBaO3</td>\n",
       "      <td>Ag</td>\n",
       "      <td>Ba</td>\n",
       "      <td>0</td>\n",
       "      <td>0</td>\n",
       "      <td>0</td>\n",
       "      <td>1.28</td>\n",
       "      <td>1.35</td>\n",
       "      <td>1</td>\n",
       "      <td>-0.989</td>\n",
       "      <td>...</td>\n",
       "      <td>0.00</td>\n",
       "      <td>15.631</td>\n",
       "      <td>0.247</td>\n",
       "      <td>6.636</td>\n",
       "      <td>6.739</td>\n",
       "      <td>6.99</td>\n",
       "      <td>90</td>\n",
       "      <td>90</td>\n",
       "      <td>90</td>\n",
       "      <td>-6.975</td>\n",
       "    </tr>\n",
       "    <tr>\n",
       "      <th>80</th>\n",
       "      <td>AgBeO3</td>\n",
       "      <td>Ag</td>\n",
       "      <td>Be</td>\n",
       "      <td>0</td>\n",
       "      <td>0</td>\n",
       "      <td>0</td>\n",
       "      <td>1.28</td>\n",
       "      <td>0.45</td>\n",
       "      <td>0</td>\n",
       "      <td>-0.616</td>\n",
       "      <td>...</td>\n",
       "      <td>0.00</td>\n",
       "      <td>8.781</td>\n",
       "      <td>0</td>\n",
       "      <td>3.528</td>\n",
       "      <td>3.528</td>\n",
       "      <td>3.528</td>\n",
       "      <td>90</td>\n",
       "      <td>90</td>\n",
       "      <td>90</td>\n",
       "      <td>-3.058</td>\n",
       "    </tr>\n",
       "  </tbody>\n",
       "</table>\n",
       "<p>5 rows × 21 columns</p>\n",
       "</div>"
      ],
      "text/plain": [
       "   Chemical_formula   A   B In_literature Valence_A Valence_B  Radius_A  \\\n",
       "74            Ag2O3  Ag  Ag             0         0         0      1.28   \n",
       "75           AgAlO3  Ag  Al             0         0         0      1.28   \n",
       "78            AgBO3  Ag   B             0         1         1      0.75   \n",
       "79           AgBaO3  Ag  Ba             0         0         0      1.28   \n",
       "80           AgBeO3  Ag  Be             0         0         0      1.28   \n",
       "\n",
       "    Radius_B  Lowest_distortion Formation_energy  ... Magnetic_moment  \\\n",
       "74      0.95                  0            0.351  ...            0.00   \n",
       "75      0.54                  1            -1.51  ...            0.00   \n",
       "78      0.27                  0            -0.35  ...            0.00   \n",
       "79      1.35                  1           -0.989  ...            0.00   \n",
       "80      0.45                  0           -0.616  ...            0.00   \n",
       "\n",
       "   Volume_per_atom Band_gap      a      b      c alpha beta gamma  \\\n",
       "74          12.997        0   4.02   4.02   4.02    90   90    90   \n",
       "75           9.898        0  5.094  5.323    7.3    90   90    90   \n",
       "78           8.138        0  3.439  3.439  3.439    90   90    90   \n",
       "79          15.631    0.247  6.636  6.739   6.99    90   90    90   \n",
       "80           8.781        0  3.528  3.528  3.528    90   90    90   \n",
       "\n",
       "   Vacancy_energy  \n",
       "74         -2.694  \n",
       "75         -1.341  \n",
       "78         -2.641  \n",
       "79         -6.975  \n",
       "80         -3.058  \n",
       "\n",
       "[5 rows x 21 columns]"
      ]
     },
     "execution_count": 4,
     "metadata": {},
     "output_type": "execute_result"
    }
   ],
   "source": [
    "data.head()"
   ]
  },
  {
   "cell_type": "code",
   "execution_count": 5,
   "id": "4ca77f0a",
   "metadata": {},
   "outputs": [],
   "source": [
    "data.columns=[\"Chemical_formula\",\"A\",\"B\",\"In_literature\",\"Valence_A\",\"Valence_B\",\"Radius_A\",\"Radius_B\",\"Lowest_distortion\",\"Formation_energy\",\"Stability\",\"Magnetic_moment\",\"Volume_per_atom\",\"Band_gap\",\"a\",\"b\",\"c\",\"alpha\",\"beta\",\"gamma\",\"Vacancy_energy\"]"
   ]
  },
  {
   "cell_type": "code",
   "execution_count": 6,
   "id": "ebdff09a",
   "metadata": {},
   "outputs": [],
   "source": [
    "features=[\"Formation_energy\",\"Stability\",\"Magnetic_moment\",\"Volume_per_atom\",\"Band_gap\",\"Vacancy_energy\",\"Radius_A\",\"Radius_B\",\"Valence_A\",\"Valence_B\"]\n",
    "X = data.loc[1:, features].values\n",
    "Y = data.loc[1:, \"Lowest_distortion\"].values"
   ]
  },
  {
   "cell_type": "code",
   "execution_count": 7,
   "id": "3b759a48",
   "metadata": {},
   "outputs": [],
   "source": [
    "from matplotlib import rcParams\n",
    "from matplotlib.cm import rainbow"
   ]
  },
  {
   "cell_type": "code",
   "execution_count": 8,
   "id": "ab4d447b",
   "metadata": {},
   "outputs": [],
   "source": [
    "X_train, X_test, y_train, y_test = model_selection.train_test_split (X, Y, test_size=0.2, random_state=42)"
   ]
  },
  {
   "cell_type": "code",
   "execution_count": 9,
   "id": "5c5acb38",
   "metadata": {},
   "outputs": [],
   "source": [
    "svc_scores = []\n",
    "kernels = ['linear', 'poly', 'rbf', 'sigmoid']\n",
    "for i in range(len(kernels)):\n",
    "    svc_classifier = svm.SVC(kernel = kernels[i])\n",
    "    svc_classifier.fit(X_train, y_train)\n",
    "    svc_scores.append(svc_classifier.score(X_train, y_train))"
   ]
  },
  {
   "cell_type": "code",
   "execution_count": 10,
   "id": "3d877073",
   "metadata": {},
   "outputs": [
    {
     "data": {
      "text/plain": [
       "Text(0.5, 1.0, 'Support Vector Classifier scores for different kernels')"
      ]
     },
     "execution_count": 10,
     "metadata": {},
     "output_type": "execute_result"
    },
    {
     "data": {
      "image/png": "[encoded data removed]",
      "text/plain": [
       "<Figure size 640x480 with 1 Axes>"
      ]
     },
     "metadata": {},
     "output_type": "display_data"
    }
   ],
   "source": [
    "colors = rainbow(np.linspace(0, 1, len(kernels)))\n",
    "plt.bar(kernels, svc_scores, color = colors)\n",
    "for i in range(len(kernels)):\n",
    "    plt.text(i, round(svc_scores[i],5), round(svc_scores[i],4))\n",
    "plt.xlabel('Kernels')\n",
    "plt.ylabel('Scores')\n",
    "plt.title('Support Vector Classifier scores for different kernels')"
   ]
  },
  {
   "cell_type": "code",
   "execution_count": 11,
   "id": "bc6550a3",
   "metadata": {},
   "outputs": [
    {
     "name": "stdout",
     "output_type": "stream",
     "text": [
      "Support Vector Classifier scores for different kernels without weights\n",
      "The score for Support Vector Classifier is 90.95215537659877% with linear kernel.\n",
      "The score for Support Vector Classifier is 87.39933680720038% with poly kernel.\n",
      "The score for Support Vector Classifier is 88.72572240644244% with rbf kernel.\n",
      "The score for Support Vector Classifier is 63.05068687825675% with sigmoid kernel.\n"
     ]
    }
   ],
   "source": [
    "print('Support Vector Classifier scores for different kernels without weights')\n",
    "for i in range (0,4):\n",
    "    print(\"The score for Support Vector Classifier is {}% with {} kernel.\".format(svc_scores[i]*100, kernels[i]))"
   ]
  },
  {
   "cell_type": "code",
   "execution_count": 12,
   "id": "028f9eda",
   "metadata": {},
   "outputs": [],
   "source": [
    "#from sklearn.model_selection import GridSearchCV\n",
    "#parameters = {'kernel':('linear','sigmoid', 'rbf'), 'C':[0.01,0.1,1,10], 'gamma':[0.01,0.1,1,10,100]}\n",
    "#svr = svm.SVC()\n",
    "#grid = GridSearchCV(estimator=svc_classifier, param_grid=parameters,n_jobs=-1)\n",
    "#grid.fit(X_train, y_train)\n",
    "#print (grid.best_params_)"
   ]
  },
  {
   "cell_type": "code",
   "execution_count": 28,
   "id": "1a6d7933",
   "metadata": {},
   "outputs": [
    {
     "name": "stdout",
     "output_type": "stream",
     "text": [
      "{'C': 209.5, 'gamma': 0.01, 'kernel': 'rbf'}\n"
     ]
    }
   ],
   "source": [
    "from sklearn.model_selection import GridSearchCV\n",
    "parameters = {'kernel':('linear','sigmoid', 'rbf'), 'C':[205,207.5,209.5,210,210.5,212.5,215], 'gamma':[0.01,0.1,1,10]}\n",
    "#svr = svm.SVC()\n",
    "grid = GridSearchCV(estimator=svc_classifier, param_grid=parameters,n_jobs=-1)\n",
    "grid.fit(X_train, y_train)\n",
    "print (grid.best_params_)"
   ]
  },
  {
   "cell_type": "code",
   "execution_count": 29,
   "id": "5067f739",
   "metadata": {},
   "outputs": [],
   "source": [
    "sv=svm.SVC(kernel='rbf',gamma=0.01,C=209.5,probability=True)"
   ]
  },
  {
   "cell_type": "code",
   "execution_count": 30,
   "id": "a6e5e923",
   "metadata": {},
   "outputs": [
    {
     "data": {
      "text/plain": [
       "SVC(C=209.5, gamma=0.01, probability=True)"
      ]
     },
     "execution_count": 30,
     "metadata": {},
     "output_type": "execute_result"
    }
   ],
   "source": [
    "sv.fit(X_train,y_train)"
   ]
  },
  {
   "cell_type": "code",
   "execution_count": 31,
   "id": "c2defa4f",
   "metadata": {},
   "outputs": [
    {
     "name": "stdout",
     "output_type": "stream",
     "text": [
      "SVC(C=209.5, gamma=0.01, probability=True)\n"
     ]
    }
   ],
   "source": [
    "print(sv.fit(X_train,y_train))"
   ]
  },
  {
   "cell_type": "code",
   "execution_count": 32,
   "id": "36cb7967",
   "metadata": {},
   "outputs": [
    {
     "name": "stdout",
     "output_type": "stream",
     "text": [
      "0.22343750995134037\n"
     ]
    }
   ],
   "source": [
    "from sklearn.metrics import log_loss\n",
    "clf_probs = sv.predict_proba(X_test)\n",
    "score = log_loss(y_test, clf_probs)\n",
    "print(score)"
   ]
  },
  {
   "cell_type": "markdown",
   "id": "79e9f897",
   "metadata": {},
   "source": [
    "**XGB**"
   ]
  },
  {
   "cell_type": "code",
   "execution_count": 18,
   "id": "e28f2079",
   "metadata": {},
   "outputs": [
    {
     "data": {
      "text/plain": [
       "XGBClassifier(base_score=None, booster=None, callbacks=None,\n",
       "              colsample_bylevel=None, colsample_bynode=None,\n",
       "              colsample_bytree=None, early_stopping_rounds=None,\n",
       "              enable_categorical=False, eval_metric=None, feature_types=None,\n",
       "              gamma=None, gpu_id=None, grow_policy=None, importance_type=None,\n",
       "              interaction_constraints=None, learning_rate=None, max_bin=None,\n",
       "              max_cat_threshold=None, max_cat_to_onehot=None,\n",
       "              max_delta_step=None, max_depth=5, max_leaves=None,\n",
       "              min_child_weight=None, missing=nan, monotone_constraints=None,\n",
       "              n_estimators=100, n_jobs=None, num_parallel_tree=None,\n",
       "              objective='multi:softprob', predictor=None, ...)"
      ]
     },
     "execution_count": 18,
     "metadata": {},
     "output_type": "execute_result"
    }
   ],
   "source": [
    "xgb_clf = XGBClassifier(max_depth=5)\n",
    "xgb_clf.fit(X_train,y_train)"
   ]
  },
  {
   "cell_type": "code",
   "execution_count": 19,
   "id": "312313f7",
   "metadata": {},
   "outputs": [
    {
     "name": "stdout",
     "output_type": "stream",
     "text": [
      "[0.03197986 0.5912412  0.06170094 0.04182535 0.0579151  0.0455757\n",
      " 0.10250327 0.05640168 0.01085686 0.        ]\n"
     ]
    }
   ],
   "source": [
    "print(xgb_clf.feature_importances_)"
   ]
  },
  {
   "cell_type": "code",
   "execution_count": 20,
   "id": "0ce572d4",
   "metadata": {},
   "outputs": [],
   "source": [
    "param_grid = {\n",
    "        'silent': [False],\n",
    "        'max_depth': [4,5],\n",
    "        'learning_rate': [0.001, 0.01, 0.1, 0.2, 0,3],\n",
    "        'subsample': [0.5, 0.6, 0.7, 0.8, 0.9, 1.0],\n",
    "        'colsample_bytree': [0.4, 0.5, 0.6, 0.7, 0.8, 0.9, 1.0],\n",
    "        'colsample_bylevel': [0.4, 0.5, 0.6, 0.7, 0.8, 0.9, 1.0],\n",
    "        'min_child_weight': [0.5, 1.0, 3.0, 5.0, 7.0, 10.0],\n",
    "        'gamma': [0, 0.25, 0.5, 1.0],\n",
    "        'reg_lambda': [0.1, 1.0, 5.0, 10.0, 50.0, 100.0],\n",
    "        'n_estimators': [100]}\n",
    "\n",
    "fit_params1 = {'eval_metric': 'logloss',\n",
    "              'early_stopping_rounds': 10,\n",
    "              'eval_set': [(X_train, y_train)]}\n",
    "\n",
    "clf = xgb.XGBClassifier()\n"
   ]
  },
  {
   "cell_type": "code",
   "execution_count": 21,
   "id": "a0c39502",
   "metadata": {},
   "outputs": [],
   "source": [
    "rs_clf = RandomizedSearchCV(clf, param_grid, n_iter=20,n_jobs=-1, verbose=2, cv=2,scoring='neg_log_loss', refit=False, random_state=42)"
   ]
  },
  {
   "cell_type": "code",
   "execution_count": 22,
   "id": "5474d72a",
   "metadata": {},
   "outputs": [
    {
     "name": "stdout",
     "output_type": "stream",
     "text": [
      "Fitting 2 folds for each of 20 candidates, totalling 40 fits\n"
     ]
    },
    {
     "data": {
      "text/plain": [
       "RandomizedSearchCV(cv=2,\n",
       "                   estimator=XGBClassifier(base_score=None, booster=None,\n",
       "                                           callbacks=None,\n",
       "                                           colsample_bylevel=None,\n",
       "                                           colsample_bynode=None,\n",
       "                                           colsample_bytree=None,\n",
       "                                           early_stopping_rounds=None,\n",
       "                                           enable_categorical=False,\n",
       "                                           eval_metric=None, feature_types=None,\n",
       "                                           gamma=None, gpu_id=None,\n",
       "                                           grow_policy=None,\n",
       "                                           importance_type=None,\n",
       "                                           interaction_constraints=None,\n",
       "                                           learning_rate...\n",
       "                                        'colsample_bytree': [0.4, 0.5, 0.6, 0.7,\n",
       "                                                             0.8, 0.9, 1.0],\n",
       "                                        'gamma': [0, 0.25, 0.5, 1.0],\n",
       "                                        'learning_rate': [0.001, 0.01, 0.1, 0.2,\n",
       "                                                          0, 3],\n",
       "                                        'max_depth': [4, 5],\n",
       "                                        'min_child_weight': [0.5, 1.0, 3.0, 5.0,\n",
       "                                                             7.0, 10.0],\n",
       "                                        'n_estimators': [100],\n",
       "                                        'reg_lambda': [0.1, 1.0, 5.0, 10.0,\n",
       "                                                       50.0, 100.0],\n",
       "                                        'silent': [False],\n",
       "                                        'subsample': [0.5, 0.6, 0.7, 0.8, 0.9,\n",
       "                                                      1.0]},\n",
       "                   random_state=42, refit=False, scoring='neg_log_loss',\n",
       "                   verbose=2)"
      ]
     },
     "execution_count": 22,
     "metadata": {},
     "output_type": "execute_result"
    }
   ],
   "source": [
    "rs_clf.fit(X_train, y_train)"
   ]
  },
  {
   "cell_type": "code",
   "execution_count": 23,
   "id": "f737d35e",
   "metadata": {},
   "outputs": [
    {
     "name": "stdout",
     "output_type": "stream",
     "text": [
      "Best score: -0.21113594975654715\n",
      "Best params: \n",
      "colsample_bylevel: 0.5\n",
      "colsample_bytree: 0.7\n",
      "gamma: 0.5\n",
      "learning_rate: 0.2\n",
      "max_depth: 4\n",
      "min_child_weight: 5.0\n",
      "n_estimators: 100\n",
      "reg_lambda: 0.1\n",
      "silent: False\n",
      "subsample: 0.5\n"
     ]
    }
   ],
   "source": [
    "best_score = rs_clf.best_score_\n",
    "best_params = rs_clf.best_params_\n",
    "print(\"Best score: {}\".format(best_score))\n",
    "print(\"Best params: \")\n",
    "for param_name in sorted(best_params.keys()):\n",
    "    print('%s: %r' % (param_name, best_params[param_name]))"
   ]
  },
  {
   "cell_type": "code",
   "execution_count": 24,
   "id": "98ab2bee",
   "metadata": {},
   "outputs": [
    {
     "name": "stdout",
     "output_type": "stream",
     "text": [
      "[13:25:10] WARNING: C:\\Users\\dev-admin\\croot2\\xgboost-split_1675461376218\\work\\src\\learner.cc:767: \n",
      "Parameters: { \"silent\" } are not used.\n",
      "\n"
     ]
    },
    {
     "data": {
      "text/plain": [
       "XGBClassifier(base_score=None, booster=None, callbacks=None,\n",
       "              colsample_bylevel=0.9, colsample_bynode=None,\n",
       "              colsample_bytree=0.3, early_stopping_rounds=None,\n",
       "              enable_categorical=False, eval_metric=None, feature_types=None,\n",
       "              gamma=0.25, gpu_id=None, grow_policy=None, importance_type=None,\n",
       "              interaction_constraints=None, learning_rate=0.2, max_bin=None,\n",
       "              max_cat_threshold=None, max_cat_to_onehot=None,\n",
       "              max_delta_step=None, max_depth=4, max_leaves=None,\n",
       "              min_child_weight=3, missing=nan, monotone_constraints=None,\n",
       "              n_estimators=100, n_jobs=None, num_parallel_tree=None,\n",
       "              objective='multi:softprob', predictor=None, ...)"
      ]
     },
     "execution_count": 24,
     "metadata": {},
     "output_type": "execute_result"
    }
   ],
   "source": [
    "clf=xgb.XGBClassifier(gamma=0.25,learning_rate=0.2,max_depth=4,n_estimators=100,reg_lambda=0.1,silent=False,subsample=0.8,\n",
    "                      colsample_bylevel=0.9,colsample_bytree=0.3,min_child_weight=3) \n",
    "clf.fit(X_train,y_train)"
   ]
  },
  {
   "cell_type": "code",
   "execution_count": 25,
   "id": "4d0a7162",
   "metadata": {},
   "outputs": [
    {
     "name": "stdout",
     "output_type": "stream",
     "text": [
      "0.9337121212121212\n"
     ]
    }
   ],
   "source": [
    "print(clf.score(X_test,y_test))"
   ]
  },
  {
   "cell_type": "code",
   "execution_count": 26,
   "id": "b4b2b47b",
   "metadata": {},
   "outputs": [
    {
     "name": "stdout",
     "output_type": "stream",
     "text": [
      "0.19169990473308257\n"
     ]
    }
   ],
   "source": [
    "clf_probs = clf.predict_proba(X_test)\n",
    "score = log_loss(y_test, clf_probs)\n",
    "print(score)"
   ]
  },
  {
   "cell_type": "code",
   "execution_count": null,
   "id": "e62c0fc2",
   "metadata": {},
   "outputs": [],
   "source": []
  },
  {
   "cell_type": "code",
   "execution_count": null,
   "id": "1a49557f",
   "metadata": {},
   "outputs": [],
   "source": []
  },
  {
   "cell_type": "code",
   "execution_count": null,
   "id": "f2d84275",
   "metadata": {},
   "outputs": [],
   "source": []
  },
  {
   "cell_type": "code",
   "execution_count": null,
   "id": "4dec6420",
   "metadata": {},
   "outputs": [],
   "source": []
  }
 ],
 "metadata": {
  "kernelspec": {
   "display_name": "Python 3 (ipykernel)",
   "language": "python",
   "name": "python3"
  },
  "language_info": {
   "codemirror_mode": {
    "name": "ipython",
    "version": 3
   },
   "file_extension": ".py",
   "mimetype": "text/x-python",
   "name": "python",
   "nbconvert_exporter": "python",
   "pygments_lexer": "ipython3",
   "version": "3.9.13"
  }
 },
 "nbformat": 4,
 "nbformat_minor": 5
}
