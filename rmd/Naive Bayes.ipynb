{
 "cells": [
  {
   "cell_type": "code",
   "execution_count": 6,
   "metadata": {},
   "outputs": [],
   "source": [
    "import pandas as pd\n",
    "from sklearn.naive_bayes import GaussianNB,MultinomialNB, BernoulliNB\n",
    "from sklearn import model_selection \n",
    "from sklearn.metrics import accuracy_score\n",
    "from sklearn.model_selection import GridSearchCV\n",
    "from imblearn.over_sampling import SMOTE\n",
    "from sklearn.metrics import confusion_matrix\n",
    "from sklearn.metrics import classification_report as report\n",
    "\n",
    "data=\"process.csv\""
   ]
  },
  {
   "cell_type": "code",
   "execution_count": 7,
   "metadata": {},
   "outputs": [
    {
     "data": {
      "text/html": [
       "<div>\n",
       "<style scoped>\n",
       "    .dataframe tbody tr th:only-of-type {\n",
       "        vertical-align: middle;\n",
       "    }\n",
       "\n",
       "    .dataframe tbody tr th {\n",
       "        vertical-align: top;\n",
       "    }\n",
       "\n",
       "    .dataframe thead th {\n",
       "        text-align: right;\n",
       "    }\n",
       "</style>\n",
       "<table border=\"1\" class=\"dataframe\">\n",
       "  <thead>\n",
       "    <tr style=\"text-align: right;\">\n",
       "      <th></th>\n",
       "      <th>Shape</th>\n",
       "      <th>formula_pretty</th>\n",
       "      <th>formula_anonymous</th>\n",
       "      <th>volume</th>\n",
       "      <th>density</th>\n",
       "      <th>density_atomic</th>\n",
       "      <th>energy_per_atom</th>\n",
       "      <th>band_gap</th>\n",
       "      <th>efermi</th>\n",
       "      <th>is_gap_direct</th>\n",
       "      <th>is_metal</th>\n",
       "      <th>is_magnetic</th>\n",
       "      <th>ordering</th>\n",
       "      <th>total_magnetization</th>\n",
       "      <th>theoretical</th>\n",
       "    </tr>\n",
       "  </thead>\n",
       "  <tbody>\n",
       "    <tr>\n",
       "      <th>0</th>\n",
       "      <td>0</td>\n",
       "      <td>AlPbO3</td>\n",
       "      <td>ABC3</td>\n",
       "      <td>56.379268</td>\n",
       "      <td>8.311042</td>\n",
       "      <td>11.275854</td>\n",
       "      <td>-6.651740</td>\n",
       "      <td>0.000</td>\n",
       "      <td>6.457979</td>\n",
       "      <td>0</td>\n",
       "      <td>1</td>\n",
       "      <td>0</td>\n",
       "      <td>0</td>\n",
       "      <td>0.032580</td>\n",
       "      <td>1</td>\n",
       "    </tr>\n",
       "    <tr>\n",
       "      <th>1</th>\n",
       "      <td>2</td>\n",
       "      <td>Ba2CoMoO6</td>\n",
       "      <td>ABC2D6</td>\n",
       "      <td>277.167172</td>\n",
       "      <td>6.296940</td>\n",
       "      <td>13.858359</td>\n",
       "      <td>-7.604548</td>\n",
       "      <td>1.274</td>\n",
       "      <td>3.062452</td>\n",
       "      <td>1</td>\n",
       "      <td>0</td>\n",
       "      <td>1</td>\n",
       "      <td>2</td>\n",
       "      <td>0.000002</td>\n",
       "      <td>1</td>\n",
       "    </tr>\n",
       "    <tr>\n",
       "      <th>2</th>\n",
       "      <td>0</td>\n",
       "      <td>Ba2CoMoO6</td>\n",
       "      <td>ABC2D6</td>\n",
       "      <td>276.766068</td>\n",
       "      <td>6.306065</td>\n",
       "      <td>13.838303</td>\n",
       "      <td>-7.613764</td>\n",
       "      <td>0.000</td>\n",
       "      <td>3.727364</td>\n",
       "      <td>0</td>\n",
       "      <td>1</td>\n",
       "      <td>1</td>\n",
       "      <td>2</td>\n",
       "      <td>0.010982</td>\n",
       "      <td>0</td>\n",
       "    </tr>\n",
       "    <tr>\n",
       "      <th>3</th>\n",
       "      <td>4</td>\n",
       "      <td>Ba3HoIrRuO9</td>\n",
       "      <td>ABCD3E9</td>\n",
       "      <td>448.998994</td>\n",
       "      <td>7.501607</td>\n",
       "      <td>14.966633</td>\n",
       "      <td>-7.461055</td>\n",
       "      <td>0.000</td>\n",
       "      <td>3.778487</td>\n",
       "      <td>0</td>\n",
       "      <td>1</td>\n",
       "      <td>1</td>\n",
       "      <td>1</td>\n",
       "      <td>4.000589</td>\n",
       "      <td>1</td>\n",
       "    </tr>\n",
       "    <tr>\n",
       "      <th>4</th>\n",
       "      <td>4</td>\n",
       "      <td>Ba3LiOs2O9</td>\n",
       "      <td>AB2C3D9</td>\n",
       "      <td>428.639080</td>\n",
       "      <td>7.309243</td>\n",
       "      <td>14.287969</td>\n",
       "      <td>-7.343171</td>\n",
       "      <td>0.000</td>\n",
       "      <td>3.513875</td>\n",
       "      <td>0</td>\n",
       "      <td>1</td>\n",
       "      <td>1</td>\n",
       "      <td>1</td>\n",
       "      <td>6.011189</td>\n",
       "      <td>0</td>\n",
       "    </tr>\n",
       "  </tbody>\n",
       "</table>\n",
       "</div>"
      ],
      "text/plain": [
       "   Shape formula_pretty formula_anonymous      volume   density   \n",
       "0      0         AlPbO3              ABC3   56.379268  8.311042  \\\n",
       "1      2      Ba2CoMoO6            ABC2D6  277.167172  6.296940   \n",
       "2      0      Ba2CoMoO6            ABC2D6  276.766068  6.306065   \n",
       "3      4    Ba3HoIrRuO9           ABCD3E9  448.998994  7.501607   \n",
       "4      4     Ba3LiOs2O9           AB2C3D9  428.639080  7.309243   \n",
       "\n",
       "   density_atomic  energy_per_atom  band_gap    efermi  is_gap_direct   \n",
       "0       11.275854        -6.651740     0.000  6.457979              0  \\\n",
       "1       13.858359        -7.604548     1.274  3.062452              1   \n",
       "2       13.838303        -7.613764     0.000  3.727364              0   \n",
       "3       14.966633        -7.461055     0.000  3.778487              0   \n",
       "4       14.287969        -7.343171     0.000  3.513875              0   \n",
       "\n",
       "   is_metal  is_magnetic  ordering  total_magnetization  theoretical  \n",
       "0         1            0         0             0.032580            1  \n",
       "1         0            1         2             0.000002            1  \n",
       "2         1            1         2             0.010982            0  \n",
       "3         1            1         1             4.000589            1  \n",
       "4         1            1         1             6.011189            0  "
      ]
     },
     "execution_count": 7,
     "metadata": {},
     "output_type": "execute_result"
    }
   ],
   "source": [
    "df = pd.read_csv(data)\n",
    "df = df.fillna(0)\n",
    "df.head()\n"
   ]
  },
  {
   "cell_type": "code",
   "execution_count": 8,
   "metadata": {},
   "outputs": [
    {
     "name": "stdout",
     "output_type": "stream",
     "text": [
      "12344 2179\n"
     ]
    }
   ],
   "source": [
    "features=['volume', 'density', 'density_atomic', 'energy_per_atom','band_gap', 'efermi','is_gap_direct', 'is_metal', 'is_magnetic', 'ordering','total_magnetization','theoretical']  \n",
    "X = df.loc[0:len(df), features].values\n",
    "Y = df.loc[0:len(df), \"Shape\"].values\n",
    "X_train, X_test, Y_train, Y_test = model_selection.train_test_split (X, Y, test_size=0.15, random_state=42)\n",
    "print(len(X_train),len(X_test))\n",
    "oversample = SMOTE()#oversampling of data\n",
    "X_train, Y_train = oversample.fit_resample(X_train, Y_train)\n"
   ]
  },
  {
   "attachments": {},
   "cell_type": "markdown",
   "metadata": {},
   "source": [
    "Gaussian\n"
   ]
  },
  {
   "cell_type": "code",
   "execution_count": 9,
   "metadata": {},
   "outputs": [
    {
     "name": "stdout",
     "output_type": "stream",
     "text": [
      "Accuracy: 0.3731069297843047\n"
     ]
    }
   ],
   "source": [
    "gnb = GaussianNB()\n",
    "gnb.fit(X_train, Y_train)\n",
    "y_pred = gnb.predict(X_test)\n",
    "accuracy = accuracy_score(Y_test, y_pred)\n",
    "print(\"Accuracy:\", accuracy)"
   ]
  },
  {
   "attachments": {},
   "cell_type": "markdown",
   "metadata": {},
   "source": [
    "Bernoulli"
   ]
  },
  {
   "cell_type": "code",
   "execution_count": 11,
   "metadata": {},
   "outputs": [
    {
     "name": "stdout",
     "output_type": "stream",
     "text": [
      "Accuracy of Bernoulli Naive Bayes: 0.2932537861404314\n"
     ]
    }
   ],
   "source": [
    "bnb = BernoulliNB()\n",
    "bnb.fit(X_train, Y_train)\n",
    "Y_pred_bnb = bnb.predict(X_test)\n",
    "accuracy_bnb = accuracy_score(Y_test, Y_pred_bnb)\n",
    "print(\"Accuracy of Bernoulli Naive Bayes:\", accuracy_bnb)"
   ]
  }
 ],
 "metadata": {
  "kernelspec": {
   "display_name": "Python 3",
   "language": "python",
   "name": "python3"
  },
  "language_info": {
   "codemirror_mode": {
    "name": "ipython",
    "version": 3
   },
   "file_extension": ".py",
   "mimetype": "text/x-python",
   "name": "python",
   "nbconvert_exporter": "python",
   "pygments_lexer": "ipython3",
   "version": "3.11.3"
  },
  "orig_nbformat": 4
 },
 "nbformat": 4,
 "nbformat_minor": 2
}
