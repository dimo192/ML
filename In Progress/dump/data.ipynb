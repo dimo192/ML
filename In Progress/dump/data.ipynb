{
 "cells": [
  {
   "cell_type": "code",
   "execution_count": 1,
   "metadata": {},
   "outputs": [],
   "source": [
    "import requests\n",
    "from mp_api.client import MPRester"
   ]
  },
  {
   "cell_type": "code",
   "execution_count": 2,
   "metadata": {},
   "outputs": [],
   "source": [
    "API_KEY = \"nsoaeMLdE0cEg9JwKCf8YqOtijLwq0KD\""
   ]
  },
  {
   "cell_type": "code",
   "execution_count": 3,
   "metadata": {},
   "outputs": [
    {
     "name": "stdout",
     "output_type": "stream",
     "text": [
      "['builder_meta', 'nsites', 'elements', 'nelements']\n",
      "['composition', 'composition_reduced', 'formula_pretty', 'formula_anonymous']\n",
      "['chemsys', 'volume', 'density', 'density_atomic']\n",
      "['symmetry', 'property_name', 'material_id', 'deprecated']\n",
      "['deprecation_reasons', 'last_updated', 'origins', 'warnings']\n",
      "['structure', 'task_ids', 'uncorrected_energy_per_atom', 'energy_per_atom']\n",
      "['formation_energy_per_atom', 'energy_above_hull', 'is_stable', 'equilibrium_reaction_energy_per_atom']\n",
      "['decomposes_to', 'xas', 'grain_boundaries', 'band_gap']\n",
      "['cbm', 'vbm', 'efermi', 'is_gap_direct']\n",
      "['is_metal', 'es_source_calc_id', 'bandstructure', 'dos']\n",
      "['dos_energy_up', 'dos_energy_down', 'is_magnetic', 'ordering']\n",
      "['total_magnetization', 'total_magnetization_normalized_vol', 'total_magnetization_normalized_formula_units', 'num_magnetic_sites']\n",
      "['num_unique_magnetic_sites', 'types_of_magnetic_species', 'k_voigt', 'k_reuss']\n",
      "['k_vrh', 'g_voigt', 'g_reuss', 'g_vrh']\n",
      "['universal_anisotropy', 'homogeneous_poisson', 'e_total', 'e_ionic']\n",
      "['e_electronic', 'n', 'e_ij_max', 'weighted_surface_energy_EV_PER_ANG2']\n",
      "['weighted_surface_energy', 'weighted_work_function', 'surface_anisotropy', 'shape_factor']\n",
      "['has_reconstructed', 'possible_species', 'has_props', 'theoretical']\n",
      "['database_IDs']\n",
      "['builder_meta', 'nsites', 'elements', 'nelements', 'composition', 'composition_reduced', 'formula_pretty', 'formula_anonymous', 'chemsys', 'volume', 'density', 'density_atomic', 'symmetry', 'property_name', 'material_id', 'deprecated', 'deprecation_reasons', 'last_updated', 'origins', 'warnings', 'structure', 'task_ids', 'uncorrected_energy_per_atom', 'energy_per_atom', 'formation_energy_per_atom', 'energy_above_hull', 'is_stable', 'equilibrium_reaction_energy_per_atom', 'decomposes_to', 'xas', 'grain_boundaries', 'band_gap', 'cbm', 'vbm', 'efermi', 'is_gap_direct', 'is_metal', 'es_source_calc_id', 'bandstructure', 'dos', 'dos_energy_up', 'dos_energy_down', 'is_magnetic', 'ordering', 'total_magnetization', 'total_magnetization_normalized_vol', 'total_magnetization_normalized_formula_units', 'num_magnetic_sites', 'num_unique_magnetic_sites', 'types_of_magnetic_species', 'k_voigt', 'k_reuss', 'k_vrh', 'g_voigt', 'g_reuss', 'g_vrh', 'universal_anisotropy', 'homogeneous_poisson', 'e_total', 'e_ionic', 'e_electronic', 'n', 'e_ij_max', 'weighted_surface_energy_EV_PER_ANG2', 'weighted_surface_energy', 'weighted_work_function', 'surface_anisotropy', 'shape_factor', 'has_reconstructed', 'possible_species', 'has_props', 'theoretical', 'database_IDs']\n",
      "\n"
     ]
    }
   ],
   "source": [
    "mpr=MPRester(API_KEY)\n",
    "a_fields = mpr.summary.available_fields\n",
    "for i in range(0,len(a_fields),4):\n",
    "    print(a_fields[i:i+4])\n",
    "print(a_fields)\n",
    "print(\"\")"
   ]
  },
  {
   "cell_type": "code",
   "execution_count": 4,
   "metadata": {},
   "outputs": [],
   "source": [
    "#equlibrium reaction per atom and decomposes to can be considered\n",
    "field=[ 'nsites', 'elements', 'nelements', 'composition', 'composition_reduced', 'formula_pretty', 'formula_anonymous', 'chemsys', 'volume', 'density', 'density_atomic', 'symmetry',  'material_id',  'uncorrected_energy_per_atom', 'energy_per_atom', 'formation_energy_per_atom', 'energy_above_hull', 'is_stable', 'grain_boundaries', 'band_gap', 'cbm', 'vbm', 'efermi', 'is_gap_direct', 'is_metal',  'is_magnetic', 'ordering', 'total_magnetization', 'total_magnetization_normalized_vol', 'total_magnetization_normalized_formula_units', 'num_magnetic_sites', 'num_unique_magnetic_sites', 'types_of_magnetic_species', 'k_vrh', 'g_vrh','e_total', 'e_ionic', 'e_electronic', 'n', 'e_ij_max', 'weighted_surface_energy_EV_PER_ANG2', 'weighted_surface_energy', 'weighted_work_function', 'surface_anisotropy', 'shape_factor', 'has_reconstructed', 'possible_species',  'theoretical']\n",
    "#docs_BATIO = mpr.summary.search(chemsys=\"Ba-Ti-O\",  fields=field)\n",
    "#print(docs_BATIO)"
   ]
  },
  {
   "cell_type": "code",
   "execution_count": 5,
   "metadata": {},
   "outputs": [
    {
     "data": {
      "application/vnd.jupyter.widget-view+json": {
       "model_id": "e29878ff578544c484867b81cb500f42",
       "version_major": 2,
       "version_minor": 0
      },
      "text/plain": [
       "Retrieving SummaryDoc documents:   0%|          | 0/4646 [00:00<?, ?it/s]"
      ]
     },
     "metadata": {},
     "output_type": "display_data"
    }
   ],
   "source": [
    "#f2= ['elastic_tensor', 'piezo', 'diel', 'phonon', 'thermo', 'energy', 'energy_per_atom', 'enthalpy', 'enthalpy_per_atom', 'free_energy', 'free_energy_per_atom', 'formation_energy_per_atom', 'vbm', 'cbm', 'is_gap_direct', 'is_metal', 'is_insulator', 'is_magnetic', 'spacegroup', 'task_ids', 'bandstructure', 'dos', 'cohesive_energy']\n",
    "docs_pure_perovskites = mpr.summary.search(formula= \"ABC3\",fields=field)    "
   ]
  },
  {
   "cell_type": "code",
   "execution_count": 6,
   "metadata": {},
   "outputs": [
    {
     "name": "stdout",
     "output_type": "stream",
     "text": [
      "Hexagonal\n"
     ]
    }
   ],
   "source": [
    "x2=docs_pure_perovskites[1].symmetry.crystal_system\n",
    "print(x2)"
   ]
  },
  {
   "cell_type": "code",
   "execution_count": 7,
   "metadata": {},
   "outputs": [
    {
     "data": {
      "application/vnd.jupyter.widget-view+json": {
       "model_id": "e938f2caad8743158070bcc1864d3a4b",
       "version_major": 2,
       "version_minor": 0
      },
      "text/plain": [
       "Retrieving SummaryDoc documents:   0%|          | 0/4646 [00:00<?, ?it/s]"
      ]
     },
     "metadata": {},
     "output_type": "display_data"
    }
   ],
   "source": [
    "docs_pure_perovskites = mpr.summary.search(formula= \"ABC3\",fields=field)    "
   ]
  },
  {
   "cell_type": "code",
   "execution_count": 8,
   "metadata": {},
   "outputs": [],
   "source": [
    "#id=[\"mp-989571\"]\n",
    "#trial=mpr.summary.search(material_ids=id,fields=[\"structure\"])\n"
   ]
  },
  {
   "cell_type": "code",
   "execution_count": 9,
   "metadata": {},
   "outputs": [],
   "source": [
    "from robocrys import StructureCondenser, StructureDescriber\n",
    "import robocrys"
   ]
  },
  {
   "cell_type": "code",
   "execution_count": 10,
   "metadata": {},
   "outputs": [
    {
     "data": {
      "application/vnd.jupyter.widget-view+json": {
       "model_id": "5305af95cc40438a9302a304e28bb3fd",
       "version_major": 2,
       "version_minor": 0
      },
      "text/plain": [
       "Retrieving RobocrystallogapherDoc documents:   0%|          | 0/9284 [00:00<?, ?it/s]"
      ]
     },
     "metadata": {},
     "output_type": "display_data"
    }
   ],
   "source": [
    "\n",
    "with MPRester(API_KEY) as mpr:\n",
    "    Perovskite = mpr.robocrys.search(keywords=[\"perovskite\"])\n"
   ]
  },
  {
   "cell_type": "code",
   "execution_count": 20,
   "metadata": {},
   "outputs": [
    {
     "name": "stdout",
     "output_type": "stream",
     "text": [
      "(Cubic) Perovskite\n"
     ]
    }
   ],
   "source": [
    "#print(Perovskite)\n",
    "print(Perovskite[0].condensed_structure.mineral.type)"
   ]
  },
  {
   "cell_type": "code",
   "execution_count": 11,
   "metadata": {},
   "outputs": [
    {
     "name": "stdout",
     "output_type": "stream",
     "text": [
      "Ba₆In₂NF is (Cubic) Perovskite-derived structured and crystallizes in the cubic Fm̅3m space group. Ba is bonded in a linear geometry to four equivalent In, one N, and one F atom. All Ba–In bond lengths are 3.99 Å. The Ba–N bond length is 2.72 Å. The Ba–F bond length is 2.91 Å. In is bonded to twelve equivalent Ba atoms to form InBa₁₂ cuboctahedra that share corners with twelve equivalent InBa₁₂ cuboctahedra, faces with six equivalent InBa₁₂ cuboctahedra, faces with four equivalent NBa₆ octahedra, and faces with four equivalent FBa₆ octahedra. N is bonded to six equivalent Ba atoms to form NBa₆ octahedra that share corners with six equivalent FBa₆ octahedra and faces with eight equivalent InBa₁₂ cuboctahedra. The corner-sharing octahedra are not tilted. F is bonded to six equivalent Ba atoms to form FBa₆ octahedra that share corners with six equivalent NBa₆ octahedra and faces with eight equivalent InBa₁₂ cuboctahedra. The corner-sharing octahedra are not tilted.\n"
     ]
    }
   ],
   "source": [
    "print(Perovskite[11].description)"
   ]
  },
  {
   "attachments": {},
   "cell_type": "markdown",
   "metadata": {},
   "source": [
    "docs_B = mpr.summary.search(formula=\"BiVO₃\",  fields=[\"structure\"])"
   ]
  },
  {
   "cell_type": "code",
   "execution_count": 12,
   "metadata": {},
   "outputs": [],
   "source": [
    "\n",
    "def get_formula(s):\n",
    "        \n",
    "    # Extract the formula from the string\n",
    "    formula = s.split()[0]\n",
    "\n",
    "    # Convert subscript digits to regular digits\n",
    "    subscripts = {\n",
    "        \"₀\": \"0\",\n",
    "        \"₁\": \"1\",\n",
    "        \"₂\": \"2\",\n",
    "        \"₃\": \"3\",\n",
    "        \"₄\": \"4\",\n",
    "        \"₅\": \"5\",\n",
    "        \"₆\": \"6\",\n",
    "        \"₇\": \"7\",\n",
    "        \"₈\": \"8\",\n",
    "        \"₉\": \"9\",\n",
    "    }\n",
    "    for char in subscripts:\n",
    "        formula = formula.replace(char, subscripts[char])\n",
    "    return formula\n"
   ]
  },
  {
   "cell_type": "code",
   "execution_count": 13,
   "metadata": {},
   "outputs": [
    {
     "ename": "NameError",
     "evalue": "name 'data' is not defined",
     "output_type": "error",
     "traceback": [
      "\u001b[1;31m---------------------------------------------------------------------------\u001b[0m",
      "\u001b[1;31mNameError\u001b[0m                                 Traceback (most recent call last)",
      "Cell \u001b[1;32mIn[13], line 8\u001b[0m\n\u001b[0;32m      5\u001b[0m     writer \u001b[39m=\u001b[39m csv\u001b[39m.\u001b[39mDictWriter(file, fieldnames\u001b[39m=\u001b[39mfieldnames)\n\u001b[0;32m      7\u001b[0m     writer\u001b[39m.\u001b[39mwriteheader()\n\u001b[1;32m----> 8\u001b[0m     \u001b[39mfor\u001b[39;00m doc \u001b[39min\u001b[39;00m data:\n\u001b[0;32m      9\u001b[0m         x3\u001b[39m=\u001b[39mdoc\u001b[39m.\u001b[39msymmetry\u001b[39m.\u001b[39mcrystal_system\n\u001b[0;32m     10\u001b[0m         writer\u001b[39m.\u001b[39mwriterow({\u001b[39m'\u001b[39m\u001b[39mShape\u001b[39m\u001b[39m'\u001b[39m:x3,\n\u001b[0;32m     11\u001b[0m             \u001b[39m'\u001b[39m\u001b[39mnsites\u001b[39m\u001b[39m'\u001b[39m: doc\u001b[39m.\u001b[39mnsites,\n\u001b[0;32m     12\u001b[0m \u001b[39m'\u001b[39m\u001b[39melements\u001b[39m\u001b[39m'\u001b[39m: doc\u001b[39m.\u001b[39melements,\n\u001b[1;32m   (...)\u001b[0m\n\u001b[0;32m     60\u001b[0m \n\u001b[0;32m     61\u001b[0m         })\n",
      "\u001b[1;31mNameError\u001b[0m: name 'data' is not defined"
     ]
    }
   ],
   "source": [
    "import csv\n",
    "data=Perovskite\n",
    "with open('materials_data.csv', mode='w', newline='') as file:\n",
    "    fieldnames = [\"Shape\"]+field\n",
    "    writer = csv.DictWriter(file, fieldnames=fieldnames)\n",
    "\n",
    "    writer.writeheader()\n",
    "    for doc in data:\n",
    "        x3=doc.symmetry.crystal_system\n",
    "        writer.writerow({'Shape':x3,\n",
    "            'nsites': doc.nsites,\n",
    "'elements': doc.elements,\n",
    "'nelements': doc.nelements,\n",
    "'composition': doc.composition,\n",
    "'composition_reduced': doc.composition_reduced,\n",
    "'formula_pretty': doc.formula_pretty,\n",
    "'formula_anonymous': doc.formula_anonymous,\n",
    "'chemsys': doc.chemsys,\n",
    "'volume': doc.volume,\n",
    "\n",
    "'density': doc.density,\n",
    "'density_atomic': doc.density_atomic,\n",
    "'symmetry': doc.symmetry,\n",
    "'material_id': doc.material_id,\n",
    "'uncorrected_energy_per_atom': doc.uncorrected_energy_per_atom,\n",
    "'energy_per_atom': doc.energy_per_atom,\n",
    "'formation_energy_per_atom': doc.formation_energy_per_atom,\n",
    "'energy_above_hull': doc.energy_above_hull,\n",
    "'is_stable': doc.is_stable,\n",
    "'grain_boundaries': doc.grain_boundaries,\n",
    "'band_gap': doc.band_gap,\n",
    "'cbm': doc.cbm,\n",
    "'vbm': doc.vbm,\n",
    "'efermi': doc.efermi,\n",
    "'is_gap_direct': doc.is_gap_direct,\n",
    "'is_metal': doc.is_metal,\n",
    "'is_magnetic': doc.is_magnetic,\n",
    "'ordering': doc.ordering,\n",
    "'total_magnetization': doc.total_magnetization,\n",
    "'total_magnetization_normalized_vol': doc.total_magnetization_normalized_vol,\n",
    "'total_magnetization_normalized_formula_units': doc.total_magnetization_normalized_formula_units,\n",
    "'num_magnetic_sites': doc.num_magnetic_sites,\n",
    "'num_unique_magnetic_sites': doc.num_unique_magnetic_sites,\n",
    "'types_of_magnetic_species': doc.types_of_magnetic_species,\n",
    "'k_vrh': doc.k_vrh,\n",
    "'g_vrh': doc.g_vrh,\n",
    "'e_total': doc.e_total,\n",
    "'e_ionic': doc.e_ionic,\n",
    "'e_electronic': doc.e_electronic,\n",
    "'n': doc.n,\n",
    "'e_ij_max': doc.e_ij_max,\n",
    "'weighted_surface_energy_EV_PER_ANG2': doc.weighted_surface_energy_EV_PER_ANG2,\n",
    "'weighted_surface_energy': doc.weighted_surface_energy,\n",
    "'weighted_work_function': doc.weighted_work_function,\n",
    "'surface_anisotropy': doc.surface_anisotropy,\n",
    "'shape_factor': doc.shape_factor,\n",
    "'has_reconstructed': doc.has_reconstructed,\n",
    "'possible_species': doc.possible_species,\n",
    "'theoretical': doc.theoretical,\n",
    "\n",
    "        })\n",
    "print(\"Done\")"
   ]
  },
  {
   "cell_type": "code",
   "execution_count": null,
   "metadata": {},
   "outputs": [
    {
     "name": "stdout",
     "output_type": "stream",
     "text": [
      "'nsites': doc.nsites,\n",
      "'elements': doc.elements,\n",
      "'nelements': doc.nelements,\n",
      "'composition': doc.composition,\n",
      "'composition_reduced': doc.composition_reduced,\n",
      "'formula_pretty': doc.formula_pretty,\n",
      "'formula_anonymous': doc.formula_anonymous,\n",
      "'chemsys': doc.chemsys,\n",
      "'volume': doc.volume,\n",
      "'density': doc.density,\n",
      "'density_atomic': doc.density_atomic,\n",
      "'symmetry': doc.symmetry,\n",
      "'material_id': doc.material_id,\n",
      "'uncorrected_energy_per_atom': doc.uncorrected_energy_per_atom,\n",
      "'energy_per_atom': doc.energy_per_atom,\n",
      "'formation_energy_per_atom': doc.formation_energy_per_atom,\n",
      "'energy_above_hull': doc.energy_above_hull,\n",
      "'is_stable': doc.is_stable,\n",
      "'grain_boundaries': doc.grain_boundaries,\n",
      "'band_gap': doc.band_gap,\n",
      "'cbm': doc.cbm,\n",
      "'vbm': doc.vbm,\n",
      "'efermi': doc.efermi,\n",
      "'is_gap_direct': doc.is_gap_direct,\n",
      "'is_metal': doc.is_metal,\n",
      "'is_magnetic': doc.is_magnetic,\n",
      "'ordering': doc.ordering,\n",
      "'total_magnetization': doc.total_magnetization,\n",
      "'total_magnetization_normalized_vol': doc.total_magnetization_normalized_vol,\n",
      "'total_magnetization_normalized_formula_units': doc.total_magnetization_normalized_formula_units,\n",
      "'num_magnetic_sites': doc.num_magnetic_sites,\n",
      "'num_unique_magnetic_sites': doc.num_unique_magnetic_sites,\n",
      "'types_of_magnetic_species': doc.types_of_magnetic_species,\n",
      "'k_vrh': doc.k_vrh,\n",
      "'g_vrh': doc.g_vrh,\n",
      "'e_total': doc.e_total,\n",
      "'e_ionic': doc.e_ionic,\n",
      "'e_electronic': doc.e_electronic,\n",
      "'n': doc.n,\n",
      "'e_ij_max': doc.e_ij_max,\n",
      "'weighted_surface_energy_EV_PER_ANG2': doc.weighted_surface_energy_EV_PER_ANG2,\n",
      "'weighted_surface_energy': doc.weighted_surface_energy,\n",
      "'weighted_work_function': doc.weighted_work_function,\n",
      "'surface_anisotropy': doc.surface_anisotropy,\n",
      "'shape_factor': doc.shape_factor,\n",
      "'has_reconstructed': doc.has_reconstructed,\n",
      "'possible_species': doc.possible_species,\n",
      "'theoretical': doc.theoretical,\n"
     ]
    }
   ],
   "source": [
    "for i in field:\n",
    "    print(\"'\"+i+\"': doc.\"+i+\",\")"
   ]
  }
 ],
 "metadata": {
  "kernelspec": {
   "display_name": "Python 3",
   "language": "python",
   "name": "python3"
  },
  "language_info": {
   "codemirror_mode": {
    "name": "ipython",
    "version": 3
   },
   "file_extension": ".py",
   "mimetype": "text/x-python",
   "name": "python",
   "nbconvert_exporter": "python",
   "pygments_lexer": "ipython3",
   "version": "3.11.3"
  },
  "orig_nbformat": 4
 },
 "nbformat": 4,
 "nbformat_minor": 2
}
