{
 "cells": [
  {
   "cell_type": "code",
   "execution_count": 1,
   "metadata": {},
   "outputs": [],
   "source": [
    "import requests\n",
    "from mp_api.client import MPRester\n",
    "from robocrys import StructureCondenser, StructureDescriber\n",
    "API_KEY = \"nsoaeMLdE0cEg9JwKCf8YqOtijLwq0KD\"\n",
    "mpr=MPRester(API_KEY)"
   ]
  },
  {
   "attachments": {},
   "cell_type": "markdown",
   "metadata": {},
   "source": [
    "All Available stuff\n",
    "['builder_meta', 'nsites', 'elements', 'nelements']\n",
    "['composition', 'composition_reduced', 'formula_pretty', 'formula_anonymous']\n",
    "['chemsys', 'volume', 'density', 'density_atomic']\n",
    "['symmetry', 'property_name', 'material_id', 'deprecated']\n",
    "['deprecation_reasons', 'last_updated', 'origins', 'warnings']\n",
    "['structure', 'task_ids', 'uncorrected_energy_per_atom', 'energy_per_atom']\n",
    "['formation_energy_per_atom', 'energy_above_hull', 'is_stable', 'equilibrium_reaction_energy_per_atom']\n",
    "['decomposes_to', 'xas', 'grain_boundaries', 'band_gap']\n",
    "['cbm', 'vbm', 'efermi', 'is_gap_direct']\n",
    "['is_metal', 'es_source_calc_id', 'bandstructure', 'dos']\n",
    "['dos_energy_up', 'dos_energy_down', 'is_magnetic', 'ordering']\n",
    "['total_magnetization', 'total_magnetization_normalized_vol', 'total_magnetization_normalized_formula_units', 'num_magnetic_sites']\n",
    "['num_unique_magnetic_sites', 'types_of_magnetic_species', 'k_voigt', 'k_reuss']\n",
    "['k_vrh', 'g_voigt', 'g_reuss', 'g_vrh']\n",
    "['universal_anisotropy', 'homogeneous_poisson', 'e_total', 'e_ionic']\n",
    "['e_electronic', 'n', 'e_ij_max', 'weighted_surface_energy_EV_PER_ANG2']\n",
    "['weighted_surface_energy', 'weighted_work_function', 'surface_anisotropy', 'shape_factor']\n",
    "['has_reconstructed', 'possible_species', 'has_props', 'theoretical']\n",
    "['database_IDs']\n"
   ]
  },
  {
   "cell_type": "code",
   "execution_count": 2,
   "metadata": {},
   "outputs": [],
   "source": [
    "field=[ 'nsites', 'elements', 'nelements', 'composition', 'composition_reduced', 'formula_pretty', 'formula_anonymous', 'chemsys', 'volume', 'density', 'density_atomic', 'symmetry',  'material_id',  'uncorrected_energy_per_atom', 'energy_per_atom', 'formation_energy_per_atom', 'energy_above_hull', 'is_stable', 'grain_boundaries', 'band_gap', 'cbm', 'vbm', 'efermi', 'is_gap_direct', 'is_metal',  'is_magnetic', 'ordering', 'total_magnetization', 'total_magnetization_normalized_vol', 'total_magnetization_normalized_formula_units', 'num_magnetic_sites', 'num_unique_magnetic_sites', 'types_of_magnetic_species', 'k_vrh', 'g_vrh','e_total', 'e_ionic', 'e_electronic', 'n', 'e_ij_max', 'weighted_surface_energy_EV_PER_ANG2', 'weighted_surface_energy', 'weighted_work_function', 'surface_anisotropy', 'shape_factor', 'has_reconstructed', 'possible_species',  'theoretical']\n"
   ]
  },
  {
   "cell_type": "code",
   "execution_count": 3,
   "metadata": {},
   "outputs": [
    {
     "data": {
      "application/vnd.jupyter.widget-view+json": {
       "model_id": "7353dcdc61404dc7b77af6e88a2d2b79",
       "version_major": 2,
       "version_minor": 0
      },
      "text/plain": [
       "Retrieving MaterialsDoc documents:   0%|          | 0/1 [00:00<?, ?it/s]"
      ]
     },
     "metadata": {},
     "output_type": "display_data"
    },
    {
     "name": "stderr",
     "output_type": "stream",
     "text": [
      "Reading file c:\\Users\\sunil\\AppData\\Local\\Programs\\Python\\Python311\\Lib\\site-packages\\robocrys\\condense\\mineral_db.json.gz: 0it [00:00, ?it/s]      | 61/180 [00:00<00:00, 230.93it/s]\n",
      "Decoding objects from c:\\Users\\sunil\\AppData\\Local\\Programs\\Python\\Python311\\Lib\\site-packages\\robocrys\\condense\\mineral_db.json.gz: 100%|##########| 180/180 [00:00<00:00, 499.75it/s]"
     ]
    },
    {
     "name": "stdout",
     "output_type": "stream",
     "text": [
      "False\n"
     ]
    },
    {
     "name": "stderr",
     "output_type": "stream",
     "text": [
      "\n"
     ]
    }
   ],
   "source": [
    "structure = mpr.get_structure_by_material_id(\"mp-123\")\n",
    "condensed_structure = StructureCondenser(structure)\n",
    "is_perovskite = (condensed_structure)\n",
    "print(is_perovskite==\"perovskite\")"
   ]
  },
  {
   "cell_type": "code",
   "execution_count": 4,
   "metadata": {},
   "outputs": [
    {
     "data": {
      "application/vnd.jupyter.widget-view+json": {
       "model_id": "ce515d097b9c4a8dbc1044a8a4a5c619",
       "version_major": 2,
       "version_minor": 0
      },
      "text/plain": [
       "Retrieving SummaryDoc documents:   0%|          | 0/4646 [00:00<?, ?it/s]"
      ]
     },
     "metadata": {},
     "output_type": "display_data"
    }
   ],
   "source": [
    "docs_pure_perovskites = mpr.summary.search(formula= \"ABC3\",fields=field)    "
   ]
  },
  {
   "cell_type": "code",
   "execution_count": 5,
   "metadata": {},
   "outputs": [
    {
     "name": "stdout",
     "output_type": "stream",
     "text": [
      "mp-4681\n"
     ]
    }
   ],
   "source": [
    "print(docs_pure_perovskites[0].material_id)"
   ]
  },
  {
   "cell_type": "code",
   "execution_count": 6,
   "metadata": {},
   "outputs": [],
   "source": [
    "data=[]"
   ]
  },
  {
   "cell_type": "code",
   "execution_count": 7,
   "metadata": {},
   "outputs": [
    {
     "name": "stdout",
     "output_type": "stream",
     "text": [
      "F\n"
     ]
    },
    {
     "data": {
      "application/vnd.jupyter.widget-view+json": {
       "model_id": "153e52b215414ba5a28c8c8466eeed59",
       "version_major": 2,
       "version_minor": 0
      },
      "text/plain": [
       "Retrieving SummaryDoc documents:   0%|          | 0/12067 [00:00<?, ?it/s]"
      ]
     },
     "metadata": {},
     "output_type": "display_data"
    },
    {
     "name": "stdout",
     "output_type": "stream",
     "text": [
      "<class 'list'>\n"
     ]
    },
    {
     "data": {
      "application/vnd.jupyter.widget-view+json": {
       "model_id": "138552a253b6487ab2bcc1b511ae87cb",
       "version_major": 2,
       "version_minor": 0
      },
      "text/plain": [
       "Retrieving MaterialsDoc documents:   0%|          | 0/1 [00:00<?, ?it/s]"
      ]
     },
     "metadata": {},
     "output_type": "display_data"
    },
    {
     "name": "stderr",
     "output_type": "stream",
     "text": [
      "Reading file c:\\Users\\sunil\\AppData\\Local\\Programs\\Python\\Python311\\Lib\\site-packages\\robocrys\\condense\\mineral_db.json.gz: 0it [00:00, ?it/s]###7  | 140/180 [00:00<00:00, 557.51it/s]\n",
      "Decoding objects from c:\\Users\\sunil\\AppData\\Local\\Programs\\Python\\Python311\\Lib\\site-packages\\robocrys\\condense\\mineral_db.json.gz: 100%|##########| 180/180 [00:00<00:00, 530.04it/s]\n"
     ]
    },
    {
     "data": {
      "application/vnd.jupyter.widget-view+json": {
       "model_id": "54249bf633e7483da2536414f61b90de",
       "version_major": 2,
       "version_minor": 0
      },
      "text/plain": [
       "Retrieving MaterialsDoc documents:   0%|          | 0/1 [00:00<?, ?it/s]"
      ]
     },
     "metadata": {},
     "output_type": "display_data"
    },
    {
     "name": "stderr",
     "output_type": "stream",
     "text": [
      "Reading file c:\\Users\\sunil\\AppData\\Local\\Programs\\Python\\Python311\\Lib\\site-packages\\robocrys\\condense\\mineral_db.json.gz: 0it [00:00, ?it/s]6     | 84/180 [00:00<00:00, 350.97it/s]\n",
      "Decoding objects from c:\\Users\\sunil\\AppData\\Local\\Programs\\Python\\Python311\\Lib\\site-packages\\robocrys\\condense\\mineral_db.json.gz: 100%|##########| 180/180 [00:00<00:00, 467.68it/s]\n"
     ]
    },
    {
     "data": {
      "application/vnd.jupyter.widget-view+json": {
       "model_id": "d762db9c96ff477eb5535bf0e619d19c",
       "version_major": 2,
       "version_minor": 0
      },
      "text/plain": [
       "Retrieving MaterialsDoc documents:   0%|          | 0/1 [00:00<?, ?it/s]"
      ]
     },
     "metadata": {},
     "output_type": "display_data"
    },
    {
     "name": "stderr",
     "output_type": "stream",
     "text": [
      "Reading file c:\\Users\\sunil\\AppData\\Local\\Programs\\Python\\Python311\\Lib\\site-packages\\robocrys\\condense\\mineral_db.json.gz: 0it [00:00, ?it/s]##1   | 111/180 [00:00<00:00, 568.40it/s]\n",
      "Decoding objects from c:\\Users\\sunil\\AppData\\Local\\Programs\\Python\\Python311\\Lib\\site-packages\\robocrys\\condense\\mineral_db.json.gz: 100%|##########| 180/180 [00:00<00:00, 598.57it/s]\n"
     ]
    },
    {
     "data": {
      "application/vnd.jupyter.widget-view+json": {
       "model_id": "7b88603c72f6438fb99a1f4b950fd721",
       "version_major": 2,
       "version_minor": 0
      },
      "text/plain": [
       "Retrieving MaterialsDoc documents:   0%|          | 0/1 [00:00<?, ?it/s]"
      ]
     },
     "metadata": {},
     "output_type": "display_data"
    },
    {
     "name": "stderr",
     "output_type": "stream",
     "text": [
      "Reading file c:\\Users\\sunil\\AppData\\Local\\Programs\\Python\\Python311\\Lib\\site-packages\\robocrys\\condense\\mineral_db.json.gz: 0it [00:00, ?it/s]4     | 80/180 [00:00<00:00, 359.17it/s]\n",
      "Decoding objects from c:\\Users\\sunil\\AppData\\Local\\Programs\\Python\\Python311\\Lib\\site-packages\\robocrys\\condense\\mineral_db.json.gz: 100%|##########| 180/180 [00:00<00:00, 476.31it/s]\n"
     ]
    },
    {
     "data": {
      "application/vnd.jupyter.widget-view+json": {
       "model_id": "8ed81267478845c0bb92c48b6b66206b",
       "version_major": 2,
       "version_minor": 0
      },
      "text/plain": [
       "Retrieving MaterialsDoc documents:   0%|          | 0/1 [00:00<?, ?it/s]"
      ]
     },
     "metadata": {},
     "output_type": "display_data"
    },
    {
     "name": "stderr",
     "output_type": "stream",
     "text": [
      "Reading file c:\\Users\\sunil\\AppData\\Local\\Programs\\Python\\Python311\\Lib\\site-packages\\robocrys\\condense\\mineral_db.json.gz: 0it [00:00, ?it/s]#7    | 103/180 [00:00<00:00, 531.78it/s]\n",
      "Decoding objects from c:\\Users\\sunil\\AppData\\Local\\Programs\\Python\\Python311\\Lib\\site-packages\\robocrys\\condense\\mineral_db.json.gz: 100%|##########| 180/180 [00:00<00:00, 600.88it/s]\n"
     ]
    },
    {
     "data": {
      "application/vnd.jupyter.widget-view+json": {
       "model_id": "9d6b5ca138db4b9c8b84729eabc05a6e",
       "version_major": 2,
       "version_minor": 0
      },
      "text/plain": [
       "Retrieving MaterialsDoc documents:   0%|          | 0/1 [00:00<?, ?it/s]"
      ]
     },
     "metadata": {},
     "output_type": "display_data"
    },
    {
     "name": "stderr",
     "output_type": "stream",
     "text": [
      "Reading file c:\\Users\\sunil\\AppData\\Local\\Programs\\Python\\Python311\\Lib\\site-packages\\robocrys\\condense\\mineral_db.json.gz: 0it [00:00, ?it/s]5     | 82/180 [00:00<00:00, 391.14it/s]\n",
      "Decoding objects from c:\\Users\\sunil\\AppData\\Local\\Programs\\Python\\Python311\\Lib\\site-packages\\robocrys\\condense\\mineral_db.json.gz: 100%|##########| 180/180 [00:00<00:00, 525.69it/s]\n"
     ]
    },
    {
     "data": {
      "application/vnd.jupyter.widget-view+json": {
       "model_id": "c9fa45d9a7a640d1b30d2477a21def5f",
       "version_major": 2,
       "version_minor": 0
      },
      "text/plain": [
       "Retrieving MaterialsDoc documents:   0%|          | 0/1 [00:00<?, ?it/s]"
      ]
     },
     "metadata": {},
     "output_type": "display_data"
    },
    {
     "name": "stderr",
     "output_type": "stream",
     "text": [
      "Reading file c:\\Users\\sunil\\AppData\\Local\\Programs\\Python\\Python311\\Lib\\site-packages\\robocrys\\condense\\mineral_db.json.gz: 0it [00:00, ?it/s]######| 180/180 [00:00<00:00, 656.45it/s]\n",
      "Decoding objects from c:\\Users\\sunil\\AppData\\Local\\Programs\\Python\\Python311\\Lib\\site-packages\\robocrys\\condense\\mineral_db.json.gz: 100%|##########| 180/180 [00:00<00:00, 534.60it/s]\n"
     ]
    },
    {
     "data": {
      "application/vnd.jupyter.widget-view+json": {
       "model_id": "86761eaf0f28453cb7eff0115f8a0dd1",
       "version_major": 2,
       "version_minor": 0
      },
      "text/plain": [
       "Retrieving MaterialsDoc documents:   0%|          | 0/1 [00:00<?, ?it/s]"
      ]
     },
     "metadata": {},
     "output_type": "display_data"
    },
    {
     "name": "stderr",
     "output_type": "stream",
     "text": [
      "Reading file c:\\Users\\sunil\\AppData\\Local\\Programs\\Python\\Python311\\Lib\\site-packages\\robocrys\\condense\\mineral_db.json.gz: 0it [00:00, ?it/s]7     | 86/180 [00:00<00:00, 122.35it/s]\n",
      "Decoding objects from c:\\Users\\sunil\\AppData\\Local\\Programs\\Python\\Python311\\Lib\\site-packages\\robocrys\\condense\\mineral_db.json.gz: 100%|##########| 180/180 [00:00<00:00, 251.03it/s]\n"
     ]
    },
    {
     "data": {
      "application/vnd.jupyter.widget-view+json": {
       "model_id": "66de08b0170c437f9f8eea28feb67ada",
       "version_major": 2,
       "version_minor": 0
      },
      "text/plain": [
       "Retrieving MaterialsDoc documents:   0%|          | 0/1 [00:00<?, ?it/s]"
      ]
     },
     "metadata": {},
     "output_type": "display_data"
    },
    {
     "name": "stderr",
     "output_type": "stream",
     "text": [
      "Reading file c:\\Users\\sunil\\AppData\\Local\\Programs\\Python\\Python311\\Lib\\site-packages\\robocrys\\condense\\mineral_db.json.gz: 0it [00:00, ?it/s]##    | 108/180 [00:00<00:00, 515.05it/s]\n",
      "Decoding objects from c:\\Users\\sunil\\AppData\\Local\\Programs\\Python\\Python311\\Lib\\site-packages\\robocrys\\condense\\mineral_db.json.gz: 100%|##########| 180/180 [00:00<00:00, 502.91it/s]\n"
     ]
    },
    {
     "data": {
      "application/vnd.jupyter.widget-view+json": {
       "model_id": "df1c71bcaa3043e7a685a8273eb55581",
       "version_major": 2,
       "version_minor": 0
      },
      "text/plain": [
       "Retrieving MaterialsDoc documents:   0%|          | 0/1 [00:00<?, ?it/s]"
      ]
     },
     "metadata": {},
     "output_type": "display_data"
    },
    {
     "name": "stderr",
     "output_type": "stream",
     "text": [
      "Reading file c:\\Users\\sunil\\AppData\\Local\\Programs\\Python\\Python311\\Lib\\site-packages\\robocrys\\condense\\mineral_db.json.gz: 0it [00:00, ?it/s]#####4| 170/180 [00:00<00:00, 477.78it/s]\n",
      "Decoding objects from c:\\Users\\sunil\\AppData\\Local\\Programs\\Python\\Python311\\Lib\\site-packages\\robocrys\\condense\\mineral_db.json.gz: 100%|##########| 180/180 [00:00<00:00, 369.23it/s]\n"
     ]
    },
    {
     "data": {
      "application/vnd.jupyter.widget-view+json": {
       "model_id": "376276acb6e3483881a056cd1de57af5",
       "version_major": 2,
       "version_minor": 0
      },
      "text/plain": [
       "Retrieving MaterialsDoc documents:   0%|          | 0/1 [00:00<?, ?it/s]"
      ]
     },
     "metadata": {},
     "output_type": "display_data"
    },
    {
     "name": "stderr",
     "output_type": "stream",
     "text": [
      "Reading file c:\\Users\\sunil\\AppData\\Local\\Programs\\Python\\Python311\\Lib\\site-packages\\robocrys\\condense\\mineral_db.json.gz: 0it [00:00, ?it/s]8     | 88/180 [00:00<00:00, 461.81it/s]\n",
      "Decoding objects from c:\\Users\\sunil\\AppData\\Local\\Programs\\Python\\Python311\\Lib\\site-packages\\robocrys\\condense\\mineral_db.json.gz: 100%|##########| 180/180 [00:00<00:00, 570.04it/s]\n"
     ]
    },
    {
     "data": {
      "application/vnd.jupyter.widget-view+json": {
       "model_id": "bf845b82b09048e18942c1cbed166018",
       "version_major": 2,
       "version_minor": 0
      },
      "text/plain": [
       "Retrieving MaterialsDoc documents:   0%|          | 0/1 [00:00<?, ?it/s]"
      ]
     },
     "metadata": {},
     "output_type": "display_data"
    },
    {
     "name": "stderr",
     "output_type": "stream",
     "text": [
      "Reading file c:\\Users\\sunil\\AppData\\Local\\Programs\\Python\\Python311\\Lib\\site-packages\\robocrys\\condense\\mineral_db.json.gz: 0it [00:00, ?it/s]#7    | 103/180 [00:00<00:00, 432.43it/s]\n",
      "Decoding objects from c:\\Users\\sunil\\AppData\\Local\\Programs\\Python\\Python311\\Lib\\site-packages\\robocrys\\condense\\mineral_db.json.gz: 100%|##########| 180/180 [00:00<00:00, 482.58it/s]\n"
     ]
    },
    {
     "data": {
      "application/vnd.jupyter.widget-view+json": {
       "model_id": "58abf32fe8f8409cbf8709a7a3e620d2",
       "version_major": 2,
       "version_minor": 0
      },
      "text/plain": [
       "Retrieving MaterialsDoc documents:   0%|          | 0/1 [00:00<?, ?it/s]"
      ]
     },
     "metadata": {},
     "output_type": "display_data"
    },
    {
     "name": "stderr",
     "output_type": "stream",
     "text": [
      "Reading file c:\\Users\\sunil\\AppData\\Local\\Programs\\Python\\Python311\\Lib\\site-packages\\robocrys\\condense\\mineral_db.json.gz: 0it [00:00, ?it/s]##3   | 114/180 [00:00<00:00, 583.34it/s]\n",
      "Decoding objects from c:\\Users\\sunil\\AppData\\Local\\Programs\\Python\\Python311\\Lib\\site-packages\\robocrys\\condense\\mineral_db.json.gz: 100%|##########| 180/180 [00:00<00:00, 602.89it/s]\n"
     ]
    },
    {
     "data": {
      "application/vnd.jupyter.widget-view+json": {
       "model_id": "8a287a7928864ac8a1986f2fdca1bdb8",
       "version_major": 2,
       "version_minor": 0
      },
      "text/plain": [
       "Retrieving MaterialsDoc documents:   0%|          | 0/1 [00:00<?, ?it/s]"
      ]
     },
     "metadata": {},
     "output_type": "display_data"
    },
    {
     "name": "stderr",
     "output_type": "stream",
     "text": [
      "Reading file c:\\Users\\sunil\\AppData\\Local\\Programs\\Python\\Python311\\Lib\\site-packages\\robocrys\\condense\\mineral_db.json.gz: 0it [00:00, ?it/s]7     | 86/180 [00:00<00:00, 411.86it/s]\n",
      "Decoding objects from c:\\Users\\sunil\\AppData\\Local\\Programs\\Python\\Python311\\Lib\\site-packages\\robocrys\\condense\\mineral_db.json.gz: 100%|##########| 180/180 [00:00<00:00, 511.37it/s]\n"
     ]
    },
    {
     "data": {
      "application/vnd.jupyter.widget-view+json": {
       "model_id": "288102220cf84442bb6fe1ac3d980622",
       "version_major": 2,
       "version_minor": 0
      },
      "text/plain": [
       "Retrieving MaterialsDoc documents:   0%|          | 0/1 [00:00<?, ?it/s]"
      ]
     },
     "metadata": {},
     "output_type": "display_data"
    },
    {
     "name": "stderr",
     "output_type": "stream",
     "text": [
      "Reading file c:\\Users\\sunil\\AppData\\Local\\Programs\\Python\\Python311\\Lib\\site-packages\\robocrys\\condense\\mineral_db.json.gz: 0it [00:00, ?it/s]####7 | 158/180 [00:00<00:00, 578.00it/s]\n",
      "Decoding objects from c:\\Users\\sunil\\AppData\\Local\\Programs\\Python\\Python311\\Lib\\site-packages\\robocrys\\condense\\mineral_db.json.gz: 100%|##########| 180/180 [00:00<00:00, 473.41it/s]\n"
     ]
    },
    {
     "data": {
      "application/vnd.jupyter.widget-view+json": {
       "model_id": "b03b61ec8f6045c0872c9496bee16a65",
       "version_major": 2,
       "version_minor": 0
      },
      "text/plain": [
       "Retrieving MaterialsDoc documents:   0%|          | 0/1 [00:00<?, ?it/s]"
      ]
     },
     "metadata": {},
     "output_type": "display_data"
    },
    {
     "name": "stderr",
     "output_type": "stream",
     "text": [
      "Reading file c:\\Users\\sunil\\AppData\\Local\\Programs\\Python\\Python311\\Lib\\site-packages\\robocrys\\condense\\mineral_db.json.gz: 0it [00:00, ?it/s]##4   | 116/180 [00:00<00:00, 483.30it/s]\n",
      "Decoding objects from c:\\Users\\sunil\\AppData\\Local\\Programs\\Python\\Python311\\Lib\\site-packages\\robocrys\\condense\\mineral_db.json.gz: 100%|##########| 180/180 [00:00<00:00, 486.86it/s]\n"
     ]
    },
    {
     "data": {
      "application/vnd.jupyter.widget-view+json": {
       "model_id": "8e0922a1e08c4dfcab81dc5d5da68acc",
       "version_major": 2,
       "version_minor": 0
      },
      "text/plain": [
       "Retrieving MaterialsDoc documents:   0%|          | 0/1 [00:00<?, ?it/s]"
      ]
     },
     "metadata": {},
     "output_type": "display_data"
    },
    {
     "name": "stderr",
     "output_type": "stream",
     "text": [
      "Reading file c:\\Users\\sunil\\AppData\\Local\\Programs\\Python\\Python311\\Lib\\site-packages\\robocrys\\condense\\mineral_db.json.gz: 0it [00:00, ?it/s]#6    | 102/180 [00:00<00:00, 550.32it/s]\n",
      "Decoding objects from c:\\Users\\sunil\\AppData\\Local\\Programs\\Python\\Python311\\Lib\\site-packages\\robocrys\\condense\\mineral_db.json.gz: 100%|##########| 180/180 [00:00<00:00, 599.23it/s]\n"
     ]
    },
    {
     "data": {
      "application/vnd.jupyter.widget-view+json": {
       "model_id": "0d4ce36b9524443d8ed98f5cd2cd2c7f",
       "version_major": 2,
       "version_minor": 0
      },
      "text/plain": [
       "Retrieving MaterialsDoc documents:   0%|          | 0/1 [00:00<?, ?it/s]"
      ]
     },
     "metadata": {},
     "output_type": "display_data"
    },
    {
     "name": "stderr",
     "output_type": "stream",
     "text": [
      "Reading file c:\\Users\\sunil\\AppData\\Local\\Programs\\Python\\Python311\\Lib\\site-packages\\robocrys\\condense\\mineral_db.json.gz: 0it [00:00, ?it/s]##5   | 118/180 [00:00<00:00, 262.28it/s]\n",
      "Decoding objects from c:\\Users\\sunil\\AppData\\Local\\Programs\\Python\\Python311\\Lib\\site-packages\\robocrys\\condense\\mineral_db.json.gz: 100%|##########| 180/180 [00:00<00:00, 272.17it/s]\n"
     ]
    },
    {
     "data": {
      "application/vnd.jupyter.widget-view+json": {
       "model_id": "6bff4b31c26d4ff995dedd26be3d3e58",
       "version_major": 2,
       "version_minor": 0
      },
      "text/plain": [
       "Retrieving MaterialsDoc documents:   0%|          | 0/1 [00:00<?, ?it/s]"
      ]
     },
     "metadata": {},
     "output_type": "display_data"
    },
    {
     "name": "stderr",
     "output_type": "stream",
     "text": [
      "Reading file c:\\Users\\sunil\\AppData\\Local\\Programs\\Python\\Python311\\Lib\\site-packages\\robocrys\\condense\\mineral_db.json.gz: 0it [00:00, ?it/s]7     | 86/180 [00:00<00:00, 455.37it/s]\n",
      "Decoding objects from c:\\Users\\sunil\\AppData\\Local\\Programs\\Python\\Python311\\Lib\\site-packages\\robocrys\\condense\\mineral_db.json.gz: 100%|##########| 180/180 [00:00<00:00, 553.57it/s]\n"
     ]
    },
    {
     "data": {
      "application/vnd.jupyter.widget-view+json": {
       "model_id": "749b8a24f764402dbaa09966abf4f0e6",
       "version_major": 2,
       "version_minor": 0
      },
      "text/plain": [
       "Retrieving MaterialsDoc documents:   0%|          | 0/1 [00:00<?, ?it/s]"
      ]
     },
     "metadata": {},
     "output_type": "display_data"
    },
    {
     "name": "stderr",
     "output_type": "stream",
     "text": [
      "Reading file c:\\Users\\sunil\\AppData\\Local\\Programs\\Python\\Python311\\Lib\\site-packages\\robocrys\\condense\\mineral_db.json.gz: 0it [00:00, ?it/s]9     | 89/180 [00:00<00:00, 372.41it/s]\n",
      "Decoding objects from c:\\Users\\sunil\\AppData\\Local\\Programs\\Python\\Python311\\Lib\\site-packages\\robocrys\\condense\\mineral_db.json.gz: 100%|##########| 180/180 [00:00<00:00, 456.36it/s]\n"
     ]
    },
    {
     "data": {
      "application/vnd.jupyter.widget-view+json": {
       "model_id": "33245311cfd844bf83c0ed50e0bfc8cd",
       "version_major": 2,
       "version_minor": 0
      },
      "text/plain": [
       "Retrieving MaterialsDoc documents:   0%|          | 0/1 [00:00<?, ?it/s]"
      ]
     },
     "metadata": {},
     "output_type": "display_data"
    },
    {
     "name": "stderr",
     "output_type": "stream",
     "text": [
      "Reading file c:\\Users\\sunil\\AppData\\Local\\Programs\\Python\\Python311\\Lib\\site-packages\\robocrys\\condense\\mineral_db.json.gz: 0it [00:00, ?it/s]#####2| 166/180 [00:00<00:00, 552.76it/s]\n",
      "Decoding objects from c:\\Users\\sunil\\AppData\\Local\\Programs\\Python\\Python311\\Lib\\site-packages\\robocrys\\condense\\mineral_db.json.gz: 100%|##########| 180/180 [00:00<00:00, 450.08it/s]\n"
     ]
    },
    {
     "data": {
      "application/vnd.jupyter.widget-view+json": {
       "model_id": "a7ff9cbbc44e4ab6b7e26139013e7229",
       "version_major": 2,
       "version_minor": 0
      },
      "text/plain": [
       "Retrieving MaterialsDoc documents:   0%|          | 0/1 [00:00<?, ?it/s]"
      ]
     },
     "metadata": {},
     "output_type": "display_data"
    },
    {
     "name": "stderr",
     "output_type": "stream",
     "text": [
      "Reading file c:\\Users\\sunil\\AppData\\Local\\Programs\\Python\\Python311\\Lib\\site-packages\\robocrys\\condense\\mineral_db.json.gz: 0it [00:00, ?it/s]#1    | 93/180 [00:00<00:00, 448.89it/s]\n",
      "Decoding objects from c:\\Users\\sunil\\AppData\\Local\\Programs\\Python\\Python311\\Lib\\site-packages\\robocrys\\condense\\mineral_db.json.gz: 100%|##########| 180/180 [00:00<00:00, 522.73it/s]\n"
     ]
    },
    {
     "data": {
      "application/vnd.jupyter.widget-view+json": {
       "model_id": "8ab582cb1aae40849fc04c7cb761c79f",
       "version_major": 2,
       "version_minor": 0
      },
      "text/plain": [
       "Retrieving MaterialsDoc documents:   0%|          | 0/1 [00:00<?, ?it/s]"
      ]
     },
     "metadata": {},
     "output_type": "display_data"
    },
    {
     "name": "stderr",
     "output_type": "stream",
     "text": [
      "Reading file c:\\Users\\sunil\\AppData\\Local\\Programs\\Python\\Python311\\Lib\\site-packages\\robocrys\\condense\\mineral_db.json.gz: 0it [00:00, ?it/s]      | 61/180 [00:00<00:00, 331.93it/s]\n",
      "Decoding objects from c:\\Users\\sunil\\AppData\\Local\\Programs\\Python\\Python311\\Lib\\site-packages\\robocrys\\condense\\mineral_db.json.gz: 100%|##########| 180/180 [00:00<00:00, 563.10it/s]\n"
     ]
    },
    {
     "data": {
      "application/vnd.jupyter.widget-view+json": {
       "model_id": "d4fcb712ae514a1a81a295e18f1b0c12",
       "version_major": 2,
       "version_minor": 0
      },
      "text/plain": [
       "Retrieving MaterialsDoc documents:   0%|          | 0/1 [00:00<?, ?it/s]"
      ]
     },
     "metadata": {},
     "output_type": "display_data"
    },
    {
     "name": "stderr",
     "output_type": "stream",
     "text": [
      "Reading file c:\\Users\\sunil\\AppData\\Local\\Programs\\Python\\Python311\\Lib\\site-packages\\robocrys\\condense\\mineral_db.json.gz: 0it [00:00, ?it/s]####4 | 152/180 [00:00<00:00, 459.12it/s]\n",
      "Decoding objects from c:\\Users\\sunil\\AppData\\Local\\Programs\\Python\\Python311\\Lib\\site-packages\\robocrys\\condense\\mineral_db.json.gz: 100%|##########| 180/180 [00:00<00:00, 374.00it/s]\n"
     ]
    },
    {
     "data": {
      "application/vnd.jupyter.widget-view+json": {
       "model_id": "e60da3f49a44428abcfba5743d2e5225",
       "version_major": 2,
       "version_minor": 0
      },
      "text/plain": [
       "Retrieving MaterialsDoc documents:   0%|          | 0/1 [00:00<?, ?it/s]"
      ]
     },
     "metadata": {},
     "output_type": "display_data"
    },
    {
     "name": "stderr",
     "output_type": "stream",
     "text": [
      "Decoding objects from c:\\Users\\sunil\\AppData\\Local\\Programs\\Python\\Python311\\Lib\\site-packages\\robocrys\\condense\\mineral_db.json.gz: 0it [00:00, ?it/s]"
     ]
    },
    {
     "ename": "KeyboardInterrupt",
     "evalue": "",
     "output_type": "error",
     "traceback": [
      "\u001b[1;31m---------------------------------------------------------------------------\u001b[0m",
      "\u001b[1;31mKeyboardInterrupt\u001b[0m                         Traceback (most recent call last)",
      "Cell \u001b[1;32mIn[7], line 11\u001b[0m\n\u001b[0;32m      9\u001b[0m \u001b[39mid\u001b[39m\u001b[39m=\u001b[39mdoc\u001b[39m.\u001b[39mmaterial_id\n\u001b[0;32m     10\u001b[0m structure \u001b[39m=\u001b[39m mpr\u001b[39m.\u001b[39mget_structure_by_material_id(\u001b[39mid\u001b[39m)\n\u001b[1;32m---> 11\u001b[0m condensed_structure \u001b[39m=\u001b[39m StructureCondenser(structure)\n\u001b[0;32m     12\u001b[0m \u001b[39mif\u001b[39;00m (condensed_structure\u001b[39m==\u001b[39m\u001b[39m\"\u001b[39m\u001b[39mperovskite\u001b[39m\u001b[39m\"\u001b[39m):\n\u001b[0;32m     13\u001b[0m     data\u001b[39m.\u001b[39mappend(doc)\n",
      "File \u001b[1;32mc:\\Users\\sunil\\AppData\\Local\\Programs\\Python\\Python311\\Lib\\site-packages\\robocrys\\condense\\condenser.py:77\u001b[0m, in \u001b[0;36mStructureCondenser.__init__\u001b[1;34m(self, use_conventional_cell, near_neighbors, mineral_matcher, use_symmetry_equivalent_sites, symprec, simplify_molecules, use_iupac_formula, use_common_formulas)\u001b[0m\n\u001b[0;32m     74\u001b[0m     near_neighbors \u001b[39m=\u001b[39m CrystalNN()\n\u001b[0;32m     76\u001b[0m \u001b[39mif\u001b[39;00m mineral_matcher \u001b[39mis\u001b[39;00m \u001b[39mNone\u001b[39;00m:\n\u001b[1;32m---> 77\u001b[0m     mineral_matcher \u001b[39m=\u001b[39m MineralMatcher()\n\u001b[0;32m     79\u001b[0m \u001b[39mself\u001b[39m\u001b[39m.\u001b[39muse_conventional_cell \u001b[39m=\u001b[39m use_conventional_cell\n\u001b[0;32m     80\u001b[0m \u001b[39mself\u001b[39m\u001b[39m.\u001b[39mnear_neighbors \u001b[39m=\u001b[39m near_neighbors\n",
      "File \u001b[1;32mc:\\Users\\sunil\\AppData\\Local\\Programs\\Python\\Python311\\Lib\\site-packages\\robocrys\\condense\\mineral.py:55\u001b[0m, in \u001b[0;36mMineralMatcher.__init__\u001b[1;34m(self, initial_ltol, initial_stol, initial_angle_tol, use_fingerprint_matching, fingerprint_distance_cutoff)\u001b[0m\n\u001b[0;32m     46\u001b[0m \u001b[39mdef\u001b[39;00m \u001b[39m__init__\u001b[39m(\n\u001b[0;32m     47\u001b[0m     \u001b[39mself\u001b[39m,\n\u001b[0;32m     48\u001b[0m     initial_ltol: \u001b[39mfloat\u001b[39m \u001b[39m=\u001b[39m \u001b[39m0.2\u001b[39m,\n\u001b[1;32m   (...)\u001b[0m\n\u001b[0;32m     52\u001b[0m     fingerprint_distance_cutoff: \u001b[39mfloat\u001b[39m \u001b[39m=\u001b[39m \u001b[39m0.4\u001b[39m,\n\u001b[0;32m     53\u001b[0m ):\n\u001b[0;32m     54\u001b[0m     db_file \u001b[39m=\u001b[39m resource_filename(\u001b[39m\"\u001b[39m\u001b[39mrobocrys.condense\u001b[39m\u001b[39m\"\u001b[39m, \u001b[39m\"\u001b[39m\u001b[39mmineral_db.json.gz\u001b[39m\u001b[39m\"\u001b[39m)\n\u001b[1;32m---> 55\u001b[0m     \u001b[39mself\u001b[39m\u001b[39m.\u001b[39mmineral_db \u001b[39m=\u001b[39m load_dataframe_from_json(db_file)\n\u001b[0;32m     56\u001b[0m     \u001b[39mself\u001b[39m\u001b[39m.\u001b[39minitial_ltol \u001b[39m=\u001b[39m initial_ltol\n\u001b[0;32m     57\u001b[0m     \u001b[39mself\u001b[39m\u001b[39m.\u001b[39minitial_stol \u001b[39m=\u001b[39m initial_stol\n",
      "File \u001b[1;32mc:\\Users\\sunil\\AppData\\Local\\Programs\\Python\\Python311\\Lib\\site-packages\\matminer\\utils\\io.py:167\u001b[0m, in \u001b[0;36mload_dataframe_from_json\u001b[1;34m(filename, pbar, decode)\u001b[0m\n\u001b[0;32m    164\u001b[0m hook \u001b[39m=\u001b[39m pbar_hook \u001b[39mif\u001b[39;00m pbar \u001b[39melse\u001b[39;00m \u001b[39mlambda\u001b[39;00m x: x\n\u001b[0;32m    166\u001b[0m \u001b[39mwith\u001b[39;00m zopen(filename, \u001b[39m\"\u001b[39m\u001b[39mrb\u001b[39m\u001b[39m\"\u001b[39m) \u001b[39mas\u001b[39;00m f:\n\u001b[1;32m--> 167\u001b[0m     dataframe_data \u001b[39m=\u001b[39m json\u001b[39m.\u001b[39;49mload(f, \u001b[39mcls\u001b[39;49m\u001b[39m=\u001b[39;49mdecoder, object_hook\u001b[39m=\u001b[39;49mhook)\n\u001b[0;32m    169\u001b[0m pbar1\u001b[39m.\u001b[39mclose()\n\u001b[0;32m    170\u001b[0m pbar2\u001b[39m.\u001b[39mclose()\n",
      "File \u001b[1;32mc:\\Users\\sunil\\AppData\\Local\\Programs\\Python\\Python311\\Lib\\json\\__init__.py:293\u001b[0m, in \u001b[0;36mload\u001b[1;34m(fp, cls, object_hook, parse_float, parse_int, parse_constant, object_pairs_hook, **kw)\u001b[0m\n\u001b[0;32m    274\u001b[0m \u001b[39mdef\u001b[39;00m \u001b[39mload\u001b[39m(fp, \u001b[39m*\u001b[39m, \u001b[39mcls\u001b[39m\u001b[39m=\u001b[39m\u001b[39mNone\u001b[39;00m, object_hook\u001b[39m=\u001b[39m\u001b[39mNone\u001b[39;00m, parse_float\u001b[39m=\u001b[39m\u001b[39mNone\u001b[39;00m,\n\u001b[0;32m    275\u001b[0m         parse_int\u001b[39m=\u001b[39m\u001b[39mNone\u001b[39;00m, parse_constant\u001b[39m=\u001b[39m\u001b[39mNone\u001b[39;00m, object_pairs_hook\u001b[39m=\u001b[39m\u001b[39mNone\u001b[39;00m, \u001b[39m*\u001b[39m\u001b[39m*\u001b[39mkw):\n\u001b[0;32m    276\u001b[0m \u001b[39m    \u001b[39m\u001b[39m\"\"\"Deserialize ``fp`` (a ``.read()``-supporting file-like object containing\u001b[39;00m\n\u001b[0;32m    277\u001b[0m \u001b[39m    a JSON document) to a Python object.\u001b[39;00m\n\u001b[0;32m    278\u001b[0m \n\u001b[1;32m   (...)\u001b[0m\n\u001b[0;32m    291\u001b[0m \u001b[39m    kwarg; otherwise ``JSONDecoder`` is used.\u001b[39;00m\n\u001b[0;32m    292\u001b[0m \u001b[39m    \"\"\"\u001b[39;00m\n\u001b[1;32m--> 293\u001b[0m     \u001b[39mreturn\u001b[39;00m loads(fp\u001b[39m.\u001b[39;49mread(),\n\u001b[0;32m    294\u001b[0m         \u001b[39mcls\u001b[39;49m\u001b[39m=\u001b[39;49m\u001b[39mcls\u001b[39;49m, object_hook\u001b[39m=\u001b[39;49mobject_hook,\n\u001b[0;32m    295\u001b[0m         parse_float\u001b[39m=\u001b[39;49mparse_float, parse_int\u001b[39m=\u001b[39;49mparse_int,\n\u001b[0;32m    296\u001b[0m         parse_constant\u001b[39m=\u001b[39;49mparse_constant, object_pairs_hook\u001b[39m=\u001b[39;49mobject_pairs_hook, \u001b[39m*\u001b[39;49m\u001b[39m*\u001b[39;49mkw)\n",
      "File \u001b[1;32mc:\\Users\\sunil\\AppData\\Local\\Programs\\Python\\Python311\\Lib\\json\\__init__.py:359\u001b[0m, in \u001b[0;36mloads\u001b[1;34m(s, cls, object_hook, parse_float, parse_int, parse_constant, object_pairs_hook, **kw)\u001b[0m\n\u001b[0;32m    357\u001b[0m \u001b[39mif\u001b[39;00m parse_constant \u001b[39mis\u001b[39;00m \u001b[39mnot\u001b[39;00m \u001b[39mNone\u001b[39;00m:\n\u001b[0;32m    358\u001b[0m     kw[\u001b[39m'\u001b[39m\u001b[39mparse_constant\u001b[39m\u001b[39m'\u001b[39m] \u001b[39m=\u001b[39m parse_constant\n\u001b[1;32m--> 359\u001b[0m \u001b[39mreturn\u001b[39;00m \u001b[39mcls\u001b[39;49m(\u001b[39m*\u001b[39;49m\u001b[39m*\u001b[39;49mkw)\u001b[39m.\u001b[39;49mdecode(s)\n",
      "File \u001b[1;32mc:\\Users\\sunil\\AppData\\Local\\Programs\\Python\\Python311\\Lib\\site-packages\\monty\\json.py:474\u001b[0m, in \u001b[0;36mMontyDecoder.decode\u001b[1;34m(self, s)\u001b[0m\n\u001b[0;32m    472\u001b[0m         d \u001b[39m=\u001b[39m json\u001b[39m.\u001b[39mloads(s)\n\u001b[0;32m    473\u001b[0m \u001b[39melse\u001b[39;00m:\n\u001b[1;32m--> 474\u001b[0m     d \u001b[39m=\u001b[39m json\u001b[39m.\u001b[39;49mloads(s)\n\u001b[0;32m    475\u001b[0m \u001b[39mreturn\u001b[39;00m \u001b[39mself\u001b[39m\u001b[39m.\u001b[39mprocess_decoded(d)\n",
      "File \u001b[1;32mc:\\Users\\sunil\\AppData\\Local\\Programs\\Python\\Python311\\Lib\\json\\__init__.py:346\u001b[0m, in \u001b[0;36mloads\u001b[1;34m(s, cls, object_hook, parse_float, parse_int, parse_constant, object_pairs_hook, **kw)\u001b[0m\n\u001b[0;32m    341\u001b[0m     s \u001b[39m=\u001b[39m s\u001b[39m.\u001b[39mdecode(detect_encoding(s), \u001b[39m'\u001b[39m\u001b[39msurrogatepass\u001b[39m\u001b[39m'\u001b[39m)\n\u001b[0;32m    343\u001b[0m \u001b[39mif\u001b[39;00m (\u001b[39mcls\u001b[39m \u001b[39mis\u001b[39;00m \u001b[39mNone\u001b[39;00m \u001b[39mand\u001b[39;00m object_hook \u001b[39mis\u001b[39;00m \u001b[39mNone\u001b[39;00m \u001b[39mand\u001b[39;00m\n\u001b[0;32m    344\u001b[0m         parse_int \u001b[39mis\u001b[39;00m \u001b[39mNone\u001b[39;00m \u001b[39mand\u001b[39;00m parse_float \u001b[39mis\u001b[39;00m \u001b[39mNone\u001b[39;00m \u001b[39mand\u001b[39;00m\n\u001b[0;32m    345\u001b[0m         parse_constant \u001b[39mis\u001b[39;00m \u001b[39mNone\u001b[39;00m \u001b[39mand\u001b[39;00m object_pairs_hook \u001b[39mis\u001b[39;00m \u001b[39mNone\u001b[39;00m \u001b[39mand\u001b[39;00m \u001b[39mnot\u001b[39;00m kw):\n\u001b[1;32m--> 346\u001b[0m     \u001b[39mreturn\u001b[39;00m _default_decoder\u001b[39m.\u001b[39;49mdecode(s)\n\u001b[0;32m    347\u001b[0m \u001b[39mif\u001b[39;00m \u001b[39mcls\u001b[39m \u001b[39mis\u001b[39;00m \u001b[39mNone\u001b[39;00m:\n\u001b[0;32m    348\u001b[0m     \u001b[39mcls\u001b[39m \u001b[39m=\u001b[39m JSONDecoder\n",
      "File \u001b[1;32mc:\\Users\\sunil\\AppData\\Local\\Programs\\Python\\Python311\\Lib\\json\\decoder.py:338\u001b[0m, in \u001b[0;36mJSONDecoder.decode\u001b[1;34m(self, s, _w)\u001b[0m\n\u001b[0;32m    333\u001b[0m \u001b[39m\u001b[39m\u001b[39m\"\"\"Return the Python representation of ``s`` (a ``str`` instance\u001b[39;00m\n\u001b[0;32m    334\u001b[0m \u001b[39mcontaining a JSON document).\u001b[39;00m\n\u001b[0;32m    335\u001b[0m \n\u001b[0;32m    336\u001b[0m \u001b[39m\"\"\"\u001b[39;00m\n\u001b[0;32m    337\u001b[0m obj, end \u001b[39m=\u001b[39m \u001b[39mself\u001b[39m\u001b[39m.\u001b[39mraw_decode(s, idx\u001b[39m=\u001b[39m_w(s, \u001b[39m0\u001b[39m)\u001b[39m.\u001b[39mend())\n\u001b[1;32m--> 338\u001b[0m end \u001b[39m=\u001b[39m _w(s, end)\u001b[39m.\u001b[39mend()\n\u001b[0;32m    339\u001b[0m \u001b[39mif\u001b[39;00m end \u001b[39m!=\u001b[39m \u001b[39mlen\u001b[39m(s):\n\u001b[0;32m    340\u001b[0m     \u001b[39mraise\u001b[39;00m JSONDecodeError(\u001b[39m\"\u001b[39m\u001b[39mExtra data\u001b[39m\u001b[39m\"\u001b[39m, s, end)\n",
      "\u001b[1;31mKeyboardInterrupt\u001b[0m: "
     ]
    }
   ],
   "source": [
    "with MPRester(API_KEY) as mpr:\n",
    "    e=[\"F\",\"Cl\",\"O\",\"Br\"]    \n",
    "    c=0\n",
    "    for i in e:         \n",
    "        print(i)   \n",
    "        docs = mpr.summary.search(elements=[i], fields=field)\n",
    "        print(type(docs))\n",
    "        for doc in docs:\n",
    "            id=doc.material_id\n",
    "            structure = mpr.get_structure_by_material_id(id)\n",
    "            condensed_structure = StructureCondenser(structure)\n",
    "            if (condensed_structure==\"perovskite\"):\n",
    "                data.append(doc)\n",
    "                c=c+1\n",
    "                print(c)\n",
    "\n"
   ]
  },
  {
   "cell_type": "code",
   "execution_count": null,
   "metadata": {},
   "outputs": [],
   "source": []
  }
 ],
 "metadata": {
  "kernelspec": {
   "display_name": "Python 3",
   "language": "python",
   "name": "python3"
  },
  "language_info": {
   "codemirror_mode": {
    "name": "ipython",
    "version": 3
   },
   "file_extension": ".py",
   "mimetype": "text/x-python",
   "name": "python",
   "nbconvert_exporter": "python",
   "pygments_lexer": "ipython3",
   "version": "3.11.3"
  },
  "orig_nbformat": 4
 },
 "nbformat": 4,
 "nbformat_minor": 2
}
