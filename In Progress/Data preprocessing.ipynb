{
 "cells": [
  {
   "cell_type": "code",
   "execution_count": 5,
   "metadata": {},
   "outputs": [],
   "source": [
    "import csv \n",
    "import pandas as pd\n",
    "import qgrid\n",
    "field=[\"Shape\", 'nsites', 'elements', 'nelements', 'composition', 'composition_reduced', 'formula_pretty', 'formula_anonymous', 'chemsys', 'volume', 'density', 'density_atomic', 'symmetry',  'material_id',  'uncorrected_energy_per_atom', 'energy_per_atom', 'formation_energy_per_atom', 'energy_above_hull', 'is_stable', 'grain_boundaries', 'band_gap', 'cbm', 'vbm', 'efermi', 'is_gap_direct', 'is_metal',  'is_magnetic', 'ordering', 'total_magnetization', 'total_magnetization_normalized_vol', 'total_magnetization_normalized_formula_units', 'num_magnetic_sites', 'num_unique_magnetic_sites', 'types_of_magnetic_species', 'k_vrh', 'g_vrh','e_total', 'e_ionic', 'e_electronic', 'n', 'e_ij_max', 'weighted_surface_energy_EV_PER_ANG2', 'weighted_surface_energy', 'weighted_work_function', 'surface_anisotropy', 'shape_factor', 'has_reconstructed', 'possible_species',  'theoretical']\n",
    "source=\"materials_data.csv\"\n",
    "destination=\"process.csv\""
   ]
  },
  {
   "cell_type": "code",
   "execution_count": null,
   "metadata": {},
   "outputs": [],
   "source": [
    "def display_data(df)\n",
    "    grid = qgrid.show_grid(df)\n",
    "    grid"
   ]
  },
  {
   "cell_type": "code",
   "execution_count": 12,
   "metadata": {},
   "outputs": [],
   "source": [
    "df = pd.read_csv(source)\n"
   ]
  },
  {
   "cell_type": "code",
   "execution_count": 14,
   "metadata": {},
   "outputs": [
    {
     "name": "stdout",
     "output_type": "stream",
     "text": [
      "      Shape  nsites                                          elements   \n",
      "0     Cubic       5               [Element Cu, Element N, Element Ni]  \\\n",
      "1     Cubic       5               [Element Al, Element C, Element Ce]   \n",
      "2     Cubic       5               [Element N, Element Ni, Element Zn]   \n",
      "3     Cubic       5               [Element Mo, Element Na, Element O]   \n",
      "4     Cubic       5                [Element Ca, Element O, Element V]   \n",
      "...     ...     ...                                               ...   \n",
      "5037  Cubic      10   [Element Ga, Element O, Element Sb, Element Sr]   \n",
      "5038  Cubic      10    [Element Cl, Element Cs, Element F, Element I]   \n",
      "5039  Cubic      10    [Element Ag, Element Cs, Element F, Element Y]   \n",
      "5040  Cubic      40   [Element Ce, Element Nb, Element O, Element Sr]   \n",
      "5041  Cubic      10  [Element Cl, Element Cs, Element Nd, Element Rb]   \n",
      "\n",
      "      nelements      composition composition_reduced formula_pretty   \n",
      "0             3       Cu1 Ni3 N1          Cu1 Ni3 N1         CuNi3N  \\\n",
      "1             3       Ce3 Al1 C1          Ce3 Al1 C1         Ce3AlC   \n",
      "2             3       Zn1 Ni3 N1          Zn1 Ni3 N1         ZnNi3N   \n",
      "3             3       Na1 Mo1 O3          Na1 Mo1 O3         NaMoO3   \n",
      "4             3        Ca1 V1 O3           Ca1 V1 O3          CaVO3   \n",
      "...         ...              ...                 ...            ...   \n",
      "5037          4   Sr2 Ga1 Sb1 O6      Sr2 Ga1 Sb1 O6      Sr2GaSbO6   \n",
      "5038          4    Cs2 I1 Cl6 F1       Cs2 I1 Cl6 F1       Cs2ICl6F   \n",
      "5039          4    Cs2 Y1 Ag1 F6       Cs2 Y1 Ag1 F6       Cs2YAgF6   \n",
      "5040          4  Sr8 Ce4 Nb4 O24      Sr2 Ce1 Nb1 O6      Sr2CeNbO6   \n",
      "5041          4  Cs2 Rb1 Nd1 Cl6     Cs2 Rb1 Nd1 Cl6     Cs2RbNdCl6   \n",
      "\n",
      "     formula_anonymous      chemsys      volume  ...   n  e_ij_max   \n",
      "0                 ABC3      Cu-N-Ni   50.740425  ... NaN       NaN  \\\n",
      "1                 ABC3      Al-C-Ce  124.050388  ... NaN       NaN   \n",
      "2                 ABC3      N-Ni-Zn   51.770561  ... NaN       NaN   \n",
      "3                 ABC3      Mo-Na-O   61.577559  ... NaN       NaN   \n",
      "4                 ABC3       Ca-O-V   56.199756  ... NaN       NaN   \n",
      "...                ...          ...         ...  ...  ..       ...   \n",
      "5037            ABC2D6   Ga-O-Sb-Sr  126.920075  ... NaN       NaN   \n",
      "5038            ABC2D6    Cl-Cs-F-I  303.827042  ... NaN       NaN   \n",
      "5039            ABC2D6    Ag-Cs-F-Y  208.319101  ... NaN       NaN   \n",
      "5040            ABC2D6   Ce-Nb-O-Sr  612.668079  ... NaN       NaN   \n",
      "5041            ABC2D6  Cl-Cs-Nd-Rb  406.808029  ... NaN       NaN   \n",
      "\n",
      "     weighted_surface_energy_EV_PER_ANG2 weighted_surface_energy   \n",
      "0                                    NaN                     NaN  \\\n",
      "1                                    NaN                     NaN   \n",
      "2                                    NaN                     NaN   \n",
      "3                                    NaN                     NaN   \n",
      "4                                    NaN                     NaN   \n",
      "...                                  ...                     ...   \n",
      "5037                                 NaN                     NaN   \n",
      "5038                                 NaN                     NaN   \n",
      "5039                                 NaN                     NaN   \n",
      "5040                                 NaN                     NaN   \n",
      "5041                                 NaN                     NaN   \n",
      "\n",
      "      weighted_work_function  surface_anisotropy  shape_factor   \n",
      "0                        NaN                 NaN           NaN  \\\n",
      "1                        NaN                 NaN           NaN   \n",
      "2                        NaN                 NaN           NaN   \n",
      "3                        NaN                 NaN           NaN   \n",
      "4                        NaN                 NaN           NaN   \n",
      "...                      ...                 ...           ...   \n",
      "5037                     NaN                 NaN           NaN   \n",
      "5038                     NaN                 NaN           NaN   \n",
      "5039                     NaN                 NaN           NaN   \n",
      "5040                     NaN                 NaN           NaN   \n",
      "5041                     NaN                 NaN           NaN   \n",
      "\n",
      "      has_reconstructed                 possible_species  theoretical  \n",
      "0                   NaN                               []         True  \n",
      "1                   NaN                               []        False  \n",
      "2                   NaN                               []         True  \n",
      "3                   NaN           ['Na+', 'Mo5+', 'O2-']         True  \n",
      "4                   NaN           ['Ca2+', 'O2-', 'V4+']         True  \n",
      "...                 ...                              ...          ...  \n",
      "5037                NaN  ['O2-', 'Sb5+', 'Sr2+', 'Ga3+']        False  \n",
      "5038                NaN      ['Cs+', 'F-', 'I5+', 'Cl-']         True  \n",
      "5039                NaN      ['Ag+', 'Cs+', 'Y3+', 'F-']         True  \n",
      "5040                NaN  ['Nb5+', 'Ce3+', 'Sr2+', 'O2-']         True  \n",
      "5041                NaN    ['Rb+', 'Cs+', 'Cl-', 'Nd3+']         True  \n",
      "\n",
      "[5042 rows x 49 columns]\n"
     ]
    }
   ],
   "source": [
    "print(df)"
   ]
  },
  {
   "cell_type": "code",
   "execution_count": null,
   "metadata": {},
   "outputs": [],
   "source": [
    "column_names = df.columns.tolist()\n",
    "print(column_names)"
   ]
  },
  {
   "cell_type": "code",
   "execution_count": 7,
   "metadata": {},
   "outputs": [
    {
     "name": "stdout",
     "output_type": "stream",
     "text": [
      "Index(['Shape', 'nsites', 'elements', 'nelements', 'composition',\n",
      "       'composition_reduced', 'formula_pretty', 'formula_anonymous', 'chemsys',\n",
      "       'volume', 'density', 'density_atomic', 'symmetry', 'material_id',\n",
      "       'uncorrected_energy_per_atom', 'energy_per_atom',\n",
      "       'formation_energy_per_atom', 'energy_above_hull', 'is_stable',\n",
      "       'grain_boundaries', 'band_gap', 'cbm', 'vbm', 'efermi', 'is_gap_direct',\n",
      "       'is_metal', 'is_magnetic', 'ordering', 'total_magnetization',\n",
      "       'total_magnetization_normalized_vol',\n",
      "       'total_magnetization_normalized_formula_units', 'num_magnetic_sites',\n",
      "       'num_unique_magnetic_sites', 'types_of_magnetic_species', 'k_vrh',\n",
      "       'g_vrh', 'e_total', 'e_ionic', 'e_electronic', 'n', 'e_ij_max',\n",
      "       'weighted_surface_energy_EV_PER_ANG2', 'weighted_surface_energy',\n",
      "       'weighted_work_function', 'surface_anisotropy', 'shape_factor',\n",
      "       'has_reconstructed', 'possible_species', 'theoretical'],\n",
      "      dtype='object')\n"
     ]
    }
   ],
   "source": [
    "selected_columns = ['Column1', 'Column3']  \n",
    "df2 = df1[selected_columns]\n",
    "print(df2)"
   ]
  }
 ],
 "metadata": {
  "kernelspec": {
   "display_name": "Python 3",
   "language": "python",
   "name": "python3"
  },
  "language_info": {
   "codemirror_mode": {
    "name": "ipython",
    "version": 3
   },
   "file_extension": ".py",
   "mimetype": "text/x-python",
   "name": "python",
   "nbconvert_exporter": "python",
   "pygments_lexer": "ipython3",
   "version": "3.11.3"
  },
  "orig_nbformat": 4
 },
 "nbformat": 4,
 "nbformat_minor": 2
}
