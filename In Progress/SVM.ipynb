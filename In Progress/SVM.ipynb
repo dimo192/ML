{
 "cells": [
  {
   "cell_type": "code",
   "execution_count": 1,
   "metadata": {},
   "outputs": [],
   "source": [
    "import csv\n",
    "import pandas as pd\n",
    "from sklearn.datasets import make_blobs\n",
    "from sklearn import model_selection\n",
    "from sklearn import svm\n",
    "import numpy as np\n",
    "from scipy import stats\n",
    "from collections import Counter\n",
    "from sklearn.metrics import confusion_matrix\n",
    "import sklearn.datasets as datasets\n",
    "from sklearn.metrics import classification_report as report\n",
    "from sklearn.datasets import make_classification\n",
    "from numpy import argmax\n",
    "from sklearn.svm import SVC\n",
    "from sklearn import metrics\n",
    "from imblearn.over_sampling import SMOTE\n",
    "from sklearn.model_selection import GridSearchCV\n",
    "from sklearn.linear_model import LogisticRegression\n",
    "from sklearn.metrics import roc_curve, roc_auc_score\n",
    "import matplotlib.pyplot as plt\n",
    "\n",
    "data=\"process.csv\""
   ]
  },
  {
   "cell_type": "code",
   "execution_count": 2,
   "metadata": {},
   "outputs": [
    {
     "data": {
      "text/html": [
       "<div>\n",
       "<style scoped>\n",
       "    .dataframe tbody tr th:only-of-type {\n",
       "        vertical-align: middle;\n",
       "    }\n",
       "\n",
       "    .dataframe tbody tr th {\n",
       "        vertical-align: top;\n",
       "    }\n",
       "\n",
       "    .dataframe thead th {\n",
       "        text-align: right;\n",
       "    }\n",
       "</style>\n",
       "<table border=\"1\" class=\"dataframe\">\n",
       "  <thead>\n",
       "    <tr style=\"text-align: right;\">\n",
       "      <th></th>\n",
       "      <th>Shape</th>\n",
       "      <th>formula_pretty</th>\n",
       "      <th>formula_anonymous</th>\n",
       "      <th>volume</th>\n",
       "      <th>density</th>\n",
       "      <th>density_atomic</th>\n",
       "      <th>energy_per_atom</th>\n",
       "      <th>band_gap</th>\n",
       "      <th>efermi</th>\n",
       "      <th>is_gap_direct</th>\n",
       "      <th>is_metal</th>\n",
       "      <th>is_magnetic</th>\n",
       "      <th>ordering</th>\n",
       "      <th>total_magnetization</th>\n",
       "      <th>theoretical</th>\n",
       "    </tr>\n",
       "  </thead>\n",
       "  <tbody>\n",
       "    <tr>\n",
       "      <th>0</th>\n",
       "      <td>0</td>\n",
       "      <td>AlPbO3</td>\n",
       "      <td>ABC3</td>\n",
       "      <td>56.379268</td>\n",
       "      <td>8.311042</td>\n",
       "      <td>11.275854</td>\n",
       "      <td>-6.651740</td>\n",
       "      <td>0.000</td>\n",
       "      <td>6.457979</td>\n",
       "      <td>0</td>\n",
       "      <td>1</td>\n",
       "      <td>0</td>\n",
       "      <td>0</td>\n",
       "      <td>0.032580</td>\n",
       "      <td>1</td>\n",
       "    </tr>\n",
       "    <tr>\n",
       "      <th>1</th>\n",
       "      <td>2</td>\n",
       "      <td>Ba2CoMoO6</td>\n",
       "      <td>ABC2D6</td>\n",
       "      <td>277.167172</td>\n",
       "      <td>6.296940</td>\n",
       "      <td>13.858359</td>\n",
       "      <td>-7.604548</td>\n",
       "      <td>1.274</td>\n",
       "      <td>3.062452</td>\n",
       "      <td>1</td>\n",
       "      <td>0</td>\n",
       "      <td>1</td>\n",
       "      <td>2</td>\n",
       "      <td>0.000002</td>\n",
       "      <td>1</td>\n",
       "    </tr>\n",
       "    <tr>\n",
       "      <th>2</th>\n",
       "      <td>0</td>\n",
       "      <td>Ba2CoMoO6</td>\n",
       "      <td>ABC2D6</td>\n",
       "      <td>276.766068</td>\n",
       "      <td>6.306065</td>\n",
       "      <td>13.838303</td>\n",
       "      <td>-7.613764</td>\n",
       "      <td>0.000</td>\n",
       "      <td>3.727364</td>\n",
       "      <td>0</td>\n",
       "      <td>1</td>\n",
       "      <td>1</td>\n",
       "      <td>2</td>\n",
       "      <td>0.010982</td>\n",
       "      <td>0</td>\n",
       "    </tr>\n",
       "    <tr>\n",
       "      <th>3</th>\n",
       "      <td>4</td>\n",
       "      <td>Ba3HoIrRuO9</td>\n",
       "      <td>ABCD3E9</td>\n",
       "      <td>448.998994</td>\n",
       "      <td>7.501607</td>\n",
       "      <td>14.966633</td>\n",
       "      <td>-7.461055</td>\n",
       "      <td>0.000</td>\n",
       "      <td>3.778487</td>\n",
       "      <td>0</td>\n",
       "      <td>1</td>\n",
       "      <td>1</td>\n",
       "      <td>1</td>\n",
       "      <td>4.000589</td>\n",
       "      <td>1</td>\n",
       "    </tr>\n",
       "    <tr>\n",
       "      <th>4</th>\n",
       "      <td>4</td>\n",
       "      <td>Ba3LiOs2O9</td>\n",
       "      <td>AB2C3D9</td>\n",
       "      <td>428.639080</td>\n",
       "      <td>7.309243</td>\n",
       "      <td>14.287969</td>\n",
       "      <td>-7.343171</td>\n",
       "      <td>0.000</td>\n",
       "      <td>3.513875</td>\n",
       "      <td>0</td>\n",
       "      <td>1</td>\n",
       "      <td>1</td>\n",
       "      <td>1</td>\n",
       "      <td>6.011189</td>\n",
       "      <td>0</td>\n",
       "    </tr>\n",
       "  </tbody>\n",
       "</table>\n",
       "</div>"
      ],
      "text/plain": [
       "   Shape formula_pretty formula_anonymous      volume   density   \n",
       "0      0         AlPbO3              ABC3   56.379268  8.311042  \\\n",
       "1      2      Ba2CoMoO6            ABC2D6  277.167172  6.296940   \n",
       "2      0      Ba2CoMoO6            ABC2D6  276.766068  6.306065   \n",
       "3      4    Ba3HoIrRuO9           ABCD3E9  448.998994  7.501607   \n",
       "4      4     Ba3LiOs2O9           AB2C3D9  428.639080  7.309243   \n",
       "\n",
       "   density_atomic  energy_per_atom  band_gap    efermi  is_gap_direct   \n",
       "0       11.275854        -6.651740     0.000  6.457979              0  \\\n",
       "1       13.858359        -7.604548     1.274  3.062452              1   \n",
       "2       13.838303        -7.613764     0.000  3.727364              0   \n",
       "3       14.966633        -7.461055     0.000  3.778487              0   \n",
       "4       14.287969        -7.343171     0.000  3.513875              0   \n",
       "\n",
       "   is_metal  is_magnetic  ordering  total_magnetization  theoretical  \n",
       "0         1            0         0             0.032580            1  \n",
       "1         0            1         2             0.000002            1  \n",
       "2         1            1         2             0.010982            0  \n",
       "3         1            1         1             4.000589            1  \n",
       "4         1            1         1             6.011189            0  "
      ]
     },
     "execution_count": 2,
     "metadata": {},
     "output_type": "execute_result"
    }
   ],
   "source": [
    "df = pd.read_csv(data)\n",
    "df.head()\n"
   ]
  },
  {
   "cell_type": "code",
   "execution_count": 3,
   "metadata": {},
   "outputs": [],
   "source": [
    "df = df.fillna(-1)"
   ]
  },
  {
   "cell_type": "code",
   "execution_count": 4,
   "metadata": {},
   "outputs": [],
   "source": [
    "features=['volume', 'density', 'density_atomic', 'energy_per_atom','band_gap', 'efermi','is_gap_direct', 'is_metal', 'is_magnetic', 'ordering','total_magnetization','theoretical']  \n",
    "X = df.loc[0:len(df), features].values\n",
    "Y = df.loc[0:len(df), \"Shape\"].values"
   ]
  },
  {
   "cell_type": "code",
   "execution_count": 5,
   "metadata": {},
   "outputs": [
    {
     "data": {
      "text/plain": [
       "array([[5.63792677e+01, 8.31104232e+00, 1.12758535e+01, ...,\n",
       "        0.00000000e+00, 3.25802000e-02, 1.00000000e+00],\n",
       "       [2.77167172e+02, 6.29693952e+00, 1.38583586e+01, ...,\n",
       "        2.00000000e+00, 2.10000000e-06, 1.00000000e+00],\n",
       "       [2.76766068e+02, 6.30606538e+00, 1.38383034e+01, ...,\n",
       "        2.00000000e+00, 1.09821000e-02, 0.00000000e+00],\n",
       "       ...,\n",
       "       [1.29163476e+02, 6.02477887e+00, 1.29163476e+01, ...,\n",
       "        0.00000000e+00, 3.93313200e-01, 1.00000000e+00],\n",
       "       [6.38148029e+01, 3.54957838e+00, 1.27629606e+01, ...,\n",
       "        1.00000000e+00, 2.45797360e+00, 1.00000000e+00],\n",
       "       [5.17705612e+01, 8.19502268e+00, 1.03541122e+01, ...,\n",
       "        0.00000000e+00, 3.50000000e-06, 1.00000000e+00]])"
      ]
     },
     "execution_count": 5,
     "metadata": {},
     "output_type": "execute_result"
    }
   ],
   "source": [
    "X"
   ]
  },
  {
   "attachments": {},
   "cell_type": "markdown",
   "metadata": {},
   "source": [
    "OverSampling"
   ]
  },
  {
   "cell_type": "code",
   "execution_count": 6,
   "metadata": {},
   "outputs": [
    {
     "name": "stdout",
     "output_type": "stream",
     "text": [
      "12344 2179\n"
     ]
    }
   ],
   "source": [
    "X_train, X_test, Y_train, Y_test = model_selection.train_test_split (X, Y, test_size=0.15, random_state=42)\n",
    "print(len(X_train),len(X_test))\n",
    "oversample = SMOTE()#oversampling of data\n",
    "X_train, Y_train = oversample.fit_resample(X_train, Y_train)\n"
   ]
  },
  {
   "cell_type": "code",
   "execution_count": 7,
   "metadata": {},
   "outputs": [
    {
     "name": "stdout",
     "output_type": "stream",
     "text": [
      "39991\n"
     ]
    }
   ],
   "source": [
    "print(len(X_train))"
   ]
  },
  {
   "cell_type": "code",
   "execution_count": 8,
   "metadata": {},
   "outputs": [],
   "source": [
    "def CRandCM(method,X_test,Y_test):#a function to print classification report and confusion matrix\n",
    "    Y_pred=method.predict(X_test)\n",
    "    cr = report(Y_test,  Y_pred)\n",
    "    cm = confusion_matrix(Y_test, Y_pred)\n",
    "    print(cr)\n",
    "    print(cm)"
   ]
  },
  {
   "cell_type": "code",
   "execution_count": 9,
   "metadata": {},
   "outputs": [],
   "source": [
    "C = [0.001, 0.01, 0.1, 1, 10, 100, 1000]\n",
    "penalty = ['l1', 'l2']"
   ]
  },
  {
   "attachments": {},
   "cell_type": "markdown",
   "metadata": {},
   "source": [
    "SVM RBF"
   ]
  },
  {
   "cell_type": "code",
   "execution_count": 10,
   "metadata": {},
   "outputs": [],
   "source": [
    "C = [0.1, 1, 10, 20]\n",
    "gamma = [0.1, 1, 10]"
   ]
  },
  {
   "cell_type": "code",
   "execution_count": 11,
   "metadata": {},
   "outputs": [
    {
     "name": "stdout",
     "output_type": "stream",
     "text": [
      "0.1 0.1\n"
     ]
    }
   ],
   "source": [
    "results = []\n",
    "for c in C:\n",
    "    for g in gamma:\n",
    "        print(c,g)\n",
    "        model = SVC(C=c, kernel='rbf', gamma=g, probability=True)\n",
    "        model.fit(X_train, Y_train)\n",
    "        probs = model.predict_proba(X_test)[:, 1]\n",
    "        fpr, tpr, thresholds = roc_curve(Y_test, probs)\n",
    "        auc_score = roc_auc_score(Y_test, probs)\n",
    "        print(auc_score)\n",
    "        results.append({'C': c, 'gamma': g, 'fpr': fpr, 'tpr': tpr, 'auc': auc_score})"
   ]
  },
  {
   "cell_type": "code",
   "execution_count": null,
   "metadata": {},
   "outputs": [],
   "source": [
    "plt.figure(figsize=(8, 6))\n",
    "plt.plot([0, 1], [0, 1], 'k--')\n",
    "for r in results:\n",
    "    plt.plot(r['fpr'], r['tpr'], label='C={}, gamma={}, AUC={:.2f}'.format(r['C'], r['gamma'], r['auc']))\n",
    "plt.xlabel('False positive rate')\n",
    "plt.ylabel('True positive rate')\n",
    "plt.title('ROC curves')\n",
    "plt.legend()\n",
    "plt.show()"
   ]
  },
  {
   "cell_type": "code",
   "execution_count": null,
   "metadata": {},
   "outputs": [],
   "source": [
    "# Finding best hyperparameters\n",
    "best_result = max(results, key=lambda x: x['auc'])\n",
    "print('Best hyperparameters: C={}, gamma={}, AUC={:.2f}'.format(best_result['C'], best_result['gamma'], best_result['auc']))\n"
   ]
  }
 ],
 "metadata": {
  "kernelspec": {
   "display_name": "Python 3",
   "language": "python",
   "name": "python3"
  },
  "language_info": {
   "codemirror_mode": {
    "name": "ipython",
    "version": 3
   },
   "file_extension": ".py",
   "mimetype": "text/x-python",
   "name": "python",
   "nbconvert_exporter": "python",
   "pygments_lexer": "ipython3",
   "version": "3.11.3"
  },
  "orig_nbformat": 4
 },
 "nbformat": 4,
 "nbformat_minor": 2
}
