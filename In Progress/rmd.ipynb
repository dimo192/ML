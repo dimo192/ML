{
 "cells": [
  {
   "cell_type": "code",
   "execution_count": 64,
   "metadata": {},
   "outputs": [],
   "source": [
    "from mp_api.client import MPRester\n",
    "import csv\n",
    "API_KEY = \"nsoaeMLdE0cEg9JwKCf8YqOtijLwq0KD\"\n",
    "mpr=MPRester(API_KEY)"
   ]
  },
  {
   "cell_type": "code",
   "execution_count": 65,
   "metadata": {},
   "outputs": [],
   "source": [
    "field=[ 'nsites', 'elements', 'nelements', 'composition', 'composition_reduced', 'formula_pretty', 'formula_anonymous', 'chemsys', 'volume', 'density', 'density_atomic', 'symmetry',  'material_id',  'uncorrected_energy_per_atom', 'energy_per_atom', 'formation_energy_per_atom', 'energy_above_hull', 'is_stable', 'grain_boundaries', 'band_gap', 'cbm', 'vbm', 'efermi', 'is_gap_direct', 'is_metal',  'is_magnetic', 'ordering', 'total_magnetization', 'total_magnetization_normalized_vol', 'total_magnetization_normalized_formula_units', 'num_magnetic_sites', 'num_unique_magnetic_sites', 'types_of_magnetic_species', 'k_vrh', 'g_vrh','e_total', 'e_ionic', 'e_electronic', 'n', 'e_ij_max', 'weighted_surface_energy_EV_PER_ANG2', 'weighted_surface_energy', 'weighted_work_function', 'surface_anisotropy', 'shape_factor', 'has_reconstructed', 'possible_species',  'theoretical']\n"
   ]
  },
  {
   "cell_type": "code",
   "execution_count": 66,
   "metadata": {},
   "outputs": [
    {
     "data": {
      "application/vnd.jupyter.widget-view+json": {
       "model_id": "cac2e15d9440465dac905398bcdd3131",
       "version_major": 2,
       "version_minor": 0
      },
      "text/plain": [
       "Retrieving SummaryDoc documents:   0%|          | 0/4646 [00:00<?, ?it/s]"
      ]
     },
     "metadata": {},
     "output_type": "display_data"
    },
    {
     "data": {
      "application/vnd.jupyter.widget-view+json": {
       "model_id": "002fb19933db447daf4d423d0f6dab90",
       "version_major": 2,
       "version_minor": 0
      },
      "text/plain": [
       "Retrieving SummaryDoc documents:   0%|          | 0/1870 [00:00<?, ?it/s]"
      ]
     },
     "metadata": {},
     "output_type": "display_data"
    },
    {
     "data": {
      "application/vnd.jupyter.widget-view+json": {
       "model_id": "312cb6e9d1cf43d38e9ad36f0d688939",
       "version_major": 2,
       "version_minor": 0
      },
      "text/plain": [
       "Retrieving SummaryDoc documents:   0%|          | 0/4735 [00:00<?, ?it/s]"
      ]
     },
     "metadata": {},
     "output_type": "display_data"
    },
    {
     "data": {
      "application/vnd.jupyter.widget-view+json": {
       "model_id": "2f41861fcafb430b8cb860e7b9a0e26b",
       "version_major": 2,
       "version_minor": 0
      },
      "text/plain": [
       "Retrieving SummaryDoc documents:   0%|          | 0/1184 [00:00<?, ?it/s]"
      ]
     },
     "metadata": {},
     "output_type": "display_data"
    }
   ],
   "source": [
    "ABC3=mpr.summary.search(formula=\"ABC3\",fields=field)\n",
    "ABCDE6=mpr.summary.search(formula=\"ABCDE6\",fields=field)\n",
    "ABC2E6=mpr.summary.search(formula=\"ABC2E6\",fields=field)\n",
    "AB3E6=mpr.summary.search(formula=\"AB3E6\",fields=field)"
   ]
  },
  {
   "cell_type": "code",
   "execution_count": 67,
   "metadata": {},
   "outputs": [],
   "source": [
    "Final_data=ABC3+ABCDE6+ABC2E6+AB3E6"
   ]
  },
  {
   "cell_type": "code",
   "execution_count": 68,
   "metadata": {},
   "outputs": [
    {
     "data": {
      "text/plain": [
       "12435"
      ]
     },
     "execution_count": 68,
     "metadata": {},
     "output_type": "execute_result"
    }
   ],
   "source": [
    "len(Final_data)"
   ]
  },
  {
   "cell_type": "code",
   "execution_count": 69,
   "metadata": {},
   "outputs": [
    {
     "name": "stdout",
     "output_type": "stream",
     "text": [
      "Hexagonal\n"
     ]
    }
   ],
   "source": [
    "t=Final_data[0].symmetry.crystal_system\n",
    "print(t)\n",
    "data=Final_data"
   ]
  },
  {
   "cell_type": "code",
   "execution_count": 70,
   "metadata": {},
   "outputs": [],
   "source": [
    "structure=[]\n",
    "for instance in Final_data:\n",
    "    structure.append(instance.symmetry.crystal_system)"
   ]
  },
  {
   "cell_type": "code",
   "execution_count": 71,
   "metadata": {},
   "outputs": [
    {
     "name": "stdout",
     "output_type": "stream",
     "text": [
      "Hexagonal: 340\n",
      "Orthorhombic: 1972\n",
      "Trigonal: 755\n",
      "Cubic: 5948\n",
      "Triclinic: 738\n",
      "Tetragonal: 641\n",
      "Monoclinic: 2041\n"
     ]
    }
   ],
   "source": [
    "from collections import Counter\n",
    "my_list=structure\n",
    "counted = Counter(my_list)\n",
    "for element, count in counted.items():\n",
    "    print(f\"{element}: {count}\")\n"
   ]
  },
  {
   "cell_type": "code",
   "execution_count": 72,
   "metadata": {},
   "outputs": [
    {
     "name": "stdout",
     "output_type": "stream",
     "text": [
      "['nsites', 'elements', 'nelements', 'composition']\n",
      "['composition_reduced', 'formula_pretty', 'formula_anonymous', 'chemsys']\n",
      "['volume', 'density', 'density_atomic', 'symmetry']\n",
      "['material_id', 'uncorrected_energy_per_atom', 'energy_per_atom', 'formation_energy_per_atom']\n",
      "['energy_above_hull', 'is_stable', 'grain_boundaries', 'band_gap']\n",
      "['cbm', 'vbm', 'efermi', 'is_gap_direct']\n",
      "['is_metal', 'is_magnetic', 'ordering', 'total_magnetization']\n",
      "['total_magnetization_normalized_vol', 'total_magnetization_normalized_formula_units', 'num_magnetic_sites', 'num_unique_magnetic_sites']\n",
      "['types_of_magnetic_species', 'k_vrh', 'g_vrh', 'e_total']\n",
      "['e_ionic', 'e_electronic', 'n', 'e_ij_max']\n",
      "['weighted_surface_energy_EV_PER_ANG2', 'weighted_surface_energy', 'weighted_work_function', 'surface_anisotropy']\n",
      "['shape_factor', 'has_reconstructed', 'possible_species', 'theoretical']\n"
     ]
    }
   ],
   "source": [
    "for i in range(0,len(field),4):\n",
    "    print(field[i:i+4])"
   ]
  },
  {
   "cell_type": "code",
   "execution_count": 89,
   "metadata": {},
   "outputs": [
    {
     "name": "stdout",
     "output_type": "stream",
     "text": [
      "P6_3/mmc: 180\n",
      "Pmc2_1: 44\n",
      "R-3: 266\n",
      "Pnma: 711\n",
      "Pm-3m: 1446\n",
      "P-1: 462\n",
      "P6_3cm: 69\n",
      "Pm-3n: 10\n",
      "Immm: 15\n",
      "Cmmm: 101\n",
      "R3m: 65\n",
      "I4mm: 128\n",
      "P2_1/c: 797\n",
      "Fm-3m: 3042\n",
      "Pbca: 81\n",
      "P4mm: 46\n",
      "C2/c: 297\n",
      "Amm2: 38\n",
      "Imma: 38\n",
      "P1: 276\n",
      "C222_1: 11\n",
      "Cm: 121\n",
      "Pca2_1: 18\n",
      "Pn-3: 132\n",
      "Cmcm: 144\n",
      "I-4m2: 47\n",
      "P3_121: 3\n",
      "R3: 88\n",
      "I4_1/a: 11\n",
      "C2: 63\n",
      "C2/m: 229\n",
      "Pbcm: 55\n",
      "I4/mcm: 40\n",
      "R32: 20\n",
      "P-6m2: 17\n",
      "I4/mmm: 66\n",
      "R-3c: 83\n",
      "Pmma: 15\n",
      "Pna2_1: 61\n",
      "P6_1: 4\n",
      "R3c: 70\n",
      "Pnna: 6\n",
      "P2/c: 50\n",
      "P4_132: 2\n",
      "Pbam: 14\n",
      "Cmce: 9\n",
      "P2_12_12_1: 31\n",
      "P3_1: 5\n",
      "P4/mbm: 21\n",
      "P-3c1: 4\n",
      "P3: 5\n",
      "P4/mmm: 71\n",
      "P6_122: 3\n",
      "Pm: 19\n",
      "P-31m: 12\n",
      "P-3: 3\n",
      "P4_2/mnm: 9\n",
      "P4_1: 7\n",
      "Fd-3m: 12\n",
      "Ama2: 18\n",
      "P2_1/m: 201\n",
      "P4_2/n: 6\n",
      "Pba2: 3\n",
      "Pc: 146\n",
      "Pbcn: 11\n",
      "Pmmm: 6\n",
      "Pccn: 6\n",
      "Pa-3: 13\n",
      "Cmc2_1: 46\n",
      "Cc: 47\n",
      "Pmmn: 12\n",
      "P2_13: 22\n",
      "R-3m: 41\n",
      "I2_13: 6\n",
      "P6_3: 4\n",
      "Pcca: 1\n",
      "Pmna: 6\n",
      "Imm2: 13\n",
      "P-42_1m: 7\n",
      "Fmm2: 10\n",
      "P321: 8\n",
      "P3m1: 16\n",
      "Ibam: 6\n",
      "P6_3/m: 2\n",
      "Pmn2_1: 94\n",
      "P4/nmm: 5\n",
      "Pnc2: 1\n",
      "P6_3mc: 14\n",
      "P4_2/nmc: 6\n",
      "Im-3: 3\n",
      "P6_322: 30\n",
      "P2_1: 66\n",
      "P6_3/mcm: 8\n",
      "Ima2: 2\n",
      "P-31c: 22\n",
      "Pnn2: 7\n",
      "Pmm2: 9\n",
      "P-62m: 2\n",
      "Fddd: 9\n",
      "P-3m1: 26\n",
      "P222_1: 1\n",
      "Ibca: 4\n",
      "P2/m: 3\n",
      "P3_2: 2\n",
      "P-6c2: 1\n",
      "P4_3: 2\n",
      "P6_522: 1\n",
      "Fdd2: 7\n",
      "I2_12_12_1: 3\n",
      "P2: 2\n",
      "P3c1: 2\n",
      "I4/m: 69\n",
      "Pnnm: 33\n",
      "P-6: 2\n",
      "P6/mmm: 3\n",
      "P2_12_12: 10\n",
      "F222: 1\n",
      "P4_2/mbc: 1\n",
      "P4/m: 2\n",
      "I4_1/amd: 4\n",
      "P-42_1c: 1\n",
      "P222: 111\n",
      "F-43m: 1250\n",
      "Pnnn: 136\n",
      "I-4: 10\n",
      "P312: 14\n",
      "P4_2/mmc: 12\n",
      "P42_12: 6\n",
      "P-4n2: 25\n",
      "Cmm2: 2\n",
      "Cccm: 3\n",
      "Pma2: 1\n",
      "P4_2/nnm: 2\n",
      "P-4m2: 1\n",
      "I4_1/acd: 4\n",
      "P4/mnc: 13\n",
      "I-42m: 6\n",
      "C222: 4\n",
      "I4: 1\n",
      "I4_1cd: 1\n",
      "Cmme: 1\n",
      "I-42d: 5\n",
      "P4_32_12: 1\n",
      "I222: 1\n",
      "Fmmm: 2\n",
      "P-42m: 1\n",
      "P4_2mc: 1\n",
      "Pn-3m: 1\n",
      "P4_2/m: 3\n",
      "I-43d: 1\n",
      "Ia-3: 5\n",
      "Fd-3: 2\n",
      "Ia-3d: 1\n"
     ]
    }
   ],
   "source": [
    "symb=[]\n",
    "for doc1 in data:\n",
    "    symb.append(doc1.symmetry.symbol)\n",
    "my_list=symb\n",
    "counted = Counter(my_list)\n",
    "elementsp = []\n",
    "counts = []\n",
    "for element, count in counted.items():\n",
    "    print(f\"{element}: {count}\")\n",
    "    elementsp.append(element)\n",
    "    counts.append(count)\n"
   ]
  },
  {
   "cell_type": "code",
   "execution_count": 95,
   "metadata": {},
   "outputs": [
    {
     "data": {
      "text/plain": [
       "25"
      ]
     },
     "execution_count": 95,
     "metadata": {},
     "output_type": "execute_result"
    }
   ],
   "source": [
    "possible=['Pm-3m', 'P4/mmm', 'I4/mcm', 'Fm-3m','F-43m', 'Pnma', 'R-3c', 'R-3m', 'R3', 'Pm-3n', 'P-6m2', 'P6_3/m', 'P6_3/mcm', 'P4/m', 'I4/m', 'Pm-3', 'P4/nmm', 'P4_2/mnm', 'P6_3cm', 'P2_1/c', 'Pca2_1', 'Pn-3', 'Pn-3n', 'Pbcm', 'Pmc2_1']\n",
    "len(possible)"
   ]
  },
  {
   "cell_type": "code",
   "execution_count": 97,
   "metadata": {},
   "outputs": [
    {
     "name": "stdout",
     "output_type": "stream",
     "text": [
      "153\n",
      "{'Pca2_1', 'P4/nmm', 'P2_1/c', 'F-43m', 'Pm-3m', 'Pnma', 'I4/mcm', 'P6_3/m', 'I4/m', 'Pmc2_1', 'P-6m2', 'P4_2/mnm', 'Fm-3m', 'R-3c', 'P4/m', 'R3', 'P6_3cm', 'P6_3/mcm', 'R-3m', 'Pm-3n', 'Pbcm', 'P4/mmm', 'Pn-3'}\n"
     ]
    }
   ],
   "source": [
    "list1=possible\n",
    "list2=elementsp\n",
    "overlap = (set(list1).intersection(set(list2)))\n",
    "print(overlap)"
   ]
  },
  {
   "cell_type": "code",
   "execution_count": null,
   "metadata": {},
   "outputs": [],
   "source": []
  },
  {
   "cell_type": "code",
   "execution_count": 74,
   "metadata": {},
   "outputs": [
    {
     "name": "stdout",
     "output_type": "stream",
     "text": [
      "Done\n"
     ]
    }
   ],
   "source": [
    "with open('data_endsem.csv', mode='w', newline='') as file:\n",
    "    fieldnames = [\"Shape\"]+field\n",
    "    writer = csv.DictWriter(file, fieldnames=fieldnames)\n",
    "    writer.writeheader()\n",
    "    for doc in data:\n",
    "        x3=doc.symmetry.crystal_system\n",
    "        writer.writerow({'Shape':x3,'nsites': doc.nsites,'elements': doc.elements,'nelements': doc.nelements,'composition': doc.composition,\n",
    "'composition_reduced': doc.composition_reduced,'formula_pretty': doc.formula_pretty,'formula_anonymous': doc.formula_anonymous,\n",
    "'chemsys': doc.chemsys,'volume': doc.volume,'density': doc.density,'density_atomic': doc.density_atomic,'symmetry': doc.symmetry,\n",
    "'material_id': doc.material_id,'uncorrected_energy_per_atom': doc.uncorrected_energy_per_atom,'energy_per_atom': doc.energy_per_atom,\n",
    "'formation_energy_per_atom': doc.formation_energy_per_atom,'energy_above_hull': doc.energy_above_hull,'is_stable': doc.is_stable,\n",
    "'grain_boundaries': doc.grain_boundaries,'band_gap': doc.band_gap,'cbm': doc.cbm,'vbm': doc.vbm,'efermi': doc.efermi,\n",
    "'is_gap_direct': doc.is_gap_direct,'is_metal': doc.is_metal,'is_magnetic': doc.is_magnetic,'ordering': doc.ordering,\n",
    "'total_magnetization': doc.total_magnetization,'total_magnetization_normalized_vol': doc.total_magnetization_normalized_vol,\n",
    "'total_magnetization_normalized_formula_units': doc.total_magnetization_normalized_formula_units,\n",
    "'num_magnetic_sites': doc.num_magnetic_sites,'num_unique_magnetic_sites': doc.num_unique_magnetic_sites,\n",
    "'types_of_magnetic_species': doc.types_of_magnetic_species,'k_vrh': doc.k_vrh,'g_vrh': doc.g_vrh,'e_total': doc.e_total,'e_ionic': doc.e_ionic,\n",
    "'e_electronic': doc.e_electronic,'n': doc.n,'e_ij_max': doc.e_ij_max,'weighted_surface_energy_EV_PER_ANG2': doc.weighted_surface_energy_EV_PER_ANG2,\n",
    "'weighted_surface_energy': doc.weighted_surface_energy,'weighted_work_function': doc.weighted_work_function,'surface_anisotropy': doc.surface_anisotropy,\n",
    "'shape_factor': doc.shape_factor,'has_reconstructed': doc.has_reconstructed,'possible_species': doc.possible_species,'theoretical': doc.theoretical,\n",
    "        })\n",
    "print(\"Done\")"
   ]
  },
  {
   "cell_type": "code",
   "execution_count": null,
   "metadata": {},
   "outputs": [],
   "source": []
  },
  {
   "cell_type": "code",
   "execution_count": 75,
   "metadata": {},
   "outputs": [
    {
     "data": {
      "text/plain": [
       "'\\nget_material_ids=mpr.summary.search(formula=formulae,fields=[\"material_id\"])\\ndocs_perovskites = mpr.summary.search(formula= formulae,fields=field)  \\nfor i in Perovskite:\\n    print(i.condensed_structure.mineral.type)\\n'"
      ]
     },
     "execution_count": 75,
     "metadata": {},
     "output_type": "execute_result"
    }
   ],
   "source": [
    "def get_formula(s):        \n",
    "    formula = s.split()[0]\n",
    "    subscripts = {\"₀\": \"0\",\"₁\": \"1\", \"₂\": \"2\", \"₃\": \"3\", \"₄\": \"4\", \"₅\": \"5\", \"₆\": \"6\", \"₇\": \"7\",\"₈\": \"8\", \"₉\": \"9\"}\n",
    "    for char in subscripts:\n",
    "        formula = formula.replace(char, subscripts[char])\n",
    "    return formula\n",
    "\n",
    "\"\"\"\n",
    "with MPRester(API_KEY) as mpr:\n",
    "    Perovskite = mpr.robocrys.search(keywords=[\"perovskite\"])\n",
    "formulae1=[]\n",
    "for instance in Perovskite:\n",
    "    formulae1.append(get_formula(instance.description))\n",
    "len(formulae1)\n",
    "\"\"\"\n",
    "\"\"\"\n",
    "get_material_ids=mpr.summary.search(formula=formulae,fields=[\"material_id\"])\n",
    "docs_perovskites = mpr.summary.search(formula= formulae,fields=field)  \n",
    "for i in Perovskite:\n",
    "    print(i.condensed_structure.mineral.type)\n",
    "\"\"\""
   ]
  }
 ],
 "metadata": {
  "kernelspec": {
   "display_name": "Python 3",
   "language": "python",
   "name": "python3"
  },
  "language_info": {
   "codemirror_mode": {
    "name": "ipython",
    "version": 3
   },
   "file_extension": ".py",
   "mimetype": "text/x-python",
   "name": "python",
   "nbconvert_exporter": "python",
   "pygments_lexer": "ipython3",
   "version": "3.11.3"
  },
  "orig_nbformat": 4
 },
 "nbformat": 4,
 "nbformat_minor": 2
}
