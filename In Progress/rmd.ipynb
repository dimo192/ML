{
 "cells": [
  {
   "cell_type": "code",
   "execution_count": 2,
   "metadata": {},
   "outputs": [],
   "source": [
    "from mp_api.client import MPRester\n",
    "API_KEY = \"nsoaeMLdE0cEg9JwKCf8YqOtijLwq0KD\"\n",
    "mpr=MPRester(API_KEY)"
   ]
  },
  {
   "cell_type": "code",
   "execution_count": 3,
   "metadata": {},
   "outputs": [
    {
     "data": {
      "application/vnd.jupyter.widget-view+json": {
       "model_id": "a08b5b4dbfe84551a2011742eba635f3",
       "version_major": 2,
       "version_minor": 0
      },
      "text/plain": [
       "Retrieving MaterialsDoc documents:   0%|          | 0/1 [00:00<?, ?it/s]"
      ]
     },
     "metadata": {},
     "output_type": "display_data"
    },
    {
     "name": "stdout",
     "output_type": "stream",
     "text": [
      "Full Formula (Lu2 Al4)\n",
      "Reduced Formula: LuAl2\n",
      "abc   :   5.453441   5.453442   5.453442\n",
      "angles:  59.999994  59.999988  60.000012\n",
      "pbc   :       True       True       True\n",
      "Sites (6)\n",
      "  #  SP        a       b      c    magmom\n",
      "---  ----  -----  ------  -----  --------\n",
      "  0  Lu    0.875   0.875  0.875        -0\n",
      "  1  Lu    0.125   0.125  0.125        -0\n",
      "  2  Al    0.5     0.5    0.5          -0\n",
      "  3  Al    0.5     0.5    0            -0\n",
      "  4  Al    0       0.5    0.5          -0\n",
      "  5  Al    0.5    -0      0.5          -0\n"
     ]
    }
   ],
   "source": [
    "material_id = \"mp-1234\"\n",
    "\n",
    "# use the get_data() method to retrieve the robocrys description for the material ID\n",
    "#data = mpr.get_data(material_id, data_type=\"robocrys\")\n",
    "data2=mpr.get_structure_by_material_id(material_id)\n",
    "\n",
    "print(data2)"
   ]
  },
  {
   "cell_type": "code",
   "execution_count": 14,
   "metadata": {},
   "outputs": [],
   "source": [
    "from robocrys import StructureDescriber,StructureCondenser,common_formulas\n",
    "structure=data2"
   ]
  },
  {
   "cell_type": "code",
   "execution_count": 15,
   "metadata": {},
   "outputs": [
    {
     "name": "stderr",
     "output_type": "stream",
     "text": [
      "Reading file c:\\Users\\sunil\\AppData\\Local\\Programs\\Python\\Python311\\Lib\\site-packages\\robocrys\\condense\\mineral_db.json.gz: 0it [00:00, ?it/s]####6 | 156/180 [00:00<00:00, 468.71it/s]\n",
      "Decoding objects from c:\\Users\\sunil\\AppData\\Local\\Programs\\Python\\Python311\\Lib\\site-packages\\robocrys\\condense\\mineral_db.json.gz: 100%|##########| 180/180 [00:00<00:00, 388.51it/s]\n",
      "No oxidation states specified on sites! For better results, set the site oxidation states in the structure.\n",
      "CrystalNN: cannot locate an appropriate radius, covalent or atomic radii will be used, this can lead to non-optimal results.\n",
      "No oxidation states specified on sites! For better results, set the site oxidation states in the structure.\n",
      "CrystalNN: cannot locate an appropriate radius, covalent or atomic radii will be used, this can lead to non-optimal results.\n"
     ]
    },
    {
     "ename": "AttributeError",
     "evalue": "type object 'StructureCondenser' has no attribute 'from_structure'",
     "output_type": "error",
     "traceback": [
      "\u001b[1;31m---------------------------------------------------------------------------\u001b[0m",
      "\u001b[1;31mAttributeError\u001b[0m                            Traceback (most recent call last)",
      "Cell \u001b[1;32mIn[15], line 4\u001b[0m\n\u001b[0;32m      2\u001b[0m condensed_structure \u001b[39m=\u001b[39m condenser\u001b[39m.\u001b[39mcondense_structure(structure)\n\u001b[0;32m      3\u001b[0m \u001b[39m# create a CondensedStructure object using the condensed structure\u001b[39;00m\n\u001b[1;32m----> 4\u001b[0m cs \u001b[39m=\u001b[39m StructureCondenser\u001b[39m.\u001b[39;49mfrom_structure(condensed_structure)\n\u001b[0;32m      5\u001b[0m \u001b[39m# use the common_formulas() method to generate a crystal structure description\u001b[39;00m\n\u001b[0;32m      6\u001b[0m description \u001b[39m=\u001b[39m common_formulas(cs)\n",
      "\u001b[1;31mAttributeError\u001b[0m: type object 'StructureCondenser' has no attribute 'from_structure'"
     ]
    }
   ],
   "source": [
    "condenser = StructureCondenser()\n",
    "condensed_structure = condenser.condense_structure(structure)\n",
    "# create a CondensedStructure object using the condensed structure\n",
    "cs = StructureCondenser.from_structure(condensed_structure)\n",
    "# use the common_formulas() method to generate a crystal structure description\n",
    "description = common_formulas(cs)\n",
    "# print the crystal structure description\n",
    "print(description)"
   ]
  }
 ],
 "metadata": {
  "kernelspec": {
   "display_name": "Python 3",
   "language": "python",
   "name": "python3"
  },
  "language_info": {
   "codemirror_mode": {
    "name": "ipython",
    "version": 3
   },
   "file_extension": ".py",
   "mimetype": "text/x-python",
   "name": "python",
   "nbconvert_exporter": "python",
   "pygments_lexer": "ipython3",
   "version": "3.11.3"
  },
  "orig_nbformat": 4
 },
 "nbformat": 4,
 "nbformat_minor": 2
}
