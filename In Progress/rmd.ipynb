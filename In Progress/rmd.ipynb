{
 "cells": [
  {
   "cell_type": "code",
   "execution_count": 46,
   "metadata": {},
   "outputs": [],
   "source": [
    "from mp_api.client import MPRester\n",
    "import csv\n",
    "API_KEY = \"nsoaeMLdE0cEg9JwKCf8YqOtijLwq0KD\"\n",
    "mpr=MPRester(API_KEY)"
   ]
  },
  {
   "cell_type": "code",
   "execution_count": 47,
   "metadata": {},
   "outputs": [],
   "source": [
    "field=[ 'nsites', 'elements', 'nelements', 'composition', 'composition_reduced', 'formula_pretty', 'formula_anonymous', 'chemsys', 'volume', 'density', 'density_atomic', 'symmetry',  'material_id',  'uncorrected_energy_per_atom', 'energy_per_atom', 'formation_energy_per_atom', 'energy_above_hull', 'is_stable', 'grain_boundaries', 'band_gap', 'cbm', 'vbm', 'efermi', 'is_gap_direct', 'is_metal',  'is_magnetic', 'ordering', 'total_magnetization', 'total_magnetization_normalized_vol', 'total_magnetization_normalized_formula_units', 'num_magnetic_sites', 'num_unique_magnetic_sites', 'types_of_magnetic_species', 'k_vrh', 'g_vrh','e_total', 'e_ionic', 'e_electronic', 'n', 'e_ij_max', 'weighted_surface_energy_EV_PER_ANG2', 'weighted_surface_energy', 'weighted_work_function', 'surface_anisotropy', 'shape_factor', 'has_reconstructed', 'possible_species',  'theoretical']\n"
   ]
  },
  {
   "cell_type": "code",
   "execution_count": 48,
   "metadata": {},
   "outputs": [
    {
     "data": {
      "application/vnd.jupyter.widget-view+json": {
       "model_id": "0d7f2196dc4d4c78897f997d37fe952e",
       "version_major": 2,
       "version_minor": 0
      },
      "text/plain": [
       "Retrieving SummaryDoc documents:   0%|          | 0/4646 [00:00<?, ?it/s]"
      ]
     },
     "metadata": {},
     "output_type": "display_data"
    },
    {
     "data": {
      "application/vnd.jupyter.widget-view+json": {
       "model_id": "012f7ae11a174135b7010f5c76ff7ca2",
       "version_major": 2,
       "version_minor": 0
      },
      "text/plain": [
       "Retrieving SummaryDoc documents:   0%|          | 0/1870 [00:00<?, ?it/s]"
      ]
     },
     "metadata": {},
     "output_type": "display_data"
    },
    {
     "data": {
      "application/vnd.jupyter.widget-view+json": {
       "model_id": "91e173749ba34088b225cbe6e140d8e3",
       "version_major": 2,
       "version_minor": 0
      },
      "text/plain": [
       "Retrieving SummaryDoc documents:   0%|          | 0/4735 [00:00<?, ?it/s]"
      ]
     },
     "metadata": {},
     "output_type": "display_data"
    },
    {
     "data": {
      "application/vnd.jupyter.widget-view+json": {
       "model_id": "912bf84273534f5ca02e377f553f66d4",
       "version_major": 2,
       "version_minor": 0
      },
      "text/plain": [
       "Retrieving SummaryDoc documents:   0%|          | 0/1184 [00:00<?, ?it/s]"
      ]
     },
     "metadata": {},
     "output_type": "display_data"
    }
   ],
   "source": [
    "ABC3=mpr.summary.search(formula=\"ABC3\",fields=field)\n",
    "ABCDE6=mpr.summary.search(formula=\"ABCDE6\",fields=field)\n",
    "ABC2E6=mpr.summary.search(formula=\"ABC2E6\",fields=field)\n",
    "AB3E6=mpr.summary.search(formula=\"AB3E6\",fields=field)"
   ]
  },
  {
   "cell_type": "code",
   "execution_count": 49,
   "metadata": {},
   "outputs": [],
   "source": [
    "Final_data=ABC3+ABCDE6+ABC2E6+AB3E6"
   ]
  },
  {
   "cell_type": "code",
   "execution_count": 51,
   "metadata": {},
   "outputs": [
    {
     "data": {
      "text/plain": [
       "12435"
      ]
     },
     "execution_count": 51,
     "metadata": {},
     "output_type": "execute_result"
    }
   ],
   "source": [
    "len(Final_data)"
   ]
  },
  {
   "cell_type": "code",
   "execution_count": 54,
   "metadata": {},
   "outputs": [
    {
     "name": "stdout",
     "output_type": "stream",
     "text": [
      "Orthorhombic\n"
     ]
    }
   ],
   "source": [
    "t=Final_data[0].symmetry.crystal_system\n",
    "print(t)\n",
    "data=Final_data"
   ]
  },
  {
   "cell_type": "code",
   "execution_count": 57,
   "metadata": {},
   "outputs": [],
   "source": [
    "structure=[]\n",
    "for instance in Final_data:\n",
    "    structure.append(instance.symmetry.crystal_system)"
   ]
  },
  {
   "cell_type": "code",
   "execution_count": 59,
   "metadata": {},
   "outputs": [
    {
     "name": "stdout",
     "output_type": "stream",
     "text": [
      "Orthorhombic: 1972\n",
      "Hexagonal: 340\n",
      "Trigonal: 755\n",
      "Cubic: 5948\n",
      "Triclinic: 738\n",
      "Tetragonal: 641\n",
      "Monoclinic: 2041\n"
     ]
    }
   ],
   "source": [
    "from collections import Counter\n",
    "my_list=structure\n",
    "counted = Counter(my_list)\n",
    "for element, count in counted.items():\n",
    "    print(f\"{element}: {count}\")"
   ]
  },
  {
   "cell_type": "code",
   "execution_count": 56,
   "metadata": {},
   "outputs": [
    {
     "name": "stdout",
     "output_type": "stream",
     "text": [
      "['nsites', 'elements', 'nelements', 'composition']\n",
      "['composition_reduced', 'formula_pretty', 'formula_anonymous', 'chemsys']\n",
      "['volume', 'density', 'density_atomic', 'symmetry']\n",
      "['material_id', 'uncorrected_energy_per_atom', 'energy_per_atom', 'formation_energy_per_atom']\n",
      "['energy_above_hull', 'is_stable', 'grain_boundaries', 'band_gap']\n",
      "['cbm', 'vbm', 'efermi', 'is_gap_direct']\n",
      "['is_metal', 'is_magnetic', 'ordering', 'total_magnetization']\n",
      "['total_magnetization_normalized_vol', 'total_magnetization_normalized_formula_units', 'num_magnetic_sites', 'num_unique_magnetic_sites']\n",
      "['types_of_magnetic_species', 'k_vrh', 'g_vrh', 'e_total']\n",
      "['e_ionic', 'e_electronic', 'n', 'e_ij_max']\n",
      "['weighted_surface_energy_EV_PER_ANG2', 'weighted_surface_energy', 'weighted_work_function', 'surface_anisotropy']\n",
      "['shape_factor', 'has_reconstructed', 'possible_species', 'theoretical']\n"
     ]
    }
   ],
   "source": [
    "for i in range(0,len(field),4):\n",
    "    print(field[i:i+4])"
   ]
  },
  {
   "cell_type": "code",
   "execution_count": null,
   "metadata": {},
   "outputs": [],
   "source": [
    "with open('data_endsem.csv', mode='w', newline='') as file:\n",
    "    fieldnames = [\"Shape\"]+field\n",
    "    writer = csv.DictWriter(file, fieldnames=fieldnames)\n",
    "    writer.writeheader()\n",
    "    for doc in data:\n",
    "        x3=doc.symmetry.crystal_system\n",
    "        writer.writerow({'Shape':x3,'nsites': doc.nsites,'elements': doc.elements,'nelements': doc.nelements,'composition': doc.composition,\n",
    "'composition_reduced': doc.composition_reduced,'formula_pretty': doc.formula_pretty,'formula_anonymous': doc.formula_anonymous,\n",
    "'chemsys': doc.chemsys,'volume': doc.volume,'density': doc.density,'density_atomic': doc.density_atomic,'symmetry': doc.symmetry,\n",
    "'material_id': doc.material_id,'uncorrected_energy_per_atom': doc.uncorrected_energy_per_atom,'energy_per_atom': doc.energy_per_atom,\n",
    "'formation_energy_per_atom': doc.formation_energy_per_atom,'energy_above_hull': doc.energy_above_hull,'is_stable': doc.is_stable,\n",
    "'grain_boundaries': doc.grain_boundaries,'band_gap': doc.band_gap,'cbm': doc.cbm,'vbm': doc.vbm,'efermi': doc.efermi,\n",
    "'is_gap_direct': doc.is_gap_direct,'is_metal': doc.is_metal,'is_magnetic': doc.is_magnetic,'ordering': doc.ordering,\n",
    "'total_magnetization': doc.total_magnetization,'total_magnetization_normalized_vol': doc.total_magnetization_normalized_vol,\n",
    "'total_magnetization_normalized_formula_units': doc.total_magnetization_normalized_formula_units,\n",
    "'num_magnetic_sites': doc.num_magnetic_sites,'num_unique_magnetic_sites': doc.num_unique_magnetic_sites,\n",
    "'types_of_magnetic_species': doc.types_of_magnetic_species,'k_vrh': doc.k_vrh,'g_vrh': doc.g_vrh,'e_total': doc.e_total,'e_ionic': doc.e_ionic,\n",
    "'e_electronic': doc.e_electronic,'n': doc.n,'e_ij_max': doc.e_ij_max,'weighted_surface_energy_EV_PER_ANG2': doc.weighted_surface_energy_EV_PER_ANG2,\n",
    "'weighted_surface_energy': doc.weighted_surface_energy,'weighted_work_function': doc.weighted_work_function,'surface_anisotropy': doc.surface_anisotropy,\n",
    "'shape_factor': doc.shape_factor,'has_reconstructed': doc.has_reconstructed,'possible_species': doc.possible_species,'theoretical': doc.theoretical,\n",
    "        })\n",
    "print(\"Done\")"
   ]
  },
  {
   "cell_type": "code",
   "execution_count": null,
   "metadata": {},
   "outputs": [],
   "source": []
  },
  {
   "cell_type": "code",
   "execution_count": 50,
   "metadata": {},
   "outputs": [
    {
     "data": {
      "text/plain": [
       "'\\nget_material_ids=mpr.summary.search(formula=formulae,fields=[\"material_id\"])\\ndocs_perovskites = mpr.summary.search(formula= formulae,fields=field)  \\nfor i in Perovskite:\\n    print(i.condensed_structure.mineral.type)\\n'"
      ]
     },
     "execution_count": 50,
     "metadata": {},
     "output_type": "execute_result"
    }
   ],
   "source": [
    "def get_formula(s):        \n",
    "    formula = s.split()[0]\n",
    "    subscripts = {\"₀\": \"0\",\"₁\": \"1\", \"₂\": \"2\", \"₃\": \"3\", \"₄\": \"4\", \"₅\": \"5\", \"₆\": \"6\", \"₇\": \"7\",\"₈\": \"8\", \"₉\": \"9\"}\n",
    "    for char in subscripts:\n",
    "        formula = formula.replace(char, subscripts[char])\n",
    "    return formula\n",
    "\n",
    "\"\"\"\n",
    "with MPRester(API_KEY) as mpr:\n",
    "    Perovskite = mpr.robocrys.search(keywords=[\"perovskite\"])\n",
    "formulae1=[]\n",
    "for instance in Perovskite:\n",
    "    formulae1.append(get_formula(instance.description))\n",
    "len(formulae1)\n",
    "\"\"\"\n",
    "\"\"\"\n",
    "get_material_ids=mpr.summary.search(formula=formulae,fields=[\"material_id\"])\n",
    "docs_perovskites = mpr.summary.search(formula= formulae,fields=field)  \n",
    "for i in Perovskite:\n",
    "    print(i.condensed_structure.mineral.type)\n",
    "\"\"\""
   ]
  }
 ],
 "metadata": {
  "kernelspec": {
   "display_name": "Python 3",
   "language": "python",
   "name": "python3"
  },
  "language_info": {
   "codemirror_mode": {
    "name": "ipython",
    "version": 3
   },
   "file_extension": ".py",
   "mimetype": "text/x-python",
   "name": "python",
   "nbconvert_exporter": "python",
   "pygments_lexer": "ipython3",
   "version": "3.11.3"
  },
  "orig_nbformat": 4
 },
 "nbformat": 4,
 "nbformat_minor": 2
}
